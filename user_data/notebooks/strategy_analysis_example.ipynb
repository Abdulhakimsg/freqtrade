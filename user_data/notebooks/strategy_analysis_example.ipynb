{
 "cells": [
  {
   "cell_type": "markdown",
   "metadata": {},
   "source": [
    "# Strategy analysis example\n",
    "\n",
    "Debugging a strategy can be time-consuming. Freqtrade offers helper functions to visualize raw data.\n",
    "The following assumes you work with SampleStrategy, data for 5m timeframe from Binance and have downloaded them into the data directory in the default location."
   ]
  },
  {
   "cell_type": "markdown",
   "metadata": {},
   "source": [
    "## Setup"
   ]
  },
  {
   "cell_type": "code",
   "execution_count": 1,
   "metadata": {},
   "outputs": [
    {
     "name": "stdout",
     "output_type": "stream",
     "text": [
      "/freqtrade\n"
     ]
    }
   ],
   "source": [
    "import os\n",
    "from pathlib import Path\n",
    "\n",
    "# Change directory\n",
    "# Modify this cell to insure that the output shows the correct path.\n",
    "# Define all paths relative to the project root shown in the cell output\n",
    "project_root = \"/freqtrade\"\n",
    "i=0\n",
    "try:\n",
    "    os.chdirdir(project_root)\n",
    "    assert Path('LICENSE').is_file()\n",
    "except:\n",
    "    while i<4 and (not Path('LICENSE').is_file()):\n",
    "        os.chdir(Path(Path.cwd(), '../'))\n",
    "        i+=1\n",
    "    project_root = Path.cwd()\n",
    "print(Path.cwd())"
   ]
  },
  {
   "cell_type": "code",
   "execution_count": 2,
   "metadata": {},
   "outputs": [],
   "source": [
    "from pathlib import Path\n",
    "from freqtrade.configuration import Configuration\n",
    "from freqtrade.data.dataprovider import DataProvider\n",
    "from freqtrade.resolvers import ExchangeResolver\n",
    "from freqtrade.plugins.pairlistmanager import PairListManager\n",
    "\n",
    "import nest_asyncio\n",
    "nest_asyncio.apply()\n",
    "\n",
    "# Customize these according to your needs.\n",
    "configs=[\"test.json\"]\n",
    "\n",
    "# Initialize empty configuration object\n",
    "config = Configuration.from_files(files=configs)\n",
    "# Optionally, use existing configuration file\n",
    "# config = Configuration.from_files([\"config.json\"])\n",
    "\n",
    "# Define some constants\n",
    "config[\"timeframe\"] = \"5m\"\n",
    "# Name of the strategy class\n",
    "config[\"strategy\"] = \"NostalgiaForInfinityV4\"\n",
    "# Location of the data\n",
    "data_location = Path(config['user_data_dir'], 'data', 'binance')\n",
    "\n",
    "# Pair to analyze - Only use one pair here\n",
    "pair = \"TFUEL/USDT\"\n",
    "\n",
    "exchange = ExchangeResolver.load_exchange(config['exchange']['name'], config=config, validate=True)\n",
    "pairlist = PairListManager(exchange, config)\n",
    "dataprovider = DataProvider(config, exchange, pairlist)"
   ]
  },
  {
   "cell_type": "code",
   "execution_count": 3,
   "metadata": {},
   "outputs": [
    {
     "name": "stdout",
     "output_type": "stream",
     "text": [
      "Loaded 45194 rows of data for TFUEL/USDT from /freqtrade/user_data/data/binance\n"
     ]
    },
    {
     "data": {
      "text/html": [
       "<div>\n",
       "<style scoped>\n",
       "    .dataframe tbody tr th:only-of-type {\n",
       "        vertical-align: middle;\n",
       "    }\n",
       "\n",
       "    .dataframe tbody tr th {\n",
       "        vertical-align: top;\n",
       "    }\n",
       "\n",
       "    .dataframe thead th {\n",
       "        text-align: right;\n",
       "    }\n",
       "</style>\n",
       "<table border=\"1\" class=\"dataframe\">\n",
       "  <thead>\n",
       "    <tr style=\"text-align: right;\">\n",
       "      <th></th>\n",
       "      <th>date</th>\n",
       "      <th>open</th>\n",
       "      <th>high</th>\n",
       "      <th>low</th>\n",
       "      <th>close</th>\n",
       "      <th>volume</th>\n",
       "    </tr>\n",
       "  </thead>\n",
       "  <tbody>\n",
       "    <tr>\n",
       "      <th>0</th>\n",
       "      <td>2021-01-01 00:00:00+00:00</td>\n",
       "      <td>0.033330</td>\n",
       "      <td>0.033330</td>\n",
       "      <td>0.032340</td>\n",
       "      <td>0.032500</td>\n",
       "      <td>3350088.0</td>\n",
       "    </tr>\n",
       "    <tr>\n",
       "      <th>1</th>\n",
       "      <td>2021-01-01 00:05:00+00:00</td>\n",
       "      <td>0.032500</td>\n",
       "      <td>0.032621</td>\n",
       "      <td>0.032013</td>\n",
       "      <td>0.032408</td>\n",
       "      <td>3429822.0</td>\n",
       "    </tr>\n",
       "    <tr>\n",
       "      <th>2</th>\n",
       "      <td>2021-01-01 00:10:00+00:00</td>\n",
       "      <td>0.032408</td>\n",
       "      <td>0.033068</td>\n",
       "      <td>0.032281</td>\n",
       "      <td>0.032950</td>\n",
       "      <td>3866771.0</td>\n",
       "    </tr>\n",
       "    <tr>\n",
       "      <th>3</th>\n",
       "      <td>2021-01-01 00:15:00+00:00</td>\n",
       "      <td>0.032828</td>\n",
       "      <td>0.033054</td>\n",
       "      <td>0.032300</td>\n",
       "      <td>0.032581</td>\n",
       "      <td>1858484.0</td>\n",
       "    </tr>\n",
       "    <tr>\n",
       "      <th>4</th>\n",
       "      <td>2021-01-01 00:20:00+00:00</td>\n",
       "      <td>0.032417</td>\n",
       "      <td>0.032560</td>\n",
       "      <td>0.031956</td>\n",
       "      <td>0.032118</td>\n",
       "      <td>2844781.0</td>\n",
       "    </tr>\n",
       "  </tbody>\n",
       "</table>\n",
       "</div>"
      ],
      "text/plain": [
       "                       date      open      high       low     close     volume\n",
       "0 2021-01-01 00:00:00+00:00  0.033330  0.033330  0.032340  0.032500  3350088.0\n",
       "1 2021-01-01 00:05:00+00:00  0.032500  0.032621  0.032013  0.032408  3429822.0\n",
       "2 2021-01-01 00:10:00+00:00  0.032408  0.033068  0.032281  0.032950  3866771.0\n",
       "3 2021-01-01 00:15:00+00:00  0.032828  0.033054  0.032300  0.032581  1858484.0\n",
       "4 2021-01-01 00:20:00+00:00  0.032417  0.032560  0.031956  0.032118  2844781.0"
      ]
     },
     "execution_count": 3,
     "metadata": {},
     "output_type": "execute_result"
    }
   ],
   "source": [
    "# Load data using values set above\n",
    "from freqtrade.data.history import load_pair_history\n",
    "\n",
    "candles = load_pair_history(datadir=data_location,\n",
    "                            timeframe=config[\"timeframe\"],\n",
    "                            pair=pair,\n",
    "                            )\n",
    "\n",
    "# Confirm success\n",
    "print(\"Loaded \" + str(len(candles)) + f\" rows of data for {pair} from {data_location}\")\n",
    "candles.head()"
   ]
  },
  {
   "cell_type": "markdown",
   "metadata": {},
   "source": [
    "## Load and run strategy\n",
    "* Rerun each time the strategy file is changed"
   ]
  },
  {
   "cell_type": "code",
   "execution_count": 4,
   "metadata": {},
   "outputs": [
    {
     "data": {
      "text/html": [
       "<div>\n",
       "<style scoped>\n",
       "    .dataframe tbody tr th:only-of-type {\n",
       "        vertical-align: middle;\n",
       "    }\n",
       "\n",
       "    .dataframe tbody tr th {\n",
       "        vertical-align: top;\n",
       "    }\n",
       "\n",
       "    .dataframe thead th {\n",
       "        text-align: right;\n",
       "    }\n",
       "</style>\n",
       "<table border=\"1\" class=\"dataframe\">\n",
       "  <thead>\n",
       "    <tr style=\"text-align: right;\">\n",
       "      <th></th>\n",
       "      <th>date</th>\n",
       "      <th>open</th>\n",
       "      <th>high</th>\n",
       "      <th>low</th>\n",
       "      <th>close</th>\n",
       "      <th>volume</th>\n",
       "      <th>date_1h</th>\n",
       "      <th>open_1h</th>\n",
       "      <th>high_1h</th>\n",
       "      <th>low_1h</th>\n",
       "      <th>...</th>\n",
       "      <th>smma_teeth</th>\n",
       "      <th>jaw</th>\n",
       "      <th>smma_jaw</th>\n",
       "      <th>rsi</th>\n",
       "      <th>safe_dips</th>\n",
       "      <th>safe_dips_strict</th>\n",
       "      <th>volume_mean_4</th>\n",
       "      <th>volume_mean_30</th>\n",
       "      <th>buy</th>\n",
       "      <th>sell</th>\n",
       "    </tr>\n",
       "  </thead>\n",
       "  <tbody>\n",
       "    <tr>\n",
       "      <th>45189</th>\n",
       "      <td>2021-06-06 21:45:00+00:00</td>\n",
       "      <td>0.45643</td>\n",
       "      <td>0.45830</td>\n",
       "      <td>0.45447</td>\n",
       "      <td>0.45623</td>\n",
       "      <td>708344.2</td>\n",
       "      <td>2021-06-06 20:00:00+00:00</td>\n",
       "      <td>0.44555</td>\n",
       "      <td>0.45890</td>\n",
       "      <td>0.44472</td>\n",
       "      <td>...</td>\n",
       "      <td>0.459487</td>\n",
       "      <td>0.458207</td>\n",
       "      <td>0.455398</td>\n",
       "      <td>53.720667</td>\n",
       "      <td>True</td>\n",
       "      <td>True</td>\n",
       "      <td>1607604.250</td>\n",
       "      <td>9.408214e+05</td>\n",
       "      <td>NaN</td>\n",
       "      <td>NaN</td>\n",
       "    </tr>\n",
       "    <tr>\n",
       "      <th>45190</th>\n",
       "      <td>2021-06-06 21:50:00+00:00</td>\n",
       "      <td>0.45608</td>\n",
       "      <td>0.46850</td>\n",
       "      <td>0.45570</td>\n",
       "      <td>0.46850</td>\n",
       "      <td>1466753.0</td>\n",
       "      <td>2021-06-06 20:00:00+00:00</td>\n",
       "      <td>0.44555</td>\n",
       "      <td>0.45890</td>\n",
       "      <td>0.44472</td>\n",
       "      <td>...</td>\n",
       "      <td>0.460149</td>\n",
       "      <td>0.459510</td>\n",
       "      <td>0.456244</td>\n",
       "      <td>65.700965</td>\n",
       "      <td>True</td>\n",
       "      <td>True</td>\n",
       "      <td>848222.125</td>\n",
       "      <td>9.617770e+05</td>\n",
       "      <td>NaN</td>\n",
       "      <td>NaN</td>\n",
       "    </tr>\n",
       "    <tr>\n",
       "      <th>45191</th>\n",
       "      <td>2021-06-06 21:55:00+00:00</td>\n",
       "      <td>0.46805</td>\n",
       "      <td>0.46805</td>\n",
       "      <td>0.46248</td>\n",
       "      <td>0.46537</td>\n",
       "      <td>1463126.6</td>\n",
       "      <td>2021-06-06 21:00:00+00:00</td>\n",
       "      <td>0.45524</td>\n",
       "      <td>0.47168</td>\n",
       "      <td>0.45300</td>\n",
       "      <td>...</td>\n",
       "      <td>0.460780</td>\n",
       "      <td>0.460441</td>\n",
       "      <td>0.457177</td>\n",
       "      <td>61.338817</td>\n",
       "      <td>True</td>\n",
       "      <td>True</td>\n",
       "      <td>956665.925</td>\n",
       "      <td>9.880188e+05</td>\n",
       "      <td>NaN</td>\n",
       "      <td>NaN</td>\n",
       "    </tr>\n",
       "    <tr>\n",
       "      <th>45192</th>\n",
       "      <td>2021-06-06 22:00:00+00:00</td>\n",
       "      <td>0.46538</td>\n",
       "      <td>0.46999</td>\n",
       "      <td>0.46195</td>\n",
       "      <td>0.46645</td>\n",
       "      <td>1445914.6</td>\n",
       "      <td>2021-06-06 21:00:00+00:00</td>\n",
       "      <td>0.45524</td>\n",
       "      <td>0.47168</td>\n",
       "      <td>0.45300</td>\n",
       "      <td>...</td>\n",
       "      <td>0.461457</td>\n",
       "      <td>0.461303</td>\n",
       "      <td>0.458162</td>\n",
       "      <td>62.269675</td>\n",
       "      <td>True</td>\n",
       "      <td>True</td>\n",
       "      <td>1185755.650</td>\n",
       "      <td>1.011048e+06</td>\n",
       "      <td>NaN</td>\n",
       "      <td>NaN</td>\n",
       "    </tr>\n",
       "    <tr>\n",
       "      <th>45193</th>\n",
       "      <td>2021-06-06 22:05:00+00:00</td>\n",
       "      <td>0.46967</td>\n",
       "      <td>0.46995</td>\n",
       "      <td>0.45999</td>\n",
       "      <td>0.46037</td>\n",
       "      <td>727698.9</td>\n",
       "      <td>2021-06-06 21:00:00+00:00</td>\n",
       "      <td>0.45524</td>\n",
       "      <td>0.47168</td>\n",
       "      <td>0.45300</td>\n",
       "      <td>...</td>\n",
       "      <td>0.462025</td>\n",
       "      <td>0.461355</td>\n",
       "      <td>0.458977</td>\n",
       "      <td>54.337818</td>\n",
       "      <td>False</td>\n",
       "      <td>False</td>\n",
       "      <td>1271034.600</td>\n",
       "      <td>1.026726e+06</td>\n",
       "      <td>NaN</td>\n",
       "      <td>NaN</td>\n",
       "    </tr>\n",
       "  </tbody>\n",
       "</table>\n",
       "<p>5 rows × 60 columns</p>\n",
       "</div>"
      ],
      "text/plain": [
       "                           date     open     high      low    close  \\\n",
       "45189 2021-06-06 21:45:00+00:00  0.45643  0.45830  0.45447  0.45623   \n",
       "45190 2021-06-06 21:50:00+00:00  0.45608  0.46850  0.45570  0.46850   \n",
       "45191 2021-06-06 21:55:00+00:00  0.46805  0.46805  0.46248  0.46537   \n",
       "45192 2021-06-06 22:00:00+00:00  0.46538  0.46999  0.46195  0.46645   \n",
       "45193 2021-06-06 22:05:00+00:00  0.46967  0.46995  0.45999  0.46037   \n",
       "\n",
       "          volume                   date_1h  open_1h  high_1h   low_1h  ...  \\\n",
       "45189   708344.2 2021-06-06 20:00:00+00:00  0.44555  0.45890  0.44472  ...   \n",
       "45190  1466753.0 2021-06-06 20:00:00+00:00  0.44555  0.45890  0.44472  ...   \n",
       "45191  1463126.6 2021-06-06 21:00:00+00:00  0.45524  0.47168  0.45300  ...   \n",
       "45192  1445914.6 2021-06-06 21:00:00+00:00  0.45524  0.47168  0.45300  ...   \n",
       "45193   727698.9 2021-06-06 21:00:00+00:00  0.45524  0.47168  0.45300  ...   \n",
       "\n",
       "       smma_teeth       jaw  smma_jaw        rsi  safe_dips  safe_dips_strict  \\\n",
       "45189    0.459487  0.458207  0.455398  53.720667       True              True   \n",
       "45190    0.460149  0.459510  0.456244  65.700965       True              True   \n",
       "45191    0.460780  0.460441  0.457177  61.338817       True              True   \n",
       "45192    0.461457  0.461303  0.458162  62.269675       True              True   \n",
       "45193    0.462025  0.461355  0.458977  54.337818      False             False   \n",
       "\n",
       "       volume_mean_4  volume_mean_30  buy  sell  \n",
       "45189    1607604.250    9.408214e+05  NaN   NaN  \n",
       "45190     848222.125    9.617770e+05  NaN   NaN  \n",
       "45191     956665.925    9.880188e+05  NaN   NaN  \n",
       "45192    1185755.650    1.011048e+06  NaN   NaN  \n",
       "45193    1271034.600    1.026726e+06  NaN   NaN  \n",
       "\n",
       "[5 rows x 60 columns]"
      ]
     },
     "execution_count": 4,
     "metadata": {},
     "output_type": "execute_result"
    }
   ],
   "source": [
    "# Load strategy using values set above\n",
    "from freqtrade.resolvers import StrategyResolver\n",
    "strategy = StrategyResolver.load_strategy(config)\n",
    "strategy.dp = dataprovider\n",
    "\n",
    "# Generate buy/sell signals using strategy\n",
    "df = strategy.analyze_ticker(candles, {'pair': pair})\n",
    "df.tail()"
   ]
  },
  {
   "cell_type": "markdown",
   "metadata": {},
   "source": [
    "### Display the trade details\n",
    "\n",
    "* Note that using `data.head()` would also work, however most indicators have some \"startup\" data at the top of the dataframe.\n",
    "* Some possible problems\n",
    "    * Columns with NaN values at the end of the dataframe\n",
    "    * Columns used in `crossed*()` functions with completely different units\n",
    "* Comparison with full backtest\n",
    "    * having 200 buy signals as output for one pair from `analyze_ticker()` does not necessarily mean that 200 trades will be made during backtesting.\n",
    "    * Assuming you use only one condition such as, `df['rsi'] < 30` as buy condition, this will generate multiple \"buy\" signals for each pair in sequence (until rsi returns > 29). The bot will only buy on the first of these signals (and also only if a trade-slot (\"max_open_trades\") is still available), or on one of the middle signals, as soon as a \"slot\" becomes available.  \n"
   ]
  },
  {
   "cell_type": "code",
   "execution_count": 5,
   "metadata": {},
   "outputs": [
    {
     "name": "stdout",
     "output_type": "stream",
     "text": [
      "Generated 70.0 buy signals\n"
     ]
    },
    {
     "data": {
      "text/html": [
       "<div>\n",
       "<style scoped>\n",
       "    .dataframe tbody tr th:only-of-type {\n",
       "        vertical-align: middle;\n",
       "    }\n",
       "\n",
       "    .dataframe tbody tr th {\n",
       "        vertical-align: top;\n",
       "    }\n",
       "\n",
       "    .dataframe thead th {\n",
       "        text-align: right;\n",
       "    }\n",
       "</style>\n",
       "<table border=\"1\" class=\"dataframe\">\n",
       "  <thead>\n",
       "    <tr style=\"text-align: right;\">\n",
       "      <th></th>\n",
       "      <th>date</th>\n",
       "      <th>open</th>\n",
       "      <th>high</th>\n",
       "      <th>low</th>\n",
       "      <th>close</th>\n",
       "      <th>volume</th>\n",
       "      <th>date_1h</th>\n",
       "      <th>open_1h</th>\n",
       "      <th>high_1h</th>\n",
       "      <th>low_1h</th>\n",
       "      <th>...</th>\n",
       "      <th>smma_teeth</th>\n",
       "      <th>jaw</th>\n",
       "      <th>smma_jaw</th>\n",
       "      <th>rsi</th>\n",
       "      <th>safe_dips</th>\n",
       "      <th>safe_dips_strict</th>\n",
       "      <th>volume_mean_4</th>\n",
       "      <th>volume_mean_30</th>\n",
       "      <th>buy</th>\n",
       "      <th>sell</th>\n",
       "    </tr>\n",
       "    <tr>\n",
       "      <th>date</th>\n",
       "      <th></th>\n",
       "      <th></th>\n",
       "      <th></th>\n",
       "      <th></th>\n",
       "      <th></th>\n",
       "      <th></th>\n",
       "      <th></th>\n",
       "      <th></th>\n",
       "      <th></th>\n",
       "      <th></th>\n",
       "      <th></th>\n",
       "      <th></th>\n",
       "      <th></th>\n",
       "      <th></th>\n",
       "      <th></th>\n",
       "      <th></th>\n",
       "      <th></th>\n",
       "      <th></th>\n",
       "      <th></th>\n",
       "      <th></th>\n",
       "      <th></th>\n",
       "    </tr>\n",
       "  </thead>\n",
       "  <tbody>\n",
       "    <tr>\n",
       "      <th>2021-06-06 21:45:00+00:00</th>\n",
       "      <td>2021-06-06 21:45:00+00:00</td>\n",
       "      <td>0.45643</td>\n",
       "      <td>0.45830</td>\n",
       "      <td>0.45447</td>\n",
       "      <td>0.45623</td>\n",
       "      <td>708344.2</td>\n",
       "      <td>2021-06-06 20:00:00+00:00</td>\n",
       "      <td>0.44555</td>\n",
       "      <td>0.45890</td>\n",
       "      <td>0.44472</td>\n",
       "      <td>...</td>\n",
       "      <td>0.459487</td>\n",
       "      <td>0.458207</td>\n",
       "      <td>0.455398</td>\n",
       "      <td>53.720667</td>\n",
       "      <td>True</td>\n",
       "      <td>True</td>\n",
       "      <td>1607604.250</td>\n",
       "      <td>9.408214e+05</td>\n",
       "      <td>NaN</td>\n",
       "      <td>NaN</td>\n",
       "    </tr>\n",
       "    <tr>\n",
       "      <th>2021-06-06 21:50:00+00:00</th>\n",
       "      <td>2021-06-06 21:50:00+00:00</td>\n",
       "      <td>0.45608</td>\n",
       "      <td>0.46850</td>\n",
       "      <td>0.45570</td>\n",
       "      <td>0.46850</td>\n",
       "      <td>1466753.0</td>\n",
       "      <td>2021-06-06 20:00:00+00:00</td>\n",
       "      <td>0.44555</td>\n",
       "      <td>0.45890</td>\n",
       "      <td>0.44472</td>\n",
       "      <td>...</td>\n",
       "      <td>0.460149</td>\n",
       "      <td>0.459510</td>\n",
       "      <td>0.456244</td>\n",
       "      <td>65.700965</td>\n",
       "      <td>True</td>\n",
       "      <td>True</td>\n",
       "      <td>848222.125</td>\n",
       "      <td>9.617770e+05</td>\n",
       "      <td>NaN</td>\n",
       "      <td>NaN</td>\n",
       "    </tr>\n",
       "    <tr>\n",
       "      <th>2021-06-06 21:55:00+00:00</th>\n",
       "      <td>2021-06-06 21:55:00+00:00</td>\n",
       "      <td>0.46805</td>\n",
       "      <td>0.46805</td>\n",
       "      <td>0.46248</td>\n",
       "      <td>0.46537</td>\n",
       "      <td>1463126.6</td>\n",
       "      <td>2021-06-06 21:00:00+00:00</td>\n",
       "      <td>0.45524</td>\n",
       "      <td>0.47168</td>\n",
       "      <td>0.45300</td>\n",
       "      <td>...</td>\n",
       "      <td>0.460780</td>\n",
       "      <td>0.460441</td>\n",
       "      <td>0.457177</td>\n",
       "      <td>61.338817</td>\n",
       "      <td>True</td>\n",
       "      <td>True</td>\n",
       "      <td>956665.925</td>\n",
       "      <td>9.880188e+05</td>\n",
       "      <td>NaN</td>\n",
       "      <td>NaN</td>\n",
       "    </tr>\n",
       "    <tr>\n",
       "      <th>2021-06-06 22:00:00+00:00</th>\n",
       "      <td>2021-06-06 22:00:00+00:00</td>\n",
       "      <td>0.46538</td>\n",
       "      <td>0.46999</td>\n",
       "      <td>0.46195</td>\n",
       "      <td>0.46645</td>\n",
       "      <td>1445914.6</td>\n",
       "      <td>2021-06-06 21:00:00+00:00</td>\n",
       "      <td>0.45524</td>\n",
       "      <td>0.47168</td>\n",
       "      <td>0.45300</td>\n",
       "      <td>...</td>\n",
       "      <td>0.461457</td>\n",
       "      <td>0.461303</td>\n",
       "      <td>0.458162</td>\n",
       "      <td>62.269675</td>\n",
       "      <td>True</td>\n",
       "      <td>True</td>\n",
       "      <td>1185755.650</td>\n",
       "      <td>1.011048e+06</td>\n",
       "      <td>NaN</td>\n",
       "      <td>NaN</td>\n",
       "    </tr>\n",
       "    <tr>\n",
       "      <th>2021-06-06 22:05:00+00:00</th>\n",
       "      <td>2021-06-06 22:05:00+00:00</td>\n",
       "      <td>0.46967</td>\n",
       "      <td>0.46995</td>\n",
       "      <td>0.45999</td>\n",
       "      <td>0.46037</td>\n",
       "      <td>727698.9</td>\n",
       "      <td>2021-06-06 21:00:00+00:00</td>\n",
       "      <td>0.45524</td>\n",
       "      <td>0.47168</td>\n",
       "      <td>0.45300</td>\n",
       "      <td>...</td>\n",
       "      <td>0.462025</td>\n",
       "      <td>0.461355</td>\n",
       "      <td>0.458977</td>\n",
       "      <td>54.337818</td>\n",
       "      <td>False</td>\n",
       "      <td>False</td>\n",
       "      <td>1271034.600</td>\n",
       "      <td>1.026726e+06</td>\n",
       "      <td>NaN</td>\n",
       "      <td>NaN</td>\n",
       "    </tr>\n",
       "  </tbody>\n",
       "</table>\n",
       "<p>5 rows × 60 columns</p>\n",
       "</div>"
      ],
      "text/plain": [
       "                                               date     open     high  \\\n",
       "date                                                                    \n",
       "2021-06-06 21:45:00+00:00 2021-06-06 21:45:00+00:00  0.45643  0.45830   \n",
       "2021-06-06 21:50:00+00:00 2021-06-06 21:50:00+00:00  0.45608  0.46850   \n",
       "2021-06-06 21:55:00+00:00 2021-06-06 21:55:00+00:00  0.46805  0.46805   \n",
       "2021-06-06 22:00:00+00:00 2021-06-06 22:00:00+00:00  0.46538  0.46999   \n",
       "2021-06-06 22:05:00+00:00 2021-06-06 22:05:00+00:00  0.46967  0.46995   \n",
       "\n",
       "                               low    close     volume  \\\n",
       "date                                                     \n",
       "2021-06-06 21:45:00+00:00  0.45447  0.45623   708344.2   \n",
       "2021-06-06 21:50:00+00:00  0.45570  0.46850  1466753.0   \n",
       "2021-06-06 21:55:00+00:00  0.46248  0.46537  1463126.6   \n",
       "2021-06-06 22:00:00+00:00  0.46195  0.46645  1445914.6   \n",
       "2021-06-06 22:05:00+00:00  0.45999  0.46037   727698.9   \n",
       "\n",
       "                                            date_1h  open_1h  high_1h  \\\n",
       "date                                                                    \n",
       "2021-06-06 21:45:00+00:00 2021-06-06 20:00:00+00:00  0.44555  0.45890   \n",
       "2021-06-06 21:50:00+00:00 2021-06-06 20:00:00+00:00  0.44555  0.45890   \n",
       "2021-06-06 21:55:00+00:00 2021-06-06 21:00:00+00:00  0.45524  0.47168   \n",
       "2021-06-06 22:00:00+00:00 2021-06-06 21:00:00+00:00  0.45524  0.47168   \n",
       "2021-06-06 22:05:00+00:00 2021-06-06 21:00:00+00:00  0.45524  0.47168   \n",
       "\n",
       "                            low_1h  ...  smma_teeth       jaw  smma_jaw  \\\n",
       "date                                ...                                   \n",
       "2021-06-06 21:45:00+00:00  0.44472  ...    0.459487  0.458207  0.455398   \n",
       "2021-06-06 21:50:00+00:00  0.44472  ...    0.460149  0.459510  0.456244   \n",
       "2021-06-06 21:55:00+00:00  0.45300  ...    0.460780  0.460441  0.457177   \n",
       "2021-06-06 22:00:00+00:00  0.45300  ...    0.461457  0.461303  0.458162   \n",
       "2021-06-06 22:05:00+00:00  0.45300  ...    0.462025  0.461355  0.458977   \n",
       "\n",
       "                                 rsi  safe_dips  safe_dips_strict  \\\n",
       "date                                                                \n",
       "2021-06-06 21:45:00+00:00  53.720667       True              True   \n",
       "2021-06-06 21:50:00+00:00  65.700965       True              True   \n",
       "2021-06-06 21:55:00+00:00  61.338817       True              True   \n",
       "2021-06-06 22:00:00+00:00  62.269675       True              True   \n",
       "2021-06-06 22:05:00+00:00  54.337818      False             False   \n",
       "\n",
       "                           volume_mean_4  volume_mean_30  buy  sell  \n",
       "date                                                                 \n",
       "2021-06-06 21:45:00+00:00    1607604.250    9.408214e+05  NaN   NaN  \n",
       "2021-06-06 21:50:00+00:00     848222.125    9.617770e+05  NaN   NaN  \n",
       "2021-06-06 21:55:00+00:00     956665.925    9.880188e+05  NaN   NaN  \n",
       "2021-06-06 22:00:00+00:00    1185755.650    1.011048e+06  NaN   NaN  \n",
       "2021-06-06 22:05:00+00:00    1271034.600    1.026726e+06  NaN   NaN  \n",
       "\n",
       "[5 rows x 60 columns]"
      ]
     },
     "execution_count": 5,
     "metadata": {},
     "output_type": "execute_result"
    }
   ],
   "source": [
    "# Report results\n",
    "print(f\"Generated {df['buy'].sum()} buy signals\")\n",
    "data = df.set_index('date', drop=False)\n",
    "data.tail()"
   ]
  },
  {
   "cell_type": "markdown",
   "metadata": {},
   "source": [
    "## Load existing objects into a Jupyter notebook\n",
    "\n",
    "The following cells assume that you have already generated data using the cli.  \n",
    "They will allow you to drill deeper into your results, and perform analysis which otherwise would make the output very difficult to digest due to information overload."
   ]
  },
  {
   "cell_type": "markdown",
   "metadata": {},
   "source": [
    "### Load backtest results to pandas dataframe\n",
    "\n",
    "Analyze a trades dataframe (also used below for plotting)"
   ]
  },
  {
   "cell_type": "code",
   "execution_count": 6,
   "metadata": {},
   "outputs": [],
   "source": [
    "from freqtrade.data.btanalysis import load_backtest_data, load_backtest_stats\n",
    "\n",
    "# if backtest_dir points to a directory, it'll automatically load the last backtest file.\n",
    "backtest_dir = config[\"user_data_dir\"] / \"backtest_results\"\n",
    "# backtest_dir can also point to a specific file \n",
    "# backtest_dir = config[\"user_data_dir\"] / \"backtest_results/backtest-result-2020-07-01_20-04-22.json\""
   ]
  },
  {
   "cell_type": "code",
   "execution_count": 19,
   "metadata": {},
   "outputs": [
    {
     "name": "stdout",
     "output_type": "stream",
     "text": [
      "[{'key': 'TFUEL/USDT', 'trades': 6, 'profit_mean': 0.030544686666666664, 'profit_mean_pct': 3.0544686666666663, 'profit_sum': 0.18326812, 'profit_sum_pct': 18.33, 'profit_total_abs': 75.27866832, 'profit_total': 0.07527866831999999, 'profit_total_pct': 7.53, 'duration_avg': '0:33:00', 'wins': 6, 'draws': 0, 'losses': 0}, {'key': 'NMR/USDT', 'trades': 2, 'profit_mean': 0.077498875, 'profit_mean_pct': 7.7498875, 'profit_sum': 0.15499775, 'profit_sum_pct': 15.5, 'profit_total_abs': 56.04586685, 'profit_total': 0.056045866849999994, 'profit_total_pct': 5.6, 'duration_avg': '5:28:00', 'wins': 2, 'draws': 0, 'losses': 0}, {'key': 'SLP/USDT', 'trades': 5, 'profit_mean': 0.037331388, 'profit_mean_pct': 3.7331388, 'profit_sum': 0.18665694, 'profit_sum_pct': 18.67, 'profit_total_abs': 55.63989123999999, 'profit_total': 0.05563989123999999, 'profit_total_pct': 5.56, 'duration_avg': '3:37:00', 'wins': 4, 'draws': 0, 'losses': 1}, {'key': 'ONG/USDT', 'trades': 6, 'profit_mean': 0.031617495, 'profit_mean_pct': 3.1617495000000004, 'profit_sum': 0.18970497, 'profit_sum_pct': 18.97, 'profit_total_abs': 54.81801609, 'profit_total': 0.05481801609, 'profit_total_pct': 5.48, 'duration_avg': '0:47:00', 'wins': 6, 'draws': 0, 'losses': 0}, {'key': 'MATIC/USDT', 'trades': 6, 'profit_mean': 0.025919923333333338, 'profit_mean_pct': 2.5919923333333332, 'profit_sum': 0.15551954, 'profit_sum_pct': 15.55, 'profit_total_abs': 46.45784494, 'profit_total': 0.04645784494, 'profit_total_pct': 4.65, 'duration_avg': '0:17:00', 'wins': 6, 'draws': 0, 'losses': 0}, {'key': 'BAKE/USDT', 'trades': 4, 'profit_mean': 0.033125505, 'profit_mean_pct': 3.3125505, 'profit_sum': 0.13250202, 'profit_sum_pct': 13.25, 'profit_total_abs': 43.266573169999994, 'profit_total': 0.04326657317, 'profit_total_pct': 4.33, 'duration_avg': '1:00:00', 'wins': 4, 'draws': 0, 'losses': 0}, {'key': 'TKO/USDT', 'trades': 4, 'profit_mean': 0.02561144, 'profit_mean_pct': 2.561144, 'profit_sum': 0.10244576, 'profit_sum_pct': 10.24, 'profit_total_abs': 39.83510492, 'profit_total': 0.03983510492, 'profit_total_pct': 3.98, 'duration_avg': '0:15:00', 'wins': 4, 'draws': 0, 'losses': 0}, {'key': 'KSM/USDT', 'trades': 1, 'profit_mean': 0.0924895, 'profit_mean_pct': 9.24895, 'profit_sum': 0.0924895, 'profit_sum_pct': 9.25, 'profit_total_abs': 37.14998911, 'profit_total': 0.03714998911, 'profit_total_pct': 3.71, 'duration_avg': '1 day, 3:30:00', 'wins': 1, 'draws': 0, 'losses': 0}, {'key': 'ENJ/USDT', 'trades': 1, 'profit_mean': 0.10749566, 'profit_mean_pct': 10.749566000000002, 'profit_sum': 0.10749566, 'profit_sum_pct': 10.75, 'profit_total_abs': 34.31216086, 'profit_total': 0.034312160859999996, 'profit_total_pct': 3.43, 'duration_avg': '3:30:00', 'wins': 1, 'draws': 0, 'losses': 0}, {'key': 'ALICE/USDT', 'trades': 3, 'profit_mean': 0.02969430666666667, 'profit_mean_pct': 2.9694306666666668, 'profit_sum': 0.08908292000000001, 'profit_sum_pct': 8.91, 'profit_total_abs': 30.79841678, 'profit_total': 0.03079841678, 'profit_total_pct': 3.08, 'duration_avg': '0:35:00', 'wins': 3, 'draws': 0, 'losses': 0}, {'key': 'POND/USDT', 'trades': 2, 'profit_mean': 0.04051658, 'profit_mean_pct': 4.051658000000001, 'profit_sum': 0.08103316, 'profit_sum_pct': 8.1, 'profit_total_abs': 27.36120363, 'profit_total': 0.027361203629999997, 'profit_total_pct': 2.74, 'duration_avg': '5:35:00', 'wins': 2, 'draws': 0, 'losses': 0}, {'key': 'LUNA/USDT', 'trades': 2, 'profit_mean': 0.04198537, 'profit_mean_pct': 4.198537, 'profit_sum': 0.08397074, 'profit_sum_pct': 8.4, 'profit_total_abs': 26.26534082, 'profit_total': 0.02626534082, 'profit_total_pct': 2.63, 'duration_avg': '0:42:00', 'wins': 2, 'draws': 0, 'losses': 0}, {'key': 'RUNE/USDT', 'trades': 3, 'profit_mean': 0.028573833333333336, 'profit_mean_pct': 2.857383333333334, 'profit_sum': 0.0857215, 'profit_sum_pct': 8.57, 'profit_total_abs': 25.22813723, 'profit_total': 0.025228137230000003, 'profit_total_pct': 2.52, 'duration_avg': '1:17:00', 'wins': 3, 'draws': 0, 'losses': 0}, {'key': 'REEF/USDT', 'trades': 2, 'profit_mean': 0.023644245, 'profit_mean_pct': 2.3644244999999997, 'profit_sum': 0.04728849, 'profit_sum_pct': 4.73, 'profit_total_abs': 17.48206115, 'profit_total': 0.01748206115, 'profit_total_pct': 1.75, 'duration_avg': '1:12:00', 'wins': 2, 'draws': 0, 'losses': 0}, {'key': 'ETC/USDT', 'trades': 1, 'profit_mean': 0.05535686, 'profit_mean_pct': 5.535686, 'profit_sum': 0.05535686, 'profit_sum_pct': 5.54, 'profit_total_abs': 17.14467548, 'profit_total': 0.01714467548, 'profit_total_pct': 1.71, 'duration_avg': '7:45:00', 'wins': 1, 'draws': 0, 'losses': 0}, {'key': 'SOL/USDT', 'trades': 2, 'profit_mean': 0.02131137, 'profit_mean_pct': 2.131137, 'profit_sum': 0.04262274, 'profit_sum_pct': 4.26, 'profit_total_abs': 15.04567969, 'profit_total': 0.01504567969, 'profit_total_pct': 1.5, 'duration_avg': '1:02:00', 'wins': 2, 'draws': 0, 'losses': 0}, {'key': 'FTM/USDT', 'trades': 2, 'profit_mean': 0.029192295, 'profit_mean_pct': 2.9192295, 'profit_sum': 0.05838459, 'profit_sum_pct': 5.84, 'profit_total_abs': 14.876850309999998, 'profit_total': 0.014876850309999998, 'profit_total_pct': 1.49, 'duration_avg': '0:18:00', 'wins': 2, 'draws': 0, 'losses': 0}, {'key': 'DENT/USDT', 'trades': 1, 'profit_mean': 0.03496813, 'profit_mean_pct': 3.496813, 'profit_sum': 0.03496813, 'profit_sum_pct': 3.5, 'profit_total_abs': 12.58700476, 'profit_total': 0.01258700476, 'profit_total_pct': 1.26, 'duration_avg': '0:45:00', 'wins': 1, 'draws': 0, 'losses': 0}, {'key': 'DGB/USDT', 'trades': 1, 'profit_mean': 0.04247559, 'profit_mean_pct': 4.247559, 'profit_sum': 0.04247559, 'profit_sum_pct': 4.25, 'profit_total_abs': 12.56585256, 'profit_total': 0.01256585256, 'profit_total_pct': 1.26, 'duration_avg': '2:15:00', 'wins': 1, 'draws': 0, 'losses': 0}, {'key': 'BTCST/USDT', 'trades': 1, 'profit_mean': 0.04410517, 'profit_mean_pct': 4.410517, 'profit_sum': 0.04410517, 'profit_sum_pct': 4.41, 'profit_total_abs': 12.43328818, 'profit_total': 0.01243328818, 'profit_total_pct': 1.24, 'duration_avg': '0:10:00', 'wins': 1, 'draws': 0, 'losses': 0}, {'key': 'CKB/USDT', 'trades': 1, 'profit_mean': 0.02908883, 'profit_mean_pct': 2.908883, 'profit_sum': 0.02908883, 'profit_sum_pct': 2.91, 'profit_total_abs': 12.18486681, 'profit_total': 0.01218486681, 'profit_total_pct': 1.22, 'duration_avg': '4:00:00', 'wins': 1, 'draws': 0, 'losses': 0}, {'key': 'BAT/USDT', 'trades': 1, 'profit_mean': 0.03979573, 'profit_mean_pct': 3.979573, 'profit_sum': 0.03979573, 'profit_sum_pct': 3.98, 'profit_total_abs': 12.02736327, 'profit_total': 0.01202736327, 'profit_total_pct': 1.2, 'duration_avg': '0:50:00', 'wins': 1, 'draws': 0, 'losses': 0}, {'key': 'CELR/USDT', 'trades': 1, 'profit_mean': 0.04393277, 'profit_mean_pct': 4.393277, 'profit_sum': 0.04393277, 'profit_sum_pct': 4.39, 'profit_total_abs': 11.30522147, 'profit_total': 0.01130522147, 'profit_total_pct': 1.13, 'duration_avg': '0:25:00', 'wins': 1, 'draws': 0, 'losses': 0}, {'key': 'THETA/USDT', 'trades': 2, 'profit_mean': 0.012503445, 'profit_mean_pct': 1.2503445, 'profit_sum': 0.02500689, 'profit_sum_pct': 2.5, 'profit_total_abs': 10.61308514, 'profit_total': 0.01061308514, 'profit_total_pct': 1.06, 'duration_avg': '1:42:00', 'wins': 2, 'draws': 0, 'losses': 0}, {'key': 'DOT/USDT', 'trades': 1, 'profit_mean': 0.03955, 'profit_mean_pct': 3.955, 'profit_sum': 0.03955, 'profit_sum_pct': 3.96, 'profit_total_abs': 10.1774038, 'profit_total': 0.0101774038, 'profit_total_pct': 1.02, 'duration_avg': '0:30:00', 'wins': 1, 'draws': 0, 'losses': 0}, {'key': 'KAVA/USDT', 'trades': 1, 'profit_mean': 0.02772813, 'profit_mean_pct': 2.772813, 'profit_sum': 0.02772813, 'profit_sum_pct': 2.77, 'profit_total_abs': 9.74637247, 'profit_total': 0.00974637247, 'profit_total_pct': 0.97, 'duration_avg': '1:30:00', 'wins': 1, 'draws': 0, 'losses': 0}, {'key': 'ADA/USDT', 'trades': 1, 'profit_mean': 0.02356323, 'profit_mean_pct': 2.356323, 'profit_sum': 0.02356323, 'profit_sum_pct': 2.36, 'profit_total_abs': 9.68144591, 'profit_total': 0.00968144591, 'profit_total_pct': 0.97, 'duration_avg': '0:10:00', 'wins': 1, 'draws': 0, 'losses': 0}, {'key': 'CHR/USDT', 'trades': 2, 'profit_mean': 0.01248492, 'profit_mean_pct': 1.248492, 'profit_sum': 0.02496984, 'profit_sum_pct': 2.5, 'profit_total_abs': 8.58678625, 'profit_total': 0.008586786249999999, 'profit_total_pct': 0.86, 'duration_avg': '3:18:00', 'wins': 1, 'draws': 0, 'losses': 1}, {'key': 'SKL/USDT', 'trades': 1, 'profit_mean': 0.02177024, 'profit_mean_pct': 2.177024, 'profit_sum': 0.02177024, 'profit_sum_pct': 2.18, 'profit_total_abs': 8.39609075, 'profit_total': 0.008396090750000001, 'profit_total_pct': 0.84, 'duration_avg': '1:15:00', 'wins': 1, 'draws': 0, 'losses': 0}, {'key': 'CAKE/USDT', 'trades': 1, 'profit_mean': 0.02860294, 'profit_mean_pct': 2.860294, 'profit_sum': 0.02860294, 'profit_sum_pct': 2.86, 'profit_total_abs': 8.21510573, 'profit_total': 0.00821510573, 'profit_total_pct': 0.82, 'duration_avg': '0:05:00', 'wins': 1, 'draws': 0, 'losses': 0}, {'key': 'TLM/USDT', 'trades': 1, 'profit_mean': 0.02163227, 'profit_mean_pct': 2.163227, 'profit_sum': 0.02163227, 'profit_sum_pct': 2.16, 'profit_total_abs': 7.78667527, 'profit_total': 0.00778667527, 'profit_total_pct': 0.78, 'duration_avg': '0:40:00', 'wins': 1, 'draws': 0, 'losses': 0}, {'key': 'XVS/USDT', 'trades': 1, 'profit_mean': 0.02896101, 'profit_mean_pct': 2.896101, 'profit_sum': 0.02896101, 'profit_sum_pct': 2.9, 'profit_total_abs': 7.2376656, 'profit_total': 0.0072376656, 'profit_total_pct': 0.72, 'duration_avg': '0:05:00', 'wins': 1, 'draws': 0, 'losses': 0}, {'key': 'SUSHI/USDT', 'trades': 1, 'profit_mean': 0.02367408, 'profit_mean_pct': 2.367408, 'profit_sum': 0.02367408, 'profit_sum_pct': 2.37, 'profit_total_abs': 7.00366852, 'profit_total': 0.00700366852, 'profit_total_pct': 0.7, 'duration_avg': '7:55:00', 'wins': 1, 'draws': 0, 'losses': 0}, {'key': 'ATOM/USDT', 'trades': 1, 'profit_mean': 0.01692984, 'profit_mean_pct': 1.692984, 'profit_sum': 0.01692984, 'profit_sum_pct': 1.69, 'profit_total_abs': 6.95597841, 'profit_total': 0.00695597841, 'profit_total_pct': 0.7, 'duration_avg': '2:05:00', 'wins': 1, 'draws': 0, 'losses': 0}, {'key': 'ALGO/USDT', 'trades': 1, 'profit_mean': 0.0163365, 'profit_mean_pct': 1.63365, 'profit_sum': 0.0163365, 'profit_sum_pct': 1.63, 'profit_total_abs': 6.71219422, 'profit_total': 0.0067121942199999994, 'profit_total_pct': 0.67, 'duration_avg': '2:05:00', 'wins': 1, 'draws': 0, 'losses': 0}, {'key': 'AXS/USDT', 'trades': 1, 'profit_mean': 0.01479073, 'profit_mean_pct': 1.479073, 'profit_sum': 0.01479073, 'profit_sum_pct': 1.48, 'profit_total_abs': 5.78439383, 'profit_total': 0.00578439383, 'profit_total_pct': 0.58, 'duration_avg': '6:45:00', 'wins': 1, 'draws': 0, 'losses': 0}, {'key': 'MKR/USDT', 'trades': 1, 'profit_mean': 0.02054652, 'profit_mean_pct': 2.054652, 'profit_sum': 0.02054652, 'profit_sum_pct': 2.05, 'profit_total_abs': 5.43604652, 'profit_total': 0.00543604652, 'profit_total_pct': 0.54, 'duration_avg': '0:25:00', 'wins': 1, 'draws': 0, 'losses': 0}, {'key': 'CTSI/USDT', 'trades': 1, 'profit_mean': 0.01235821, 'profit_mean_pct': 1.235821, 'profit_sum': 0.01235821, 'profit_sum_pct': 1.24, 'profit_total_abs': 5.28411705, 'profit_total': 0.00528411705, 'profit_total_pct': 0.53, 'duration_avg': '2:25:00', 'wins': 1, 'draws': 0, 'losses': 0}, {'key': 'AAVE/USDT', 'trades': 0, 'profit_mean': 0.0, 'profit_mean_pct': 0.0, 'profit_sum': 0.0, 'profit_sum_pct': 0.0, 'profit_total_abs': 0.0, 'profit_total': 0.0, 'profit_total_pct': 0.0, 'duration_avg': '0:00', 'wins': 0, 'draws': 0, 'losses': 0}, {'key': 'AION/USDT', 'trades': 0, 'profit_mean': 0.0, 'profit_mean_pct': 0.0, 'profit_sum': 0.0, 'profit_sum_pct': 0.0, 'profit_total_abs': 0.0, 'profit_total': 0.0, 'profit_total_pct': 0.0, 'duration_avg': '0:00', 'wins': 0, 'draws': 0, 'losses': 0}, {'key': 'ANKR/USDT', 'trades': 0, 'profit_mean': 0.0, 'profit_mean_pct': 0.0, 'profit_sum': 0.0, 'profit_sum_pct': 0.0, 'profit_total_abs': 0.0, 'profit_total': 0.0, 'profit_total_pct': 0.0, 'duration_avg': '0:00', 'wins': 0, 'draws': 0, 'losses': 0}, {'key': 'AR/USDT', 'trades': 0, 'profit_mean': 0.0, 'profit_mean_pct': 0.0, 'profit_sum': 0.0, 'profit_sum_pct': 0.0, 'profit_total_abs': 0.0, 'profit_total': 0.0, 'profit_total_pct': 0.0, 'duration_avg': '0:00', 'wins': 0, 'draws': 0, 'losses': 0}, {'key': 'AUDIO/USDT', 'trades': 0, 'profit_mean': 0.0, 'profit_mean_pct': 0.0, 'profit_sum': 0.0, 'profit_sum_pct': 0.0, 'profit_total_abs': 0.0, 'profit_total': 0.0, 'profit_total_pct': 0.0, 'duration_avg': '0:00', 'wins': 0, 'draws': 0, 'losses': 0}, {'key': 'AVAX/USDT', 'trades': 0, 'profit_mean': 0.0, 'profit_mean_pct': 0.0, 'profit_sum': 0.0, 'profit_sum_pct': 0.0, 'profit_total_abs': 0.0, 'profit_total': 0.0, 'profit_total_pct': 0.0, 'duration_avg': '0:00', 'wins': 0, 'draws': 0, 'losses': 0}, {'key': 'BCH/USDT', 'trades': 0, 'profit_mean': 0.0, 'profit_mean_pct': 0.0, 'profit_sum': 0.0, 'profit_sum_pct': 0.0, 'profit_total_abs': 0.0, 'profit_total': 0.0, 'profit_total_pct': 0.0, 'duration_avg': '0:00', 'wins': 0, 'draws': 0, 'losses': 0}, {'key': 'BTC/USDT', 'trades': 0, 'profit_mean': 0.0, 'profit_mean_pct': 0.0, 'profit_sum': 0.0, 'profit_sum_pct': 0.0, 'profit_total_abs': 0.0, 'profit_total': 0.0, 'profit_total_pct': 0.0, 'duration_avg': '0:00', 'wins': 0, 'draws': 0, 'losses': 0}, {'key': 'BTG/USDT', 'trades': 0, 'profit_mean': 0.0, 'profit_mean_pct': 0.0, 'profit_sum': 0.0, 'profit_sum_pct': 0.0, 'profit_total_abs': 0.0, 'profit_total': 0.0, 'profit_total_pct': 0.0, 'duration_avg': '0:00', 'wins': 0, 'draws': 0, 'losses': 0}, {'key': 'BTT/USDT', 'trades': 0, 'profit_mean': 0.0, 'profit_mean_pct': 0.0, 'profit_sum': 0.0, 'profit_sum_pct': 0.0, 'profit_total_abs': 0.0, 'profit_total': 0.0, 'profit_total_pct': 0.0, 'duration_avg': '0:00', 'wins': 0, 'draws': 0, 'losses': 0}, {'key': 'BURGER/USDT', 'trades': 0, 'profit_mean': 0.0, 'profit_mean_pct': 0.0, 'profit_sum': 0.0, 'profit_sum_pct': 0.0, 'profit_total_abs': 0.0, 'profit_total': 0.0, 'profit_total_pct': 0.0, 'duration_avg': '0:00', 'wins': 0, 'draws': 0, 'losses': 0}, {'key': 'CHZ/USDT', 'trades': 0, 'profit_mean': 0.0, 'profit_mean_pct': 0.0, 'profit_sum': 0.0, 'profit_sum_pct': 0.0, 'profit_total_abs': 0.0, 'profit_total': 0.0, 'profit_total_pct': 0.0, 'duration_avg': '0:00', 'wins': 0, 'draws': 0, 'losses': 0}, {'key': 'COMP/USDT', 'trades': 0, 'profit_mean': 0.0, 'profit_mean_pct': 0.0, 'profit_sum': 0.0, 'profit_sum_pct': 0.0, 'profit_total_abs': 0.0, 'profit_total': 0.0, 'profit_total_pct': 0.0, 'duration_avg': '0:00', 'wins': 0, 'draws': 0, 'losses': 0}, {'key': 'CRV/USDT', 'trades': 0, 'profit_mean': 0.0, 'profit_mean_pct': 0.0, 'profit_sum': 0.0, 'profit_sum_pct': 0.0, 'profit_total_abs': 0.0, 'profit_total': 0.0, 'profit_total_pct': 0.0, 'duration_avg': '0:00', 'wins': 0, 'draws': 0, 'losses': 0}, {'key': 'DASH/USDT', 'trades': 0, 'profit_mean': 0.0, 'profit_mean_pct': 0.0, 'profit_sum': 0.0, 'profit_sum_pct': 0.0, 'profit_total_abs': 0.0, 'profit_total': 0.0, 'profit_total_pct': 0.0, 'duration_avg': '0:00', 'wins': 0, 'draws': 0, 'losses': 0}, {'key': 'DODO/USDT', 'trades': 0, 'profit_mean': 0.0, 'profit_mean_pct': 0.0, 'profit_sum': 0.0, 'profit_sum_pct': 0.0, 'profit_total_abs': 0.0, 'profit_total': 0.0, 'profit_total_pct': 0.0, 'duration_avg': '0:00', 'wins': 0, 'draws': 0, 'losses': 0}, {'key': 'DOGE/USDT', 'trades': 0, 'profit_mean': 0.0, 'profit_mean_pct': 0.0, 'profit_sum': 0.0, 'profit_sum_pct': 0.0, 'profit_total_abs': 0.0, 'profit_total': 0.0, 'profit_total_pct': 0.0, 'duration_avg': '0:00', 'wins': 0, 'draws': 0, 'losses': 0}, {'key': 'EGLD/USDT', 'trades': 0, 'profit_mean': 0.0, 'profit_mean_pct': 0.0, 'profit_sum': 0.0, 'profit_sum_pct': 0.0, 'profit_total_abs': 0.0, 'profit_total': 0.0, 'profit_total_pct': 0.0, 'duration_avg': '0:00', 'wins': 0, 'draws': 0, 'losses': 0}, {'key': 'EOS/USDT', 'trades': 0, 'profit_mean': 0.0, 'profit_mean_pct': 0.0, 'profit_sum': 0.0, 'profit_sum_pct': 0.0, 'profit_total_abs': 0.0, 'profit_total': 0.0, 'profit_total_pct': 0.0, 'duration_avg': '0:00', 'wins': 0, 'draws': 0, 'losses': 0}, {'key': 'ETH/USDT', 'trades': 0, 'profit_mean': 0.0, 'profit_mean_pct': 0.0, 'profit_sum': 0.0, 'profit_sum_pct': 0.0, 'profit_total_abs': 0.0, 'profit_total': 0.0, 'profit_total_pct': 0.0, 'duration_avg': '0:00', 'wins': 0, 'draws': 0, 'losses': 0}, {'key': 'FIL/USDT', 'trades': 0, 'profit_mean': 0.0, 'profit_mean_pct': 0.0, 'profit_sum': 0.0, 'profit_sum_pct': 0.0, 'profit_total_abs': 0.0, 'profit_total': 0.0, 'profit_total_pct': 0.0, 'duration_avg': '0:00', 'wins': 0, 'draws': 0, 'losses': 0}, {'key': 'GRT/USDT', 'trades': 0, 'profit_mean': 0.0, 'profit_mean_pct': 0.0, 'profit_sum': 0.0, 'profit_sum_pct': 0.0, 'profit_total_abs': 0.0, 'profit_total': 0.0, 'profit_total_pct': 0.0, 'duration_avg': '0:00', 'wins': 0, 'draws': 0, 'losses': 0}, {'key': 'GXS/USDT', 'trades': 0, 'profit_mean': 0.0, 'profit_mean_pct': 0.0, 'profit_sum': 0.0, 'profit_sum_pct': 0.0, 'profit_total_abs': 0.0, 'profit_total': 0.0, 'profit_total_pct': 0.0, 'duration_avg': '0:00', 'wins': 0, 'draws': 0, 'losses': 0}, {'key': 'HBAR/USDT', 'trades': 0, 'profit_mean': 0.0, 'profit_mean_pct': 0.0, 'profit_sum': 0.0, 'profit_sum_pct': 0.0, 'profit_total_abs': 0.0, 'profit_total': 0.0, 'profit_total_pct': 0.0, 'duration_avg': '0:00', 'wins': 0, 'draws': 0, 'losses': 0}, {'key': 'HOT/USDT', 'trades': 0, 'profit_mean': 0.0, 'profit_mean_pct': 0.0, 'profit_sum': 0.0, 'profit_sum_pct': 0.0, 'profit_total_abs': 0.0, 'profit_total': 0.0, 'profit_total_pct': 0.0, 'duration_avg': '0:00', 'wins': 0, 'draws': 0, 'losses': 0}, {'key': 'IOST/USDT', 'trades': 0, 'profit_mean': 0.0, 'profit_mean_pct': 0.0, 'profit_sum': 0.0, 'profit_sum_pct': 0.0, 'profit_total_abs': 0.0, 'profit_total': 0.0, 'profit_total_pct': 0.0, 'duration_avg': '0:00', 'wins': 0, 'draws': 0, 'losses': 0}, {'key': 'IOTA/USDT', 'trades': 0, 'profit_mean': 0.0, 'profit_mean_pct': 0.0, 'profit_sum': 0.0, 'profit_sum_pct': 0.0, 'profit_total_abs': 0.0, 'profit_total': 0.0, 'profit_total_pct': 0.0, 'duration_avg': '0:00', 'wins': 0, 'draws': 0, 'losses': 0}, {'key': 'IOTX/USDT', 'trades': 0, 'profit_mean': 0.0, 'profit_mean_pct': 0.0, 'profit_sum': 0.0, 'profit_sum_pct': 0.0, 'profit_total_abs': 0.0, 'profit_total': 0.0, 'profit_total_pct': 0.0, 'duration_avg': '0:00', 'wins': 0, 'draws': 0, 'losses': 0}, {'key': 'LINK/USDT', 'trades': 0, 'profit_mean': 0.0, 'profit_mean_pct': 0.0, 'profit_sum': 0.0, 'profit_sum_pct': 0.0, 'profit_total_abs': 0.0, 'profit_total': 0.0, 'profit_total_pct': 0.0, 'duration_avg': '0:00', 'wins': 0, 'draws': 0, 'losses': 0}, {'key': 'LTC/USDT', 'trades': 0, 'profit_mean': 0.0, 'profit_mean_pct': 0.0, 'profit_sum': 0.0, 'profit_sum_pct': 0.0, 'profit_total_abs': 0.0, 'profit_total': 0.0, 'profit_total_pct': 0.0, 'duration_avg': '0:00', 'wins': 0, 'draws': 0, 'losses': 0}, {'key': 'MANA/USDT', 'trades': 0, 'profit_mean': 0.0, 'profit_mean_pct': 0.0, 'profit_sum': 0.0, 'profit_sum_pct': 0.0, 'profit_total_abs': 0.0, 'profit_total': 0.0, 'profit_total_pct': 0.0, 'duration_avg': '0:00', 'wins': 0, 'draws': 0, 'losses': 0}, {'key': 'MTL/USDT', 'trades': 0, 'profit_mean': 0.0, 'profit_mean_pct': 0.0, 'profit_sum': 0.0, 'profit_sum_pct': 0.0, 'profit_total_abs': 0.0, 'profit_total': 0.0, 'profit_total_pct': 0.0, 'duration_avg': '0:00', 'wins': 0, 'draws': 0, 'losses': 0}, {'key': 'NEO/USDT', 'trades': 0, 'profit_mean': 0.0, 'profit_mean_pct': 0.0, 'profit_sum': 0.0, 'profit_sum_pct': 0.0, 'profit_total_abs': 0.0, 'profit_total': 0.0, 'profit_total_pct': 0.0, 'duration_avg': '0:00', 'wins': 0, 'draws': 0, 'losses': 0}, {'key': 'NKN/USDT', 'trades': 0, 'profit_mean': 0.0, 'profit_mean_pct': 0.0, 'profit_sum': 0.0, 'profit_sum_pct': 0.0, 'profit_total_abs': 0.0, 'profit_total': 0.0, 'profit_total_pct': 0.0, 'duration_avg': '0:00', 'wins': 0, 'draws': 0, 'losses': 0}, {'key': 'OMG/USDT', 'trades': 0, 'profit_mean': 0.0, 'profit_mean_pct': 0.0, 'profit_sum': 0.0, 'profit_sum_pct': 0.0, 'profit_total_abs': 0.0, 'profit_total': 0.0, 'profit_total_pct': 0.0, 'duration_avg': '0:00', 'wins': 0, 'draws': 0, 'losses': 0}, {'key': 'ONE/USDT', 'trades': 0, 'profit_mean': 0.0, 'profit_mean_pct': 0.0, 'profit_sum': 0.0, 'profit_sum_pct': 0.0, 'profit_total_abs': 0.0, 'profit_total': 0.0, 'profit_total_pct': 0.0, 'duration_avg': '0:00', 'wins': 0, 'draws': 0, 'losses': 0}, {'key': 'ONT/USDT', 'trades': 0, 'profit_mean': 0.0, 'profit_mean_pct': 0.0, 'profit_sum': 0.0, 'profit_sum_pct': 0.0, 'profit_total_abs': 0.0, 'profit_total': 0.0, 'profit_total_pct': 0.0, 'duration_avg': '0:00', 'wins': 0, 'draws': 0, 'losses': 0}, {'key': 'PNT/USDT', 'trades': 0, 'profit_mean': 0.0, 'profit_mean_pct': 0.0, 'profit_sum': 0.0, 'profit_sum_pct': 0.0, 'profit_total_abs': 0.0, 'profit_total': 0.0, 'profit_total_pct': 0.0, 'duration_avg': '0:00', 'wins': 0, 'draws': 0, 'losses': 0}, {'key': 'QTUM/USDT', 'trades': 0, 'profit_mean': 0.0, 'profit_mean_pct': 0.0, 'profit_sum': 0.0, 'profit_sum_pct': 0.0, 'profit_total_abs': 0.0, 'profit_total': 0.0, 'profit_total_pct': 0.0, 'duration_avg': '0:00', 'wins': 0, 'draws': 0, 'losses': 0}, {'key': 'RLC/USDT', 'trades': 0, 'profit_mean': 0.0, 'profit_mean_pct': 0.0, 'profit_sum': 0.0, 'profit_sum_pct': 0.0, 'profit_total_abs': 0.0, 'profit_total': 0.0, 'profit_total_pct': 0.0, 'duration_avg': '0:00', 'wins': 0, 'draws': 0, 'losses': 0}, {'key': 'RVN/USDT', 'trades': 0, 'profit_mean': 0.0, 'profit_mean_pct': 0.0, 'profit_sum': 0.0, 'profit_sum_pct': 0.0, 'profit_total_abs': 0.0, 'profit_total': 0.0, 'profit_total_pct': 0.0, 'duration_avg': '0:00', 'wins': 0, 'draws': 0, 'losses': 0}, {'key': 'SC/USDT', 'trades': 0, 'profit_mean': 0.0, 'profit_mean_pct': 0.0, 'profit_sum': 0.0, 'profit_sum_pct': 0.0, 'profit_total_abs': 0.0, 'profit_total': 0.0, 'profit_total_pct': 0.0, 'duration_avg': '0:00', 'wins': 0, 'draws': 0, 'losses': 0}, {'key': 'SNX/USDT', 'trades': 0, 'profit_mean': 0.0, 'profit_mean_pct': 0.0, 'profit_sum': 0.0, 'profit_sum_pct': 0.0, 'profit_total_abs': 0.0, 'profit_total': 0.0, 'profit_total_pct': 0.0, 'duration_avg': '0:00', 'wins': 0, 'draws': 0, 'losses': 0}, {'key': 'STX/USDT', 'trades': 0, 'profit_mean': 0.0, 'profit_mean_pct': 0.0, 'profit_sum': 0.0, 'profit_sum_pct': 0.0, 'profit_total_abs': 0.0, 'profit_total': 0.0, 'profit_total_pct': 0.0, 'duration_avg': '0:00', 'wins': 0, 'draws': 0, 'losses': 0}, {'key': 'SXP/USDT', 'trades': 0, 'profit_mean': 0.0, 'profit_mean_pct': 0.0, 'profit_sum': 0.0, 'profit_sum_pct': 0.0, 'profit_total_abs': 0.0, 'profit_total': 0.0, 'profit_total_pct': 0.0, 'duration_avg': '0:00', 'wins': 0, 'draws': 0, 'losses': 0}, {'key': 'TRX/USDT', 'trades': 0, 'profit_mean': 0.0, 'profit_mean_pct': 0.0, 'profit_sum': 0.0, 'profit_sum_pct': 0.0, 'profit_total_abs': 0.0, 'profit_total': 0.0, 'profit_total_pct': 0.0, 'duration_avg': '0:00', 'wins': 0, 'draws': 0, 'losses': 0}, {'key': 'TWT/USDT', 'trades': 0, 'profit_mean': 0.0, 'profit_mean_pct': 0.0, 'profit_sum': 0.0, 'profit_sum_pct': 0.0, 'profit_total_abs': 0.0, 'profit_total': 0.0, 'profit_total_pct': 0.0, 'duration_avg': '0:00', 'wins': 0, 'draws': 0, 'losses': 0}, {'key': 'UNI/USDT', 'trades': 0, 'profit_mean': 0.0, 'profit_mean_pct': 0.0, 'profit_sum': 0.0, 'profit_sum_pct': 0.0, 'profit_total_abs': 0.0, 'profit_total': 0.0, 'profit_total_pct': 0.0, 'duration_avg': '0:00', 'wins': 0, 'draws': 0, 'losses': 0}, {'key': 'VET/USDT', 'trades': 0, 'profit_mean': 0.0, 'profit_mean_pct': 0.0, 'profit_sum': 0.0, 'profit_sum_pct': 0.0, 'profit_total_abs': 0.0, 'profit_total': 0.0, 'profit_total_pct': 0.0, 'duration_avg': '0:00', 'wins': 0, 'draws': 0, 'losses': 0}, {'key': 'WAVES/USDT', 'trades': 0, 'profit_mean': 0.0, 'profit_mean_pct': 0.0, 'profit_sum': 0.0, 'profit_sum_pct': 0.0, 'profit_total_abs': 0.0, 'profit_total': 0.0, 'profit_total_pct': 0.0, 'duration_avg': '0:00', 'wins': 0, 'draws': 0, 'losses': 0}, {'key': 'WIN/USDT', 'trades': 0, 'profit_mean': 0.0, 'profit_mean_pct': 0.0, 'profit_sum': 0.0, 'profit_sum_pct': 0.0, 'profit_total_abs': 0.0, 'profit_total': 0.0, 'profit_total_pct': 0.0, 'duration_avg': '0:00', 'wins': 0, 'draws': 0, 'losses': 0}, {'key': 'WRX/USDT', 'trades': 0, 'profit_mean': 0.0, 'profit_mean_pct': 0.0, 'profit_sum': 0.0, 'profit_sum_pct': 0.0, 'profit_total_abs': 0.0, 'profit_total': 0.0, 'profit_total_pct': 0.0, 'duration_avg': '0:00', 'wins': 0, 'draws': 0, 'losses': 0}, {'key': 'XEM/USDT', 'trades': 0, 'profit_mean': 0.0, 'profit_mean_pct': 0.0, 'profit_sum': 0.0, 'profit_sum_pct': 0.0, 'profit_total_abs': 0.0, 'profit_total': 0.0, 'profit_total_pct': 0.0, 'duration_avg': '0:00', 'wins': 0, 'draws': 0, 'losses': 0}, {'key': 'XLM/USDT', 'trades': 0, 'profit_mean': 0.0, 'profit_mean_pct': 0.0, 'profit_sum': 0.0, 'profit_sum_pct': 0.0, 'profit_total_abs': 0.0, 'profit_total': 0.0, 'profit_total_pct': 0.0, 'duration_avg': '0:00', 'wins': 0, 'draws': 0, 'losses': 0}, {'key': 'XMR/USDT', 'trades': 0, 'profit_mean': 0.0, 'profit_mean_pct': 0.0, 'profit_sum': 0.0, 'profit_sum_pct': 0.0, 'profit_total_abs': 0.0, 'profit_total': 0.0, 'profit_total_pct': 0.0, 'duration_avg': '0:00', 'wins': 0, 'draws': 0, 'losses': 0}, {'key': 'XRP/USDT', 'trades': 0, 'profit_mean': 0.0, 'profit_mean_pct': 0.0, 'profit_sum': 0.0, 'profit_sum_pct': 0.0, 'profit_total_abs': 0.0, 'profit_total': 0.0, 'profit_total_pct': 0.0, 'duration_avg': '0:00', 'wins': 0, 'draws': 0, 'losses': 0}, {'key': 'XTZ/USDT', 'trades': 0, 'profit_mean': 0.0, 'profit_mean_pct': 0.0, 'profit_sum': 0.0, 'profit_sum_pct': 0.0, 'profit_total_abs': 0.0, 'profit_total': 0.0, 'profit_total_pct': 0.0, 'duration_avg': '0:00', 'wins': 0, 'draws': 0, 'losses': 0}, {'key': 'YFI/USDT', 'trades': 0, 'profit_mean': 0.0, 'profit_mean_pct': 0.0, 'profit_sum': 0.0, 'profit_sum_pct': 0.0, 'profit_total_abs': 0.0, 'profit_total': 0.0, 'profit_total_pct': 0.0, 'duration_avg': '0:00', 'wins': 0, 'draws': 0, 'losses': 0}, {'key': 'ZEC/USDT', 'trades': 0, 'profit_mean': 0.0, 'profit_mean_pct': 0.0, 'profit_sum': 0.0, 'profit_sum_pct': 0.0, 'profit_total_abs': 0.0, 'profit_total': 0.0, 'profit_total_pct': 0.0, 'duration_avg': '0:00', 'wins': 0, 'draws': 0, 'losses': 0}, {'key': 'ZEN/USDT', 'trades': 0, 'profit_mean': 0.0, 'profit_mean_pct': 0.0, 'profit_sum': 0.0, 'profit_sum_pct': 0.0, 'profit_total_abs': 0.0, 'profit_total': 0.0, 'profit_total_pct': 0.0, 'duration_avg': '0:00', 'wins': 0, 'draws': 0, 'losses': 0}, {'key': 'ZIL/USDT', 'trades': 0, 'profit_mean': 0.0, 'profit_mean_pct': 0.0, 'profit_sum': 0.0, 'profit_sum_pct': 0.0, 'profit_total_abs': 0.0, 'profit_total': 0.0, 'profit_total_pct': 0.0, 'duration_avg': '0:00', 'wins': 0, 'draws': 0, 'losses': 0}, {'key': 'ZRX/USDT', 'trades': 0, 'profit_mean': 0.0, 'profit_mean_pct': 0.0, 'profit_sum': 0.0, 'profit_sum_pct': 0.0, 'profit_total_abs': 0.0, 'profit_total': 0.0, 'profit_total_pct': 0.0, 'duration_avg': '0:00', 'wins': 0, 'draws': 0, 'losses': 0}, {'key': 'ATM/USDT', 'trades': 2, 'profit_mean': -0.0019999000000000006, 'profit_mean_pct': -0.19999000000000008, 'profit_sum': -0.003999800000000001, 'profit_sum_pct': -0.4, 'profit_total_abs': -0.5375567400000012, 'profit_total': -0.0005375567400000012, 'profit_total_pct': -0.05, 'duration_avg': '4:08:00', 'wins': 1, 'draws': 0, 'losses': 1}, {'key': 'SHIB/USDT', 'trades': 2, 'profit_mean': -0.036783875, 'profit_mean_pct': -3.6783875, 'profit_sum': -0.07356775, 'profit_sum_pct': -7.36, 'profit_total_abs': -30.11298585, 'profit_total': -0.030112985850000003, 'profit_total_pct': -3.01, 'duration_avg': '6:40:00', 'wins': 1, 'draws': 0, 'losses': 1}, {'key': 'TOTAL', 'trades': 79, 'profit_mean': 0.02976911848101266, 'profit_mean_pct': 2.976911848101266, 'profit_sum': 2.35176036, 'profit_sum_pct': 235.18, 'profit_total_abs': 777.0765645199999, 'profit_total': 0.77707656452, 'profit_total_pct': 77.71, 'duration_avg': '2:10:00', 'wins': 75, 'draws': 0, 'losses': 4}]\n",
      "['AAVE/USDT', 'ADA/USDT', 'AION/USDT', 'ALGO/USDT', 'ALICE/USDT', 'ANKR/USDT', 'AR/USDT', 'ATM/USDT', 'ATOM/USDT', 'AUDIO/USDT', 'AVAX/USDT', 'AXS/USDT', 'BAKE/USDT', 'BAT/USDT', 'BCH/USDT', 'BTC/USDT', 'BTCST/USDT', 'BTG/USDT', 'BTT/USDT', 'BURGER/USDT', 'CAKE/USDT', 'CELR/USDT', 'CHR/USDT', 'CHZ/USDT', 'CKB/USDT', 'COMP/USDT', 'CRV/USDT', 'CTSI/USDT', 'DASH/USDT', 'DENT/USDT', 'DGB/USDT', 'DODO/USDT', 'DOGE/USDT', 'DOT/USDT', 'EGLD/USDT', 'ENJ/USDT', 'EOS/USDT', 'ETC/USDT', 'ETH/USDT', 'FIL/USDT', 'FTM/USDT', 'GRT/USDT', 'GXS/USDT', 'HBAR/USDT', 'HOT/USDT', 'IOST/USDT', 'IOTA/USDT', 'IOTX/USDT', 'KAVA/USDT', 'KSM/USDT', 'LINK/USDT', 'LTC/USDT', 'LUNA/USDT', 'MANA/USDT', 'MATIC/USDT', 'MKR/USDT', 'MTL/USDT', 'NEO/USDT', 'NKN/USDT', 'NMR/USDT', 'OMG/USDT', 'ONG/USDT', 'ONE/USDT', 'ONT/USDT', 'PNT/USDT', 'POND/USDT', 'QTUM/USDT', 'REEF/USDT', 'RLC/USDT', 'RUNE/USDT', 'RVN/USDT', 'SC/USDT', 'SHIB/USDT', 'SKL/USDT', 'SLP/USDT', 'SNX/USDT', 'SOL/USDT', 'STX/USDT', 'SUSHI/USDT', 'SXP/USDT', 'TFUEL/USDT', 'THETA/USDT', 'TKO/USDT', 'TLM/USDT', 'TRX/USDT', 'TWT/USDT', 'UNI/USDT', 'VET/USDT', 'WAVES/USDT', 'WIN/USDT', 'WRX/USDT', 'XEM/USDT', 'XLM/USDT', 'XMR/USDT', 'XRP/USDT', 'XTZ/USDT', 'XVS/USDT', 'YFI/USDT', 'ZEC/USDT', 'ZEN/USDT', 'ZIL/USDT', 'ZRX/USDT']\n",
      "0.036370526701264706\n",
      "0.08070478000000003\n",
      "2021-06-04 12:35:00\n",
      "2021-06-04 13:40:00\n",
      "[{'key': 'NostalgiaForInfinityV4', 'trades': 79, 'profit_mean': 0.02976911848101266, 'profit_mean_pct': 2.976911848101266, 'profit_sum': 2.35176036, 'profit_sum_pct': 235.18, 'profit_total_abs': 777.0765645199999, 'profit_total': 0.77707656452, 'profit_total_pct': 77.71, 'duration_avg': '2:10:00', 'wins': 75, 'draws': 0, 'losses': 4, 'max_drawdown_per': 8.07, 'max_drawdown_abs': '33.159'}]\n"
     ]
    }
   ],
   "source": [
    "# You can get the full backtest statistics by using the following command.\n",
    "# This contains all information used to generate the backtest result.\n",
    "stats = load_backtest_stats(backtest_dir)\n",
    "\n",
    "strategy = 'NostalgiaForInfinityV4'\n",
    "# All statistics are available per strategy, so if `--strategy-list` was used during backtest, this will be reflected here as well.\n",
    "# Example usages:\n",
    "print(stats['strategy'][strategy]['results_per_pair'])\n",
    "# Get pairlist used for this backtest\n",
    "print(stats['strategy'][strategy]['pairlist'])\n",
    "# Get market change (average change of all pairs from start to end of the backtest period)\n",
    "print(stats['strategy'][strategy]['market_change'])\n",
    "# Maximum drawdown ()\n",
    "print(stats['strategy'][strategy]['max_drawdown'])\n",
    "# Maximum drawdown start and end\n",
    "print(stats['strategy'][strategy]['drawdown_start'])\n",
    "print(stats['strategy'][strategy]['drawdown_end'])\n",
    "\n",
    "\n",
    "# Get strategy comparison (only relevant if multiple strategies were compared)\n",
    "print(stats['strategy_comparison'])\n"
   ]
  },
  {
   "cell_type": "code",
   "execution_count": 7,
   "metadata": {},
   "outputs": [
    {
     "data": {
      "text/plain": [
       "pair        sell_reason      \n",
       "ADA/USDT    signal_profit_u_1    1\n",
       "ALGO/USDT   sell_signal          1\n",
       "ALICE/USDT  signal_profit_u_1    3\n",
       "ATM/USDT    sell_signal          1\n",
       "            signal_profit_u_1    1\n",
       "ATOM/USDT   sell_signal          1\n",
       "AXS/USDT    sell_signal          1\n",
       "BAKE/USDT   signal_profit_u_1    3\n",
       "            sell_signal          1\n",
       "BAT/USDT    signal_profit_u_1    1\n",
       "BTCST/USDT  signal_profit_u_1    1\n",
       "CAKE/USDT   signal_profit_u_1    1\n",
       "CELR/USDT   signal_profit_u_1    1\n",
       "CHR/USDT    sell_signal          1\n",
       "            signal_profit_u_1    1\n",
       "CKB/USDT    sell_signal          1\n",
       "CTSI/USDT   sell_signal          1\n",
       "DENT/USDT   signal_profit_u_1    1\n",
       "DGB/USDT    signal_profit_u_1    1\n",
       "DOT/USDT    signal_profit_u_1    1\n",
       "ENJ/USDT    signal_profit_3      1\n",
       "ETC/USDT    signal_profit_u_2    1\n",
       "FTM/USDT    signal_profit_u_1    2\n",
       "KAVA/USDT   sell_signal          1\n",
       "KSM/USDT    signal_profit_3      1\n",
       "LUNA/USDT   signal_profit_u_1    2\n",
       "MATIC/USDT  signal_profit_u_1    6\n",
       "MKR/USDT    signal_profit_u_1    1\n",
       "NMR/USDT    sell_signal          2\n",
       "ONG/USDT    signal_profit_u_1    5\n",
       "            sell_signal          1\n",
       "POND/USDT   sell_signal          1\n",
       "            signal_profit_u_3    1\n",
       "REEF/USDT   sell_signal          1\n",
       "            signal_profit_u_1    1\n",
       "RUNE/USDT   signal_profit_u_1    3\n",
       "SHIB/USDT   sell_signal          2\n",
       "SKL/USDT    signal_profit_u_1    1\n",
       "SLP/USDT    signal_profit_u_1    3\n",
       "            sell_signal          1\n",
       "            signal_profit_3      1\n",
       "SOL/USDT    signal_profit_u_1    2\n",
       "SUSHI/USDT  sell_signal          1\n",
       "TFUEL/USDT  signal_profit_u_1    6\n",
       "THETA/USDT  sell_signal          1\n",
       "            signal_profit_u_1    1\n",
       "TKO/USDT    signal_profit_u_1    4\n",
       "TLM/USDT    signal_profit_u_1    1\n",
       "XVS/USDT    signal_profit_u_1    1\n",
       "Name: sell_reason, dtype: int64"
      ]
     },
     "execution_count": 7,
     "metadata": {},
     "output_type": "execute_result"
    }
   ],
   "source": [
    "# Load backtested trades as dataframe\n",
    "trades = load_backtest_data(backtest_dir)\n",
    "\n",
    "# Show value-counts per pair\n",
    "trades.groupby(\"pair\")[\"sell_reason\"].value_counts()"
   ]
  },
  {
   "cell_type": "markdown",
   "metadata": {},
   "source": [
    "### Load live trading results into a pandas dataframe\n",
    "\n",
    "In case you did already some trading and want to analyze your performance"
   ]
  },
  {
   "cell_type": "code",
   "execution_count": null,
   "metadata": {},
   "outputs": [],
   "source": [
    "from freqtrade.data.btanalysis import load_trades_from_db\n",
    "\n",
    "# Fetch trades from database\n",
    "trades = load_trades_from_db(\"sqlite:///tradesv3.sqlite\")\n",
    "\n",
    "# Display results\n",
    "trades.groupby(\"pair\")[\"sell_reason\"].value_counts()"
   ]
  },
  {
   "cell_type": "markdown",
   "metadata": {},
   "source": [
    "## Analyze the loaded trades for trade parallelism\n",
    "This can be useful to find the best `max_open_trades` parameter, when used with backtesting in conjunction with `--disable-max-market-positions`.\n",
    "\n",
    "`analyze_trade_parallelism()` returns a timeseries dataframe with an \"open_trades\" column, specifying the number of open trades for each candle."
   ]
  },
  {
   "cell_type": "code",
   "execution_count": 8,
   "metadata": {
    "tags": []
   },
   "outputs": [
    {
     "data": {
      "text/plain": [
       "<AxesSubplot:xlabel='date'>"
      ]
     },
     "execution_count": 8,
     "metadata": {},
     "output_type": "execute_result"
    },
    {
     "data": {
      "image/png": "[encoded data removed]",
      "text/plain": [
       "<Figure size 432x288 with 1 Axes>"
      ]
     },
     "metadata": {
      "needs_background": "light"
     },
     "output_type": "display_data"
    }
   ],
   "source": [
    "from freqtrade.data.btanalysis import analyze_trade_parallelism\n",
    "\n",
    "# Analyze the above\n",
    "parallel_trades = analyze_trade_parallelism(trades, '5m')\n",
    "\n",
    "parallel_trades.plot()"
   ]
  },
  {
   "cell_type": "markdown",
   "metadata": {},
   "source": [
    "## Plot results\n",
    "\n",
    "Freqtrade offers interactive plotting capabilities based on plotly."
   ]
  },
  {
   "cell_type": "code",
   "execution_count": 16,
   "metadata": {},
   "outputs": [
    {
     "data": {
      "text/html": [
       "        <script type=\"text/javascript\">\n",
       "        window.PlotlyConfig = {MathJaxConfig: 'local'};\n",
       "        if (window.MathJax) {MathJax.Hub.Config({SVG: {font: \"STIX-Web\"}});}\n",
       "        if (typeof require !== 'undefined') {\n",
       "        require.undef(\"plotly\");\n",
       "        requirejs.config({\n",
       "            paths: {\n",
       "                'plotly': ['https://cdn.plot.ly/plotly-latest.min']\n",
       "            }\n",
       "        });\n",
       "        require(['plotly'], function(Plotly) {\n",
       "            window._Plotly = Plotly;\n",
       "        });\n",
       "        }\n",
       "        </script>\n",
       "        "
      ]
     },
     "metadata": {},
     "output_type": "display_data"
    }
   ],
   "source": [
    "import plotly.offline as py\n",
    "import plotly.graph_objs as go\n",
    "\n",
    "py.init_notebook_mode(connected=True) # Initialise offline ploytly environment\n",
    "from freqtrade.plot.plotting import  generate_candlestick_graph\n",
    "# Limit graph period to keep plotly quick and reactive\n",
    "\n",
    "# Filter trades to one pair\n",
    "trades_red = trades.loc[trades['pair'] == pair]\n",
    "\n",
    "data_red = data['2019-06-01':'2019-06-10']\n",
    "# Generate candlestick graph\n",
    "graph = generate_candlestick_graph(pair=pair,\n",
    "                                   data=data_red,\n",
    "                                   trades=trades_red,\n",
    "                                   indicators1=['sma20', 'ema50', 'ema55'],\n",
    "                                   indicators2=['rsi', 'macd', 'macdsignal', 'macdhist']\n",
    "                                  )\n",
    "\n",
    "\n"
   ]
  },
  {
   "cell_type": "code",
   "execution_count": 17,
   "metadata": {},
   "outputs": [
    {
     "data": {
      "application/vnd.plotly.v1+json": {
       "config": {
        "plotlyServerURL": "https://plot.ly"
       },
       "data": [
        {
         "close": [],
         "high": [],
         "low": [],
         "name": "Price",
         "open": [],
         "type": "candlestick",
         "x": [],
         "xaxis": "x",
         "yaxis": "y"
        },
        {
         "line": {
          "color": "rgba(255,255,255,0)"
         },
         "showlegend": false,
         "type": "scatter",
         "x": [],
         "xaxis": "x",
         "y": [],
         "yaxis": "y"
        },
        {
         "fill": "tonexty",
         "fillcolor": "rgba(0,176,246,0.2)",
         "line": {
          "color": "rgba(255,255,255,0)"
         },
         "name": "Bollinger Band",
         "type": "scatter",
         "x": [],
         "xaxis": "x",
         "y": [],
         "yaxis": "y"
        },
        {
         "marker": {
          "color": "cyan",
          "line": {
           "width": 2
          },
          "size": 11,
          "symbol": "circle-open"
         },
         "mode": "markers",
         "name": "Trade buy",
         "text": [
          "2.3%, signal_profit_u_1, 10 min",
          "4.4%, signal_profit_u_1, 65 min",
          "2.5%, signal_profit_u_1, 25 min",
          "2.1%, signal_profit_u_1, 50 min",
          "3.8%, signal_profit_u_1, 25 min",
          "3.2%, signal_profit_u_1, 25 min"
         ],
         "type": "scatter",
         "x": [
          "2021-05-28T11:50:00+00:00",
          "2021-05-28T21:05:00+00:00",
          "2021-06-04T05:40:00+00:00",
          "2021-06-04T06:55:00+00:00",
          "2021-06-04T12:10:00+00:00",
          "2021-06-05T21:35:00+00:00"
         ],
         "xaxis": "x",
         "y": [
          0.3174,
          0.29869,
          0.3869,
          0.37571,
          0.35504,
          0.43454
         ],
         "yaxis": "y"
        },
        {
         "marker": {
          "color": "green",
          "line": {
           "width": 2
          },
          "size": 11,
          "symbol": "square-open"
         },
         "mode": "markers",
         "name": "Sell - Profit",
         "text": [
          "2.3%, signal_profit_u_1, 10 min",
          "4.4%, signal_profit_u_1, 65 min",
          "2.5%, signal_profit_u_1, 25 min",
          "2.1%, signal_profit_u_1, 50 min",
          "3.8%, signal_profit_u_1, 25 min",
          "3.2%, signal_profit_u_1, 25 min"
         ],
         "type": "scatter",
         "x": [
          "2021-05-28T12:00:00+00:00",
          "2021-05-28T22:10:00+00:00",
          "2021-06-04T06:05:00+00:00",
          "2021-06-04T07:45:00+00:00",
          "2021-06-04T12:35:00+00:00",
          "2021-06-05T22:00:00+00:00"
         ],
         "xaxis": "x",
         "y": [
          0.32527,
          0.31233000000000005,
          0.39755,
          0.38437,
          0.36929,
          0.44952
         ],
         "yaxis": "y"
        },
        {
         "marker": {
          "color": "red",
          "line": {
           "width": 2
          },
          "size": 11,
          "symbol": "square-open"
         },
         "mode": "markers",
         "name": "Sell - Loss",
         "text": [],
         "type": "scatter",
         "x": [],
         "xaxis": "x",
         "y": [],
         "yaxis": "y"
        },
        {
         "marker": {
          "color": "DarkSlateGrey",
          "line": {
           "color": "DarkSlateGrey"
          }
         },
         "name": "Volume",
         "type": "bar",
         "x": [],
         "xaxis": "x2",
         "y": [],
         "yaxis": "y2"
        },
        {
         "mode": "lines",
         "name": "rsi",
         "type": "scatter",
         "x": [],
         "xaxis": "x3",
         "y": [],
         "yaxis": "y3"
        }
       ],
       "layout": {
        "template": {
         "data": {
          "bar": [
           {
            "error_x": {
             "color": "#2a3f5f"
            },
            "error_y": {
             "color": "#2a3f5f"
            },
            "marker": {
             "line": {
              "color": "#E5ECF6",
              "width": 0.5
             }
            },
            "type": "bar"
           }
          ],
          "barpolar": [
           {
            "marker": {
             "line": {
              "color": "#E5ECF6",
              "width": 0.5
             }
            },
            "type": "barpolar"
           }
          ],
          "carpet": [
           {
            "aaxis": {
             "endlinecolor": "#2a3f5f",
             "gridcolor": "white",
             "linecolor": "white",
             "minorgridcolor": "white",
             "startlinecolor": "#2a3f5f"
            },
            "baxis": {
             "endlinecolor": "#2a3f5f",
             "gridcolor": "white",
             "linecolor": "white",
             "minorgridcolor": "white",
             "startlinecolor": "#2a3f5f"
            },
            "type": "carpet"
           }
          ],
          "choropleth": [
           {
            "colorbar": {
             "outlinewidth": 0,
             "ticks": ""
            },
            "type": "choropleth"
           }
          ],
          "contour": [
           {
            "colorbar": {
             "outlinewidth": 0,
             "ticks": ""
            },
            "colorscale": [
             [
              0,
              "#0d0887"
             ],
             [
              0.1111111111111111,
              "#46039f"
             ],
             [
              0.2222222222222222,
              "#7201a8"
             ],
             [
              0.3333333333333333,
              "#9c179e"
             ],
             [
              0.4444444444444444,
              "#bd3786"
             ],
             [
              0.5555555555555556,
              "#d8576b"
             ],
             [
              0.6666666666666666,
              "#ed7953"
             ],
             [
              0.7777777777777778,
              "#fb9f3a"
             ],
             [
              0.8888888888888888,
              "#fdca26"
             ],
             [
              1,
              "#f0f921"
             ]
            ],
            "type": "contour"
           }
          ],
          "contourcarpet": [
           {
            "colorbar": {
             "outlinewidth": 0,
             "ticks": ""
            },
            "type": "contourcarpet"
           }
          ],
          "heatmap": [
           {
            "colorbar": {
             "outlinewidth": 0,
             "ticks": ""
            },
            "colorscale": [
             [
              0,
              "#0d0887"
             ],
             [
              0.1111111111111111,
              "#46039f"
             ],
             [
              0.2222222222222222,
              "#7201a8"
             ],
             [
              0.3333333333333333,
              "#9c179e"
             ],
             [
              0.4444444444444444,
              "#bd3786"
             ],
             [
              0.5555555555555556,
              "#d8576b"
             ],
             [
              0.6666666666666666,
              "#ed7953"
             ],
             [
              0.7777777777777778,
              "#fb9f3a"
             ],
             [
              0.8888888888888888,
              "#fdca26"
             ],
             [
              1,
              "#f0f921"
             ]
            ],
            "type": "heatmap"
           }
          ],
          "heatmapgl": [
           {
            "colorbar": {
             "outlinewidth": 0,
             "ticks": ""
            },
            "colorscale": [
             [
              0,
              "#0d0887"
             ],
             [
              0.1111111111111111,
              "#46039f"
             ],
             [
              0.2222222222222222,
              "#7201a8"
             ],
             [
              0.3333333333333333,
              "#9c179e"
             ],
             [
              0.4444444444444444,
              "#bd3786"
             ],
             [
              0.5555555555555556,
              "#d8576b"
             ],
             [
              0.6666666666666666,
              "#ed7953"
             ],
             [
              0.7777777777777778,
              "#fb9f3a"
             ],
             [
              0.8888888888888888,
              "#fdca26"
             ],
             [
              1,
              "#f0f921"
             ]
            ],
            "type": "heatmapgl"
           }
          ],
          "histogram": [
           {
            "marker": {
             "colorbar": {
              "outlinewidth": 0,
              "ticks": ""
             }
            },
            "type": "histogram"
           }
          ],
          "histogram2d": [
           {
            "colorbar": {
             "outlinewidth": 0,
             "ticks": ""
            },
            "colorscale": [
             [
              0,
              "#0d0887"
             ],
             [
              0.1111111111111111,
              "#46039f"
             ],
             [
              0.2222222222222222,
              "#7201a8"
             ],
             [
              0.3333333333333333,
              "#9c179e"
             ],
             [
              0.4444444444444444,
              "#bd3786"
             ],
             [
              0.5555555555555556,
              "#d8576b"
             ],
             [
              0.6666666666666666,
              "#ed7953"
             ],
             [
              0.7777777777777778,
              "#fb9f3a"
             ],
             [
              0.8888888888888888,
              "#fdca26"
             ],
             [
              1,
              "#f0f921"
             ]
            ],
            "type": "histogram2d"
           }
          ],
          "histogram2dcontour": [
           {
            "colorbar": {
             "outlinewidth": 0,
             "ticks": ""
            },
            "colorscale": [
             [
              0,
              "#0d0887"
             ],
             [
              0.1111111111111111,
              "#46039f"
             ],
             [
              0.2222222222222222,
              "#7201a8"
             ],
             [
              0.3333333333333333,
              "#9c179e"
             ],
             [
              0.4444444444444444,
              "#bd3786"
             ],
             [
              0.5555555555555556,
              "#d8576b"
             ],
             [
              0.6666666666666666,
              "#ed7953"
             ],
             [
              0.7777777777777778,
              "#fb9f3a"
             ],
             [
              0.8888888888888888,
              "#fdca26"
             ],
             [
              1,
              "#f0f921"
             ]
            ],
            "type": "histogram2dcontour"
           }
          ],
          "mesh3d": [
           {
            "colorbar": {
             "outlinewidth": 0,
             "ticks": ""
            },
            "type": "mesh3d"
           }
          ],
          "parcoords": [
           {
            "line": {
             "colorbar": {
              "outlinewidth": 0,
              "ticks": ""
             }
            },
            "type": "parcoords"
           }
          ],
          "pie": [
           {
            "automargin": true,
            "type": "pie"
           }
          ],
          "scatter": [
           {
            "marker": {
             "colorbar": {
              "outlinewidth": 0,
              "ticks": ""
             }
            },
            "type": "scatter"
           }
          ],
          "scatter3d": [
           {
            "line": {
             "colorbar": {
              "outlinewidth": 0,
              "ticks": ""
             }
            },
            "marker": {
             "colorbar": {
              "outlinewidth": 0,
              "ticks": ""
             }
            },
            "type": "scatter3d"
           }
          ],
          "scattercarpet": [
           {
            "marker": {
             "colorbar": {
              "outlinewidth": 0,
              "ticks": ""
             }
            },
            "type": "scattercarpet"
           }
          ],
          "scattergeo": [
           {
            "marker": {
             "colorbar": {
              "outlinewidth": 0,
              "ticks": ""
             }
            },
            "type": "scattergeo"
           }
          ],
          "scattergl": [
           {
            "marker": {
             "colorbar": {
              "outlinewidth": 0,
              "ticks": ""
             }
            },
            "type": "scattergl"
           }
          ],
          "scattermapbox": [
           {
            "marker": {
             "colorbar": {
              "outlinewidth": 0,
              "ticks": ""
             }
            },
            "type": "scattermapbox"
           }
          ],
          "scatterpolar": [
           {
            "marker": {
             "colorbar": {
              "outlinewidth": 0,
              "ticks": ""
             }
            },
            "type": "scatterpolar"
           }
          ],
          "scatterpolargl": [
           {
            "marker": {
             "colorbar": {
              "outlinewidth": 0,
              "ticks": ""
             }
            },
            "type": "scatterpolargl"
           }
          ],
          "scatterternary": [
           {
            "marker": {
             "colorbar": {
              "outlinewidth": 0,
              "ticks": ""
             }
            },
            "type": "scatterternary"
           }
          ],
          "surface": [
           {
            "colorbar": {
             "outlinewidth": 0,
             "ticks": ""
            },
            "colorscale": [
             [
              0,
              "#0d0887"
             ],
             [
              0.1111111111111111,
              "#46039f"
             ],
             [
              0.2222222222222222,
              "#7201a8"
             ],
             [
              0.3333333333333333,
              "#9c179e"
             ],
             [
              0.4444444444444444,
              "#bd3786"
             ],
             [
              0.5555555555555556,
              "#d8576b"
             ],
             [
              0.6666666666666666,
              "#ed7953"
             ],
             [
              0.7777777777777778,
              "#fb9f3a"
             ],
             [
              0.8888888888888888,
              "#fdca26"
             ],
             [
              1,
              "#f0f921"
             ]
            ],
            "type": "surface"
           }
          ],
          "table": [
           {
            "cells": {
             "fill": {
              "color": "#EBF0F8"
             },
             "line": {
              "color": "white"
             }
            },
            "header": {
             "fill": {
              "color": "#C8D4E3"
             },
             "line": {
              "color": "white"
             }
            },
            "type": "table"
           }
          ]
         },
         "layout": {
          "annotationdefaults": {
           "arrowcolor": "#2a3f5f",
           "arrowhead": 0,
           "arrowwidth": 1
          },
          "autotypenumbers": "strict",
          "coloraxis": {
           "colorbar": {
            "outlinewidth": 0,
            "ticks": ""
           }
          },
          "colorscale": {
           "diverging": [
            [
             0,
             "#8e0152"
            ],
            [
             0.1,
             "#c51b7d"
            ],
            [
             0.2,
             "#de77ae"
            ],
            [
             0.3,
             "#f1b6da"
            ],
            [
             0.4,
             "#fde0ef"
            ],
            [
             0.5,
             "#f7f7f7"
            ],
            [
             0.6,
             "#e6f5d0"
            ],
            [
             0.7,
             "#b8e186"
            ],
            [
             0.8,
             "#7fbc41"
            ],
            [
             0.9,
             "#4d9221"
            ],
            [
             1,
             "#276419"
            ]
           ],
           "sequential": [
            [
             0,
             "#0d0887"
            ],
            [
             0.1111111111111111,
             "#46039f"
            ],
            [
             0.2222222222222222,
             "#7201a8"
            ],
            [
             0.3333333333333333,
             "#9c179e"
            ],
            [
             0.4444444444444444,
             "#bd3786"
            ],
            [
             0.5555555555555556,
             "#d8576b"
            ],
            [
             0.6666666666666666,
             "#ed7953"
            ],
            [
             0.7777777777777778,
             "#fb9f3a"
            ],
            [
             0.8888888888888888,
             "#fdca26"
            ],
            [
             1,
             "#f0f921"
            ]
           ],
           "sequentialminus": [
            [
             0,
             "#0d0887"
            ],
            [
             0.1111111111111111,
             "#46039f"
            ],
            [
             0.2222222222222222,
             "#7201a8"
            ],
            [
             0.3333333333333333,
             "#9c179e"
            ],
            [
             0.4444444444444444,
             "#bd3786"
            ],
            [
             0.5555555555555556,
             "#d8576b"
            ],
            [
             0.6666666666666666,
             "#ed7953"
            ],
            [
             0.7777777777777778,
             "#fb9f3a"
            ],
            [
             0.8888888888888888,
             "#fdca26"
            ],
            [
             1,
             "#f0f921"
            ]
           ]
          },
          "colorway": [
           "#636efa",
           "#EF553B",
           "#00cc96",
           "#ab63fa",
           "#FFA15A",
           "#19d3f3",
           "#FF6692",
           "#B6E880",
           "#FF97FF",
           "#FECB52"
          ],
          "font": {
           "color": "#2a3f5f"
          },
          "geo": {
           "bgcolor": "white",
           "lakecolor": "white",
           "landcolor": "#E5ECF6",
           "showlakes": true,
           "showland": true,
           "subunitcolor": "white"
          },
          "hoverlabel": {
           "align": "left"
          },
          "hovermode": "closest",
          "mapbox": {
           "style": "light"
          },
          "paper_bgcolor": "white",
          "plot_bgcolor": "#E5ECF6",
          "polar": {
           "angularaxis": {
            "gridcolor": "white",
            "linecolor": "white",
            "ticks": ""
           },
           "bgcolor": "#E5ECF6",
           "radialaxis": {
            "gridcolor": "white",
            "linecolor": "white",
            "ticks": ""
           }
          },
          "scene": {
           "xaxis": {
            "backgroundcolor": "#E5ECF6",
            "gridcolor": "white",
            "gridwidth": 2,
            "linecolor": "white",
            "showbackground": true,
            "ticks": "",
            "zerolinecolor": "white"
           },
           "yaxis": {
            "backgroundcolor": "#E5ECF6",
            "gridcolor": "white",
            "gridwidth": 2,
            "linecolor": "white",
            "showbackground": true,
            "ticks": "",
            "zerolinecolor": "white"
           },
           "zaxis": {
            "backgroundcolor": "#E5ECF6",
            "gridcolor": "white",
            "gridwidth": 2,
            "linecolor": "white",
            "showbackground": true,
            "ticks": "",
            "zerolinecolor": "white"
           }
          },
          "shapedefaults": {
           "line": {
            "color": "#2a3f5f"
           }
          },
          "ternary": {
           "aaxis": {
            "gridcolor": "white",
            "linecolor": "white",
            "ticks": ""
           },
           "baxis": {
            "gridcolor": "white",
            "linecolor": "white",
            "ticks": ""
           },
           "bgcolor": "#E5ECF6",
           "caxis": {
            "gridcolor": "white",
            "linecolor": "white",
            "ticks": ""
           }
          },
          "title": {
           "x": 0.05
          },
          "xaxis": {
           "automargin": true,
           "gridcolor": "white",
           "linecolor": "white",
           "ticks": "",
           "title": {
            "standoff": 15
           },
           "zerolinecolor": "white",
           "zerolinewidth": 2
          },
          "yaxis": {
           "automargin": true,
           "gridcolor": "white",
           "linecolor": "white",
           "ticks": "",
           "title": {
            "standoff": 15
           },
           "zerolinecolor": "white",
           "zerolinewidth": 2
          }
         }
        },
        "title": {
         "text": "TFUEL/USDT"
        },
        "xaxis": {
         "anchor": "y",
         "domain": [
          0,
          1
         ],
         "matches": "x3",
         "rangeslider": {
          "visible": false
         },
         "showticklabels": false
        },
        "xaxis2": {
         "anchor": "y2",
         "domain": [
          0,
          1
         ],
         "matches": "x3",
         "showticklabels": false
        },
        "xaxis3": {
         "anchor": "y3",
         "domain": [
          0,
          1
         ]
        },
        "yaxis": {
         "anchor": "x",
         "domain": [
          0.33346666666666663,
          1
         ],
         "title": {
          "text": "Price"
         }
        },
        "yaxis2": {
         "anchor": "x2",
         "domain": [
          0.16673333333333332,
          0.33336666666666664
         ],
         "title": {
          "text": "Volume"
         }
        },
        "yaxis3": {
         "anchor": "x3",
         "domain": [
          0,
          0.16663333333333333
         ],
         "title": {
          "text": "Other"
         }
        }
       }
      },
      "text/html": [
       "<div>                            <div id=\"e6587492-9aa0-4c3d-a002-75c23c9a10b7\" class=\"plotly-graph-div\" style=\"height:525px; width:100%;\"></div>            <script type=\"text/javascript\">                require([\"plotly\"], function(Plotly) {                    window.PLOTLYENV=window.PLOTLYENV || {};                                    if (document.getElementById(\"e6587492-9aa0-4c3d-a002-75c23c9a10b7\")) {                    Plotly.newPlot(                        \"e6587492-9aa0-4c3d-a002-75c23c9a10b7\",                        [{\"close\": [], \"high\": [], \"low\": [], \"name\": \"Price\", \"open\": [], \"type\": \"candlestick\", \"x\": [], \"xaxis\": \"x\", \"yaxis\": \"y\"}, {\"line\": {\"color\": \"rgba(255,255,255,0)\"}, \"showlegend\": false, \"type\": \"scatter\", \"x\": [], \"xaxis\": \"x\", \"y\": [], \"yaxis\": \"y\"}, {\"fill\": \"tonexty\", \"fillcolor\": \"rgba(0,176,246,0.2)\", \"line\": {\"color\": \"rgba(255,255,255,0)\"}, \"name\": \"Bollinger Band\", \"type\": \"scatter\", \"x\": [], \"xaxis\": \"x\", \"y\": [], \"yaxis\": \"y\"}, {\"marker\": {\"color\": \"cyan\", \"line\": {\"width\": 2}, \"size\": 11, \"symbol\": \"circle-open\"}, \"mode\": \"markers\", \"name\": \"Trade buy\", \"text\": [\"2.3%, signal_profit_u_1, 10 min\", \"4.4%, signal_profit_u_1, 65 min\", \"2.5%, signal_profit_u_1, 25 min\", \"2.1%, signal_profit_u_1, 50 min\", \"3.8%, signal_profit_u_1, 25 min\", \"3.2%, signal_profit_u_1, 25 min\"], \"type\": \"scatter\", \"x\": [\"2021-05-28T11:50:00+00:00\", \"2021-05-28T21:05:00+00:00\", \"2021-06-04T05:40:00+00:00\", \"2021-06-04T06:55:00+00:00\", \"2021-06-04T12:10:00+00:00\", \"2021-06-05T21:35:00+00:00\"], \"xaxis\": \"x\", \"y\": [0.3174, 0.29869, 0.3869, 0.37571, 0.35504, 0.43454], \"yaxis\": \"y\"}, {\"marker\": {\"color\": \"green\", \"line\": {\"width\": 2}, \"size\": 11, \"symbol\": \"square-open\"}, \"mode\": \"markers\", \"name\": \"Sell - Profit\", \"text\": [\"2.3%, signal_profit_u_1, 10 min\", \"4.4%, signal_profit_u_1, 65 min\", \"2.5%, signal_profit_u_1, 25 min\", \"2.1%, signal_profit_u_1, 50 min\", \"3.8%, signal_profit_u_1, 25 min\", \"3.2%, signal_profit_u_1, 25 min\"], \"type\": \"scatter\", \"x\": [\"2021-05-28T12:00:00+00:00\", \"2021-05-28T22:10:00+00:00\", \"2021-06-04T06:05:00+00:00\", \"2021-06-04T07:45:00+00:00\", \"2021-06-04T12:35:00+00:00\", \"2021-06-05T22:00:00+00:00\"], \"xaxis\": \"x\", \"y\": [0.32527, 0.31233000000000005, 0.39755, 0.38437, 0.36929, 0.44952], \"yaxis\": \"y\"}, {\"marker\": {\"color\": \"red\", \"line\": {\"width\": 2}, \"size\": 11, \"symbol\": \"square-open\"}, \"mode\": \"markers\", \"name\": \"Sell - Loss\", \"text\": [], \"type\": \"scatter\", \"x\": [], \"xaxis\": \"x\", \"y\": [], \"yaxis\": \"y\"}, {\"marker\": {\"color\": \"DarkSlateGrey\", \"line\": {\"color\": \"DarkSlateGrey\"}}, \"name\": \"Volume\", \"type\": \"bar\", \"x\": [], \"xaxis\": \"x2\", \"y\": [], \"yaxis\": \"y2\"}, {\"mode\": \"lines\", \"name\": \"rsi\", \"type\": \"scatter\", \"x\": [], \"xaxis\": \"x3\", \"y\": [], \"yaxis\": \"y3\"}],                        {\"template\": {\"data\": {\"bar\": [{\"error_x\": {\"color\": \"#2a3f5f\"}, \"error_y\": {\"color\": \"#2a3f5f\"}, \"marker\": {\"line\": {\"color\": \"#E5ECF6\", \"width\": 0.5}}, \"type\": \"bar\"}], \"barpolar\": [{\"marker\": {\"line\": {\"color\": \"#E5ECF6\", \"width\": 0.5}}, \"type\": \"barpolar\"}], \"carpet\": [{\"aaxis\": {\"endlinecolor\": \"#2a3f5f\", \"gridcolor\": \"white\", \"linecolor\": \"white\", \"minorgridcolor\": \"white\", \"startlinecolor\": \"#2a3f5f\"}, \"baxis\": {\"endlinecolor\": \"#2a3f5f\", \"gridcolor\": \"white\", \"linecolor\": \"white\", \"minorgridcolor\": \"white\", \"startlinecolor\": \"#2a3f5f\"}, \"type\": \"carpet\"}], \"choropleth\": [{\"colorbar\": {\"outlinewidth\": 0, \"ticks\": \"\"}, \"type\": \"choropleth\"}], \"contour\": [{\"colorbar\": {\"outlinewidth\": 0, \"ticks\": \"\"}, \"colorscale\": [[0.0, \"#0d0887\"], [0.1111111111111111, \"#46039f\"], [0.2222222222222222, \"#7201a8\"], [0.3333333333333333, \"#9c179e\"], [0.4444444444444444, \"#bd3786\"], [0.5555555555555556, \"#d8576b\"], [0.6666666666666666, \"#ed7953\"], [0.7777777777777778, \"#fb9f3a\"], [0.8888888888888888, \"#fdca26\"], [1.0, \"#f0f921\"]], \"type\": \"contour\"}], \"contourcarpet\": [{\"colorbar\": {\"outlinewidth\": 0, \"ticks\": \"\"}, \"type\": \"contourcarpet\"}], \"heatmap\": [{\"colorbar\": {\"outlinewidth\": 0, \"ticks\": \"\"}, \"colorscale\": [[0.0, \"#0d0887\"], [0.1111111111111111, \"#46039f\"], [0.2222222222222222, \"#7201a8\"], [0.3333333333333333, \"#9c179e\"], [0.4444444444444444, \"#bd3786\"], [0.5555555555555556, \"#d8576b\"], [0.6666666666666666, \"#ed7953\"], [0.7777777777777778, \"#fb9f3a\"], [0.8888888888888888, \"#fdca26\"], [1.0, \"#f0f921\"]], \"type\": \"heatmap\"}], \"heatmapgl\": [{\"colorbar\": {\"outlinewidth\": 0, \"ticks\": \"\"}, \"colorscale\": [[0.0, \"#0d0887\"], [0.1111111111111111, \"#46039f\"], [0.2222222222222222, \"#7201a8\"], [0.3333333333333333, \"#9c179e\"], [0.4444444444444444, \"#bd3786\"], [0.5555555555555556, \"#d8576b\"], [0.6666666666666666, \"#ed7953\"], [0.7777777777777778, \"#fb9f3a\"], [0.8888888888888888, \"#fdca26\"], [1.0, \"#f0f921\"]], \"type\": \"heatmapgl\"}], \"histogram\": [{\"marker\": {\"colorbar\": {\"outlinewidth\": 0, \"ticks\": \"\"}}, \"type\": \"histogram\"}], \"histogram2d\": [{\"colorbar\": {\"outlinewidth\": 0, \"ticks\": \"\"}, \"colorscale\": [[0.0, \"#0d0887\"], [0.1111111111111111, \"#46039f\"], [0.2222222222222222, \"#7201a8\"], [0.3333333333333333, \"#9c179e\"], [0.4444444444444444, \"#bd3786\"], [0.5555555555555556, \"#d8576b\"], [0.6666666666666666, \"#ed7953\"], [0.7777777777777778, \"#fb9f3a\"], [0.8888888888888888, \"#fdca26\"], [1.0, \"#f0f921\"]], \"type\": \"histogram2d\"}], \"histogram2dcontour\": [{\"colorbar\": {\"outlinewidth\": 0, \"ticks\": \"\"}, \"colorscale\": [[0.0, \"#0d0887\"], [0.1111111111111111, \"#46039f\"], [0.2222222222222222, \"#7201a8\"], [0.3333333333333333, \"#9c179e\"], [0.4444444444444444, \"#bd3786\"], [0.5555555555555556, \"#d8576b\"], [0.6666666666666666, \"#ed7953\"], [0.7777777777777778, \"#fb9f3a\"], [0.8888888888888888, \"#fdca26\"], [1.0, \"#f0f921\"]], \"type\": \"histogram2dcontour\"}], \"mesh3d\": [{\"colorbar\": {\"outlinewidth\": 0, \"ticks\": \"\"}, \"type\": \"mesh3d\"}], \"parcoords\": [{\"line\": {\"colorbar\": {\"outlinewidth\": 0, \"ticks\": \"\"}}, \"type\": \"parcoords\"}], \"pie\": [{\"automargin\": true, \"type\": \"pie\"}], \"scatter\": [{\"marker\": {\"colorbar\": {\"outlinewidth\": 0, \"ticks\": \"\"}}, \"type\": \"scatter\"}], \"scatter3d\": [{\"line\": {\"colorbar\": {\"outlinewidth\": 0, \"ticks\": \"\"}}, \"marker\": {\"colorbar\": {\"outlinewidth\": 0, \"ticks\": \"\"}}, \"type\": \"scatter3d\"}], \"scattercarpet\": [{\"marker\": {\"colorbar\": {\"outlinewidth\": 0, \"ticks\": \"\"}}, \"type\": \"scattercarpet\"}], \"scattergeo\": [{\"marker\": {\"colorbar\": {\"outlinewidth\": 0, \"ticks\": \"\"}}, \"type\": \"scattergeo\"}], \"scattergl\": [{\"marker\": {\"colorbar\": {\"outlinewidth\": 0, \"ticks\": \"\"}}, \"type\": \"scattergl\"}], \"scattermapbox\": [{\"marker\": {\"colorbar\": {\"outlinewidth\": 0, \"ticks\": \"\"}}, \"type\": \"scattermapbox\"}], \"scatterpolar\": [{\"marker\": {\"colorbar\": {\"outlinewidth\": 0, \"ticks\": \"\"}}, \"type\": \"scatterpolar\"}], \"scatterpolargl\": [{\"marker\": {\"colorbar\": {\"outlinewidth\": 0, \"ticks\": \"\"}}, \"type\": \"scatterpolargl\"}], \"scatterternary\": [{\"marker\": {\"colorbar\": {\"outlinewidth\": 0, \"ticks\": \"\"}}, \"type\": \"scatterternary\"}], \"surface\": [{\"colorbar\": {\"outlinewidth\": 0, \"ticks\": \"\"}, \"colorscale\": [[0.0, \"#0d0887\"], [0.1111111111111111, \"#46039f\"], [0.2222222222222222, \"#7201a8\"], [0.3333333333333333, \"#9c179e\"], [0.4444444444444444, \"#bd3786\"], [0.5555555555555556, \"#d8576b\"], [0.6666666666666666, \"#ed7953\"], [0.7777777777777778, \"#fb9f3a\"], [0.8888888888888888, \"#fdca26\"], [1.0, \"#f0f921\"]], \"type\": \"surface\"}], \"table\": [{\"cells\": {\"fill\": {\"color\": \"#EBF0F8\"}, \"line\": {\"color\": \"white\"}}, \"header\": {\"fill\": {\"color\": \"#C8D4E3\"}, \"line\": {\"color\": \"white\"}}, \"type\": \"table\"}]}, \"layout\": {\"annotationdefaults\": {\"arrowcolor\": \"#2a3f5f\", \"arrowhead\": 0, \"arrowwidth\": 1}, \"autotypenumbers\": \"strict\", \"coloraxis\": {\"colorbar\": {\"outlinewidth\": 0, \"ticks\": \"\"}}, \"colorscale\": {\"diverging\": [[0, \"#8e0152\"], [0.1, \"#c51b7d\"], [0.2, \"#de77ae\"], [0.3, \"#f1b6da\"], [0.4, \"#fde0ef\"], [0.5, \"#f7f7f7\"], [0.6, \"#e6f5d0\"], [0.7, \"#b8e186\"], [0.8, \"#7fbc41\"], [0.9, \"#4d9221\"], [1, \"#276419\"]], \"sequential\": [[0.0, \"#0d0887\"], [0.1111111111111111, \"#46039f\"], [0.2222222222222222, \"#7201a8\"], [0.3333333333333333, \"#9c179e\"], [0.4444444444444444, \"#bd3786\"], [0.5555555555555556, \"#d8576b\"], [0.6666666666666666, \"#ed7953\"], [0.7777777777777778, \"#fb9f3a\"], [0.8888888888888888, \"#fdca26\"], [1.0, \"#f0f921\"]], \"sequentialminus\": [[0.0, \"#0d0887\"], [0.1111111111111111, \"#46039f\"], [0.2222222222222222, \"#7201a8\"], [0.3333333333333333, \"#9c179e\"], [0.4444444444444444, \"#bd3786\"], [0.5555555555555556, \"#d8576b\"], [0.6666666666666666, \"#ed7953\"], [0.7777777777777778, \"#fb9f3a\"], [0.8888888888888888, \"#fdca26\"], [1.0, \"#f0f921\"]]}, \"colorway\": [\"#636efa\", \"#EF553B\", \"#00cc96\", \"#ab63fa\", \"#FFA15A\", \"#19d3f3\", \"#FF6692\", \"#B6E880\", \"#FF97FF\", \"#FECB52\"], \"font\": {\"color\": \"#2a3f5f\"}, \"geo\": {\"bgcolor\": \"white\", \"lakecolor\": \"white\", \"landcolor\": \"#E5ECF6\", \"showlakes\": true, \"showland\": true, \"subunitcolor\": \"white\"}, \"hoverlabel\": {\"align\": \"left\"}, \"hovermode\": \"closest\", \"mapbox\": {\"style\": \"light\"}, \"paper_bgcolor\": \"white\", \"plot_bgcolor\": \"#E5ECF6\", \"polar\": {\"angularaxis\": {\"gridcolor\": \"white\", \"linecolor\": \"white\", \"ticks\": \"\"}, \"bgcolor\": \"#E5ECF6\", \"radialaxis\": {\"gridcolor\": \"white\", \"linecolor\": \"white\", \"ticks\": \"\"}}, \"scene\": {\"xaxis\": {\"backgroundcolor\": \"#E5ECF6\", \"gridcolor\": \"white\", \"gridwidth\": 2, \"linecolor\": \"white\", \"showbackground\": true, \"ticks\": \"\", \"zerolinecolor\": \"white\"}, \"yaxis\": {\"backgroundcolor\": \"#E5ECF6\", \"gridcolor\": \"white\", \"gridwidth\": 2, \"linecolor\": \"white\", \"showbackground\": true, \"ticks\": \"\", \"zerolinecolor\": \"white\"}, \"zaxis\": {\"backgroundcolor\": \"#E5ECF6\", \"gridcolor\": \"white\", \"gridwidth\": 2, \"linecolor\": \"white\", \"showbackground\": true, \"ticks\": \"\", \"zerolinecolor\": \"white\"}}, \"shapedefaults\": {\"line\": {\"color\": \"#2a3f5f\"}}, \"ternary\": {\"aaxis\": {\"gridcolor\": \"white\", \"linecolor\": \"white\", \"ticks\": \"\"}, \"baxis\": {\"gridcolor\": \"white\", \"linecolor\": \"white\", \"ticks\": \"\"}, \"bgcolor\": \"#E5ECF6\", \"caxis\": {\"gridcolor\": \"white\", \"linecolor\": \"white\", \"ticks\": \"\"}}, \"title\": {\"x\": 0.05}, \"xaxis\": {\"automargin\": true, \"gridcolor\": \"white\", \"linecolor\": \"white\", \"ticks\": \"\", \"title\": {\"standoff\": 15}, \"zerolinecolor\": \"white\", \"zerolinewidth\": 2}, \"yaxis\": {\"automargin\": true, \"gridcolor\": \"white\", \"linecolor\": \"white\", \"ticks\": \"\", \"title\": {\"standoff\": 15}, \"zerolinecolor\": \"white\", \"zerolinewidth\": 2}}}, \"title\": {\"text\": \"TFUEL/USDT\"}, \"xaxis\": {\"anchor\": \"y\", \"domain\": [0.0, 1.0], \"matches\": \"x3\", \"rangeslider\": {\"visible\": false}, \"showticklabels\": false}, \"xaxis2\": {\"anchor\": \"y2\", \"domain\": [0.0, 1.0], \"matches\": \"x3\", \"showticklabels\": false}, \"xaxis3\": {\"anchor\": \"y3\", \"domain\": [0.0, 1.0]}, \"yaxis\": {\"anchor\": \"x\", \"domain\": [0.33346666666666663, 1.0], \"title\": {\"text\": \"Price\"}}, \"yaxis2\": {\"anchor\": \"x2\", \"domain\": [0.16673333333333332, 0.33336666666666664], \"title\": {\"text\": \"Volume\"}}, \"yaxis3\": {\"anchor\": \"x3\", \"domain\": [0.0, 0.16663333333333333], \"title\": {\"text\": \"Other\"}}},                        {\"responsive\": true}                    ).then(function(){\n",
       "                            \n",
       "var gd = document.getElementById('e6587492-9aa0-4c3d-a002-75c23c9a10b7');\n",
       "var x = new MutationObserver(function (mutations, observer) {{\n",
       "        var display = window.getComputedStyle(gd).display;\n",
       "        if (!display || display === 'none') {{\n",
       "            console.log([gd, 'removed!']);\n",
       "            Plotly.purge(gd);\n",
       "            observer.disconnect();\n",
       "        }}\n",
       "}});\n",
       "\n",
       "// Listen for the removal of the full notebook cells\n",
       "var notebookContainer = gd.closest('#notebook-container');\n",
       "if (notebookContainer) {{\n",
       "    x.observe(notebookContainer, {childList: true});\n",
       "}}\n",
       "\n",
       "// Listen for the clearing of the current output cell\n",
       "var outputEl = gd.closest('.output');\n",
       "if (outputEl) {{\n",
       "    x.observe(outputEl, {childList: true});\n",
       "}}\n",
       "\n",
       "                        })                };                });            </script>        </div>"
      ]
     },
     "metadata": {},
     "output_type": "display_data"
    }
   ],
   "source": [
    "# Show graph inline\n",
    "graph.show()"
   ]
  },
  {
   "cell_type": "markdown",
   "metadata": {},
   "source": [
    "## Plot average profit per trade as distribution graph"
   ]
  },
  {
   "cell_type": "code",
   "execution_count": 12,
   "metadata": {},
   "outputs": [
    {
     "data": {
      "application/vnd.plotly.v1+json": {
       "config": {
        "plotlyServerURL": "https://plot.ly"
       },
       "data": [
        {
         "autobinx": false,
         "histnorm": "probability density",
         "legendgroup": "profit_ratio",
         "marker": {
          "color": "rgb(31, 119, 180)"
         },
         "name": "profit_ratio",
         "opacity": 0.7,
         "type": "histogram",
         "x": [
          -0.03455674,
          0.03524291,
          0.02896101,
          0.02812114,
          0.02617337,
          0.03612935,
          0.03955,
          0.04393277,
          0.03221122,
          0.03055694,
          0.02396975,
          0.02054652,
          0.0369716,
          0.02183585,
          0.02390132,
          0.02170469,
          0.04627324,
          0.04515301,
          0.06219985,
          0.02215365,
          0.03194083,
          0.04410517,
          0.02755099,
          0.02860294,
          0.02367408,
          0.04247559,
          0.02330702,
          0.00907041,
          0.02106453,
          0.02810894,
          0.03979573,
          0.0211433,
          0.05535686,
          0.06054271,
          0.02082326,
          0.02540113,
          0.10186929,
          0.032,
          0.10749566,
          0.07196275,
          0.02843203,
          0.00095359,
          0.02772813,
          0.04216757,
          0.02628513,
          0.02163227,
          0.03090374,
          0.03496813,
          0.02583731,
          0.0463349,
          0.04074696,
          0.02274767,
          0.03513667,
          -0.00873712,
          0.02435818,
          0.02177024,
          0.04357683,
          0.01479073,
          0.09445504,
          0.0924895,
          -0.08070478,
          0.02356323,
          0.0163365,
          0.01692984,
          0.02177089,
          0.02034197,
          0.02547349,
          0.02908883,
          0.0201384,
          0.02100564,
          0.03805813,
          0.00713703,
          0.01235821,
          0.03284895,
          -0.0059339,
          0.00486849,
          0.02170385,
          0.03240636,
          0.02046909
         ],
         "xaxis": "x",
         "xbins": {
          "end": 0.10749566,
          "size": 0.01,
          "start": -0.08070478
         },
         "yaxis": "y"
        },
        {
         "legendgroup": "profit_ratio",
         "marker": {
          "color": "rgb(31, 119, 180)"
         },
         "mode": "lines",
         "name": "profit_ratio",
         "showlegend": false,
         "type": "scatter",
         "x": [
          -0.08070478,
          -0.08032837912,
          -0.07995197824,
          -0.07957557736000001,
          -0.07919917648000001,
          -0.0788227756,
          -0.07844637472,
          -0.07806997384,
          -0.07769357296,
          -0.07731717208,
          -0.07694077120000001,
          -0.07656437032,
          -0.07618796944,
          -0.07581156856,
          -0.07543516768,
          -0.07505876680000001,
          -0.07468236592000001,
          -0.07430596504,
          -0.07392956416,
          -0.07355316328,
          -0.0731767624,
          -0.07280036152,
          -0.07242396064,
          -0.07204755976,
          -0.07167115888,
          -0.071294758,
          -0.07091835712,
          -0.07054195624000001,
          -0.07016555536,
          -0.06978915448,
          -0.0694127536,
          -0.06903635272,
          -0.06865995184,
          -0.06828355096,
          -0.06790715008,
          -0.0675307492,
          -0.06715434832,
          -0.06677794744,
          -0.06640154656,
          -0.06602514568000001,
          -0.0656487448,
          -0.06527234392,
          -0.06489594304,
          -0.06451954216,
          -0.06414314128000001,
          -0.0637667404,
          -0.06339033952,
          -0.06301393864,
          -0.06263753776,
          -0.06226113688,
          -0.061884735999999996,
          -0.06150833512000001,
          -0.061131934240000005,
          -0.06075553336,
          -0.06037913248,
          -0.0600027316,
          -0.05962633072,
          -0.05924992984,
          -0.058873528960000004,
          -0.05849712808,
          -0.0581207272,
          -0.05774432632,
          -0.05736792544,
          -0.05699152456,
          -0.056615123680000004,
          -0.0562387228,
          -0.05586232192,
          -0.05548592104,
          -0.055109520159999995,
          -0.054733119280000006,
          -0.054356718400000004,
          -0.05398031752,
          -0.05360391664,
          -0.053227515759999997,
          -0.05285111488,
          -0.052474714,
          -0.05209831312,
          -0.05172191224,
          -0.05134551136,
          -0.050969110479999996,
          -0.0505927096,
          -0.050216308720000005,
          -0.04983990784,
          -0.04946350696,
          -0.04908710608,
          -0.0487107052,
          -0.04833430432,
          -0.04795790344,
          -0.04758150256,
          -0.04720510168,
          -0.0468287008,
          -0.046452299919999995,
          -0.04607589904,
          -0.045699498160000004,
          -0.045323097279999995,
          -0.0449466964,
          -0.04457029552,
          -0.04419389464,
          -0.04381749376,
          -0.04344109288,
          -0.043064691999999995,
          -0.04268829112,
          -0.042311890240000004,
          -0.041935489359999994,
          -0.04155908848,
          -0.0411826876,
          -0.04080628672,
          -0.04042988584,
          -0.040053484959999996,
          -0.039677084079999994,
          -0.0393006832,
          -0.03892428232,
          -0.03854788144,
          -0.03817148056,
          -0.037795079679999996,
          -0.0374186788,
          -0.03704227792,
          -0.036665877039999996,
          -0.036289476159999993,
          -0.03591307528,
          -0.0355366744,
          -0.03516027352,
          -0.03478387264,
          -0.034407471759999995,
          -0.03403107088,
          -0.03365467,
          -0.033278269119999995,
          -0.03290186823999999,
          -0.03252546736,
          -0.03214906648,
          -0.0317726656,
          -0.03139626472,
          -0.031019863839999995,
          -0.03064346296,
          -0.030267062079999997,
          -0.029890661199999995,
          -0.029514260319999992,
          -0.029137859439999997,
          -0.02876145856,
          -0.02838505768,
          -0.028008656799999997,
          -0.027632255919999994,
          -0.02725585504,
          -0.026879454159999996,
          -0.026503053279999994,
          -0.02612665239999999,
          -0.025750251519999996,
          -0.02537385064,
          -0.02499744976,
          -0.024621048879999996,
          -0.024244647999999994,
          -0.023868247119999998,
          -0.023491846239999996,
          -0.02311544536,
          -0.02273904447999999,
          -0.022362643599999996,
          -0.02198624272,
          -0.021609841839999998,
          -0.021233440959999995,
          -0.020857040079999993,
          -0.020480639199999998,
          -0.020104238319999995,
          -0.01972783744,
          -0.01935143655999999,
          -0.018975035679999995,
          -0.0185986348,
          -0.018222233919999997,
          -0.017845833039999995,
          -0.017469432159999992,
          -0.01709303127999999,
          -0.0167166304,
          -0.01634022952,
          -0.015963828639999997,
          -0.015587427759999994,
          -0.015211026879999992,
          -0.01483462599999999,
          -0.014458225120000001,
          -0.014081824239999999,
          -0.013705423359999996,
          -0.013329022479999994,
          -0.012952621599999992,
          -0.012576220720000003,
          -0.012199819839999987,
          -0.011823418959999984,
          -0.011447018079999996,
          -0.011070617199999994,
          -0.010694216320000005,
          -0.010317815439999989,
          -0.009941414559999986,
          -0.009565013679999998,
          -0.009188612799999996,
          -0.008812211919999993,
          -0.00843581103999999,
          -0.008059410159999988,
          -0.00768300928,
          -0.0073066083999999976,
          -0.006930207519999995,
          -0.006553806639999993,
          -0.00617740575999999,
          -0.005801004880000002,
          -0.005424603999999986,
          -0.005048203119999997,
          -0.004671802239999995,
          -0.004295401359999992,
          -0.003919000480000004,
          -0.0035425995999999876,
          -0.0031661987199999853,
          -0.0027897978399999968,
          -0.0024133969599999944,
          -0.002036996079999992,
          -0.0016605951999999896,
          -0.0012841943199999872,
          -0.0009077934399999987,
          -0.0005313925599999964,
          -0.00015499167999999397,
          0.0002214092000000084,
          0.0005978100800000108,
          0.0009742109599999993,
          0.0013506118400000156,
          0.001727012720000004,
          0.0021034136000000064,
          0.002479814480000009,
          0.0028562153599999973,
          0.0032326162400000136,
          0.003609017120000002,
          0.0039854180000000045,
          0.004361818880000007,
          0.004738219760000009,
          0.005114620640000012,
          0.005491021520000014,
          0.0058674224000000025,
          0.006243823280000005,
          0.006620224160000007,
          0.00699662504000001,
          0.007373025920000012,
          0.0077494268000000005,
          0.008125827680000017,
          0.008502228560000005,
          0.008878629440000008,
          0.00925503032000001,
          0.009631431199999999,
          0.010007832080000015,
          0.010384232960000003,
          0.010760633840000006,
          0.011137034720000008,
          0.01151343560000001,
          0.011889836480000013,
          0.012266237360000015,
          0.012642638240000004,
          0.013019039120000006,
          0.013395440000000008,
          0.01377184088000001,
          0.014148241760000013,
          0.014524642640000002,
          0.014901043520000018,
          0.015277444400000006,
          0.01565384528000001,
          0.01603024616000001,
          0.01640664704,
          0.016783047920000016,
          0.017159448800000004,
          0.017535849680000007,
          0.01791225056000001,
          0.01828865144000001,
          0.018665052320000014,
          0.019041453200000003,
          0.019417854080000005,
          0.019794254960000007,
          0.02017065584000001,
          0.020547056720000012,
          0.020923457600000014,
          0.021299858480000003,
          0.02167625936000002,
          0.022052660240000008,
          0.02242906112000001,
          0.022805462000000012,
          0.02318186288,
          0.023558263760000017,
          0.023934664640000006,
          0.024311065520000008,
          0.02468746640000001,
          0.025063867280000013,
          0.025440268160000015,
          0.025816669040000004,
          0.026193069920000006,
          0.02656947080000001,
          0.02694587168000001,
          0.027322272560000013,
          0.027698673440000016,
          0.028075074320000004,
          0.02845147520000002,
          0.02882787608000001,
          0.02920427696000001,
          0.029580677840000014,
          0.029957078720000002,
          0.03033347960000002,
          0.030709880480000007,
          0.03108628136000001,
          0.03146268224000001,
          0.031839083120000014,
          0.032215484000000016,
          0.032591884880000005,
          0.03296828576000001,
          0.03334468664000001,
          0.03372108752000001,
          0.034097488400000014,
          0.03447388928,
          0.034850290160000005,
          0.03522669104000002,
          0.03560309192000001,
          0.03597949280000001,
          0.036355893680000015,
          0.03673229456,
          0.03710869544000002,
          0.03748509632000001,
          0.03786149720000001,
          0.03823789808000001,
          0.038614298960000015,
          0.03899069984000002,
          0.039367100720000006,
          0.03974350160000001,
          0.04011990248000001,
          0.04049630336000001,
          0.040872704240000016,
          0.041249105120000004,
          0.04162550600000001,
          0.04200190688000002,
          0.04237830776000001,
          0.042754708640000014,
          0.04313110952,
          0.043507510400000005,
          0.04388391128000002,
          0.04426031216000001,
          0.044636713040000026,
          0.045013113920000014,
          0.0453895148,
          0.04576591568000002,
          0.04614231656000001,
          0.046518717440000024,
          0.04689511832000001,
          0.0472715192,
          0.04764792007999999,
          0.048024320960000005,
          0.04840072184000002,
          0.04877712272000001,
          0.049153523600000026,
          0.049529924480000015,
          0.04990632536,
          0.05028272624000002,
          0.05065912712000001,
          0.051035528000000024,
          0.05141192888000001,
          0.05178832976,
          0.05216473064000002,
          0.052541131520000006,
          0.05291753240000002,
          0.05329393328000001,
          0.05367033416,
          0.054046735040000016,
          0.054423135920000004,
          0.05479953680000002,
          0.05517593768000001,
          0.05555233856,
          0.055928739440000014,
          0.05630514032000003,
          0.05668154120000002,
          0.057057942080000035,
          0.057434342959999996,
          0.05781074384000001,
          0.05818714472000003,
          0.058563545600000017,
          0.05893994648000003,
          0.059316347359999994,
          0.05969274824000001,
          0.060069149120000026,
          0.060445550000000015,
          0.06082195088000003,
          0.06119835175999999,
          0.06157475264000001,
          0.061951153520000024,
          0.06232755440000001,
          0.06270395528000003,
          0.06308035616000002,
          0.06345675704,
          0.06383315792000002,
          0.06420955880000001,
          0.06458595968000003,
          0.06496236056000002,
          0.06533876144,
          0.06571516232000002,
          0.06609156320000001,
          0.06646796408000002,
          0.06684436496000001,
          0.06722076584,
          0.06759716672000002,
          0.0679735676,
          0.06834996848000002,
          0.06872636936000001,
          0.06910277024,
          0.06947917112000002,
          0.06985557200000003,
          0.07023197288000002,
          0.07060837376000001,
          0.07098477464,
          0.07136117552000001,
          0.07173757640000003,
          0.07211397728000002,
          0.07249037816000004,
          0.07286677904,
          0.07324317992000001,
          0.07361958080000003,
          0.07399598168000002,
          0.07437238256000003,
          0.07474878344,
          0.07512518432000001,
          0.07550158520000003,
          0.07587798608000001,
          0.07625438696000003,
          0.07663078784000002,
          0.07700718872000001,
          0.07738358960000002,
          0.07775999048000001,
          0.07813639136000003,
          0.07851279224000002,
          0.07888919312,
          0.07926559400000002,
          0.07964199488000001,
          0.08001839576000003,
          0.08039479664000002,
          0.08077119752,
          0.08114759840000002,
          0.08152399928000001,
          0.08190040016000003,
          0.08227680104000001,
          0.08265320192,
          0.08302960280000002,
          0.08340600368000003,
          0.08378240456000002,
          0.08415880544000001,
          0.08453520632,
          0.08491160720000002,
          0.08528800808000003,
          0.08566440896000002,
          0.08604080984000001,
          0.08641721072,
          0.08679361160000001,
          0.08717001248000003,
          0.08754641336000002,
          0.08792281424000001,
          0.08829921512,
          0.08867561600000001,
          0.08905201688000003,
          0.08942841776000002,
          0.08980481864000003,
          0.09018121952000002,
          0.09055762040000001,
          0.09093402128000003,
          0.09131042216000002,
          0.09168682304000003,
          0.09206322392000002,
          0.09243962480000001,
          0.09281602568000002,
          0.09319242656000001,
          0.09356882744000003,
          0.09394522832000002,
          0.0943216292,
          0.09469803008000002,
          0.09507443096000001,
          0.09545083184000003,
          0.09582723272000002,
          0.0962036336,
          0.09658003448000002,
          0.09695643536000004,
          0.09733283624000003,
          0.09770923712000001,
          0.098085638,
          0.09846203888000002,
          0.09883843976000004,
          0.09921484064000002,
          0.09959124152000001,
          0.0999676424,
          0.10034404328000002,
          0.10072044416000003,
          0.10109684504000002,
          0.10147324592000001,
          0.1018496468,
          0.10222604768000002,
          0.10260244856000003,
          0.10297884944000002,
          0.10335525032000001,
          0.10373165120000002,
          0.10410805208000001,
          0.10448445296000003,
          0.10486085384000002,
          0.10523725472000003,
          0.10561365560000002,
          0.10599005648000001,
          0.10636645736000003,
          0.10674285824000002,
          0.10711925912000003
         ],
         "xaxis": "x",
         "y": [
          0.47837972922097827,
          0.47808148045316734,
          0.47717739994006275,
          0.47567108638206357,
          0.4735684431803958,
          0.4708776440643729,
          0.4676090848005202,
          0.4637753214453648,
          0.4593909957229284,
          0.4544727482206729,
          0.44903912020258335,
          0.44311044493405866,
          0.43670872949929185,
          0.4298575281669391,
          0.42258180842335336,
          0.41490781084386047,
          0.40686290401105535,
          0.398475435714579,
          0.38977458167918994,
          0.3807901930672019,
          0.3715526439877136,
          0.3620926802188614,
          0.352441270311074,
          0.3426294601896399,
          0.3326882323145732,
          0.32264837038563476,
          0.3125403305014502,
          0.3023941195949589,
          0.29223918187410775,
          0.2821042938979114,
          0.2720174688149451,
          0.262005870185276,
          0.252095735698977,
          0.24231231099591183,
          0.23267979368367817,
          0.2232212875445163,
          0.21395876681881665,
          0.2049130503535389,
          0.19610378530942776,
          0.1875494400321829,
          0.17926730561054668,
          0.17127350556929016,
          0.16358301307788323,
          0.15620967499677213,
          0.1491662420329919,
          0.14246440423565984,
          0.13611483102989058,
          0.13012721496496085,
          0.12451031833914794,
          0.11927202185946731,
          0.11441937449941032,
          0.1099586437314765,
          0.10589536533350533,
          0.1022343919981676,
          0.09897994001303699,
          0.09613563332396,
          0.09370454434642629,
          0.09168923094775487,
          0.0900917690865419,
          0.08891378066432058,
          0.08815645621710871,
          0.08782057215076783,
          0.08790650230317985,
          0.08841422369743375,
          0.08934331643279102,
          0.09069295774342502,
          0.09246191033806947,
          0.09464850521603646,
          0.09725061923582567,
          0.10026564779102964,
          0.10369047302372063,
          0.10752142807726767,
          0.11175425795790839,
          0.11638407763669169,
          0.12140532807999865,
          0.12681173094710232,
          0.13259624273657675,
          0.13875100919927055,
          0.14526732086351918,
          0.15213557053785834,
          0.1593452136673226,
          0.1668847324211574,
          0.17474160438219058,
          0.18290227669104034,
          0.19135214647167784,
          0.20007554832861546,
          0.2090557496602752,
          0.21827495447803924,
          0.22771431635644543,
          0.2373539610672932,
          0.24717301936958785,
          0.25714967033886693,
          0.26726119552416155,
          0.2774840441195075,
          0.2877939092302903,
          0.29816581520389845,
          0.3085742158800105,
          0.3189931034996395,
          0.3293961278948226,
          0.3397567254638334,
          0.3500482573212582,
          0.3602441558994039,
          0.3703180791686361,
          0.3802440715405478,
          0.3899967304206091,
          0.39955137728730883,
          0.40888423209386054,
          0.4179725897174363,
          0.42679499712047697,
          0.4353314298398772,
          0.4435634663834212,
          0.4514744590894393,
          0.4590496999957659,
          0.4662765802680057,
          0.47314474175517235,
          0.4796462192729001,
          0.4857755722606538,
          0.49153000451937434,
          0.4969094708094189,
          0.50191676917497,
          0.5065576179595639,
          0.5108407165872851,
          0.5147777893044919,
          0.5183836112066522,
          0.5216760160128573,
          0.5246758851955499,
          0.5274071182237262,
          0.5298965838328894,
          0.5321740523930414,
          0.534272109605499,
          0.5362260519188955,
          0.5380737642129721,
          0.5398555804542117,
          0.541614128178719,
          0.5433941578035998,
          0.5452423579072585,
          0.5472071577502684,
          0.5493385184306808,
          0.5516877141798687,
          0.5543071054062261,
          0.5572499051835905,
          0.5605699409583095,
          0.5643214133129308,
          0.568558653675046,
          0.5733358828965184,
          0.5787069726509605,
          0.5847252116057136,
          0.5914430783187813,
          0.598912022791201,
          0.6071822585714381,
          0.6163025672608264,
          0.6263201172082484,
          0.6372802981085903,
          0.6492265731335883,
          0.6622003501260996,
          0.6762408732802543,
          0.6913851366111397,
          0.707667820389344,
          0.7251212515787544,
          0.7437753891712505,
          0.7636578351602442,
          0.7847938717373343,
          0.8072065251334967,
          0.8309166563592298,
          0.855943078927673,
          0.882302703472003,
          0.9100107089940299,
          0.9390807403059043,
          0.9695251310519031,
          1.0013551515231573,
          1.0345812803057284,
          1.0692134986322006,
          1.1052616061396257,
          1.1427355565728285,
          1.1816458118121624,
          1.2220037124493965,
          1.2638218629847904,
          1.307114529573072,
          1.3518980481060638,
          1.398191240285723,
          1.446015835213152,
          1.495396893897396,
          1.5463632339723743,
          1.598947851801548,
          1.6531883390481499,
          1.7091272906939383,
          1.7668127014022776,
          1.8262983470419016,
          1.887644148116472,
          1.950916511782893,
          2.0161886490883596,
          2.083540864013733,
          2.1530608108795652,
          2.224843716652056,
          2.2989925646809035,
          2.375618236410462,
          2.454839607631577,
          2.5367835958856193,
          2.6215851556962066,
          2.7093872183900407,
          2.800340573378065,
          2.8946036879037145,
          2.992342462429031,
          3.0937299190228353,
          3.1989458203414864,
          3.308176217052374,
          3.421612921846063,
          3.5394529085159667,
          3.661897634955556,
          3.78915228933381,
          3.9214249591599546,
          4.058925723438445,
          4.201865668644319,
          4.350455829816173,
          4.504906058667051,
          4.665423821250701,
          4.832212928387741,
          5.005472202750327,
          5.1853940872195805,
          5.372163199861906,
          5.56595484161306,
          5.766933463503641,
          5.975251101001489,
          6.191045783774801,
          6.414439929887033,
          6.645538734111987,
          6.884428560693652,
          7.131175351462879,
          7.385823060749798,
          7.648392128988308,
          7.918878007287073,
          8.197249745530625,
          8.483448656765214,
          8.777387070709873,
          9.078947189204344,
          9.387980056257753,
          9.704304655087787,
          10.027707144137045,
          10.357940243517808,
          10.69472278266672,
          11.0377394191893,
          11.386640537940167,
          11.741042338323968,
          12.100527116620148,
          12.46464374883613,
          12.832908378192442,
          13.204805309844987,
          13.579788113870942,
          13.957280935896609,
          14.336680013045182,
          14.717355391144949,
          15.098652837382675,
          15.479895940830398,
          15.86038839153592,
          16.239416427167964,
          16.616251434564,
          16.990152691965044,
          17.360370236251004,
          17.726147838137184,
          18.0867260670686,
          18.44134542647455,
          18.78924953913452,
          19.129688361669274,
          19.461921406623745,
          19.785220950255272,
          20.098875203991746,
          20.402191427583716,
          20.694498962242786,
          20.975152162538564,
          21.243533206510648,
          21.49905476434062,
          21.741162507008085,
          21.969337437619608,
          22.1830980295323,
          22.38200215698473,
          22.56564880567556,
          22.73367955258024,
          22.88577980624561,
          23.02167980083134,
          23.14115533925321,
          23.244028282903642,
          23.330166787555576,
          23.399485287174826,
          23.451944229448486,
          23.487549568862228,
          23.506352025102917,
          23.508446116408013,
          23.493968979206308,
          23.463098986980977,
          23.41605418271864,
          23.353090540573668,
          23.274500073462832,
          23.1806088042044,
          23.071774618518194,
          22.948385018707093,
          22.81085479714274,
          22.65962364877964,
          22.495153741825565,
          22.317927265408205,
          22.12844397260463,
          21.927218736552977,
          21.714779136555443,
          21.491663090121634,
          21.25841654580856,
          21.01559125050146,
          20.76374260346872,
          20.503427608131616,
          20.235202931033378,
          19.95962307599402,
          19.6772386799136,
          19.38859493515905,
          19.094230141955702,
          18.79467439272104,
          18.490448388845028,
          18.182062389050635,
          17.870015287177797,
          17.554793816034863,
          17.236871872865546,
          16.916709960997125,
          16.594754741373407,
          16.271438686940513,
          15.947179832250033,
          15.622381610171836,
          15.297432767271301,
          14.972707349199355,
          14.648564747365484,
          14.325349798209537,
          14.003392926550887,
          13.683010324764261,
          13.364504159904161,
          13.048162801360322,
          12.734261062167175,
          12.423060447697559,
          12.1148094061324,
          11.809743575803438,
          11.508086025238306,
          11.210047482490133,
          10.915826551087985,
          10.62560991069354,
          10.339572501280148,
          10.057877690350493,
          9.780677423372786,
          9.508112358230335,
          9.24031198503999,
          8.977394733194233,
          8.719468067915061,
          8.466628578969775,
          8.21896206448846,
          7.9765436130380065,
          7.7394376872475235,
          7.5076982123461296,
          7.281368672969633,
          7.060482221517801,
          6.845061801206513,
          6.635120286761134,
          6.430660645445548,
          6.231676120823067,
          6.03815044130491,
          5.850058055169335,
          5.667364393334786,
          5.490026160752107,
          5.317991656852213,
          5.151201125051652,
          4.989587130889088,
          4.833074967945429,
          4.681583090296267,
          4.53502356986356,
          4.393302576678565,
          4.256320879744153,
          4.12397436589742,
          3.9961545738228574,
          3.872749240158045,
          3.7536428544670457,
          3.638717219732768,
          3.5278520149399943,
          3.420925356282744,
          3.3178143535342577,
          3.218395658162146,
          3.12254599985274,
          3.030142708226321,
          2.941064216673341,
          2.8551905454198216,
          2.7724037611330385,
          2.6925884106025375,
          2.615631926273822,
          2.5414250016676054,
          2.4698619349831925,
          2.400840939457115,
          2.334264419322942,
          2.270039210493344,
          2.208076785356918,
          2.1482934213478257,
          2.0906103332035295,
          2.0349537690723394,
          1.9812550708669312,
          1.9294506994806746,
          1.87948222568927,
          1.8312962877508725,
          1.7848445168918128,
          1.7400834320234055,
          1.696974305177069,
          1.6554829992709665,
          1.6155797799319065,
          1.5772391031918065,
          1.540439380959346,
          1.5051627262354779,
          1.4713946800967295,
          1.4391239225138956,
          1.408341969106393,
          1.3790428559549508,
          1.3512228146086034,
          1.3248799394260469,
          1.3000138493876705,
          1.2766253465028616,
          1.2547160729180018,
          1.2342881688044733,
          1.2153439330724751,
          1.1978854889163406,
          1.181914456149662,
          1.1674316322340845,
          1.154436683844041,
          1.1429278507404654,
          1.1329016636498392,
          1.1243526777603072,
          1.117273223354031,
          1.1116531749943546,
          1.107479740577583,
          1.1047372714424109,
          1.103407094605387,
          1.1034673680584903,
          1.10489295992547,
          1.1076553521274448,
          1.1117225690561727,
          1.1170591315961393,
          1.123626036675154,
          1.1313807623585634,
          1.14027729833567,
          1.1502662014798395,
          1.1612946759973992,
          1.173306677516283,
          1.186243040304992,
          1.2000416266572513,
          1.2146374973293477,
          1.2299631017770347,
          1.2459484868084256,
          1.2625215221499946,
          1.279608141315778,
          1.2971325960763112,
          1.3150177227448183,
          1.333185218434302,
          1.3515559253914222,
          1.3700501214815113,
          1.3885878148842965,
          1.4070890410617392,
          1.425474160077713,
          1.4436641523838096,
          1.4615809112355067,
          1.479147529967753,
          1.4962885824376657,
          1.5129303950332025,
          1.5290013087494703,
          1.544431929946901,
          1.5591553685267299,
          1.573107462387306,
          1.586226987158021,
          1.598455850344677,
          1.6097392691588994,
          1.6200259314434433,
          1.6292681392431134,
          1.6374219347061298,
          1.6444472081316897,
          1.6503077881049328,
          1.6549715137792937,
          1.6584102894774584,
          1.660600121884808,
          1.6615211402028978,
          1.6611575997144594,
          1.659497869285539,
          1.6565344033943865,
          1.6522636993307391,
          1.6466862402533589,
          1.6398064248284132,
          1.6316324841970706,
          1.6221763870380717,
          1.6114537335007495,
          1.599483638786878,
          1.5862886071565028,
          1.5718943971246495,
          1.5563298786032878,
          1.5396268827270945,
          1.5218200450833794,
          1.5029466430467162,
          1.4830464278982665,
          1.4621614523893018,
          1.4403358943883446,
          1.417615877232626,
          1.394049287387334,
          1.369685590000803,
          1.344575642930764,
          1.318771509805815
         ],
         "yaxis": "y"
        },
        {
         "legendgroup": "profit_ratio",
         "marker": {
          "color": "rgb(31, 119, 180)",
          "symbol": "line-ns-open"
         },
         "mode": "markers",
         "name": "profit_ratio",
         "showlegend": false,
         "type": "scatter",
         "x": [
          -0.03455674,
          0.03524291,
          0.02896101,
          0.02812114,
          0.02617337,
          0.03612935,
          0.03955,
          0.04393277,
          0.03221122,
          0.03055694,
          0.02396975,
          0.02054652,
          0.0369716,
          0.02183585,
          0.02390132,
          0.02170469,
          0.04627324,
          0.04515301,
          0.06219985,
          0.02215365,
          0.03194083,
          0.04410517,
          0.02755099,
          0.02860294,
          0.02367408,
          0.04247559,
          0.02330702,
          0.00907041,
          0.02106453,
          0.02810894,
          0.03979573,
          0.0211433,
          0.05535686,
          0.06054271,
          0.02082326,
          0.02540113,
          0.10186929,
          0.032,
          0.10749566,
          0.07196275,
          0.02843203,
          0.00095359,
          0.02772813,
          0.04216757,
          0.02628513,
          0.02163227,
          0.03090374,
          0.03496813,
          0.02583731,
          0.0463349,
          0.04074696,
          0.02274767,
          0.03513667,
          -0.00873712,
          0.02435818,
          0.02177024,
          0.04357683,
          0.01479073,
          0.09445504,
          0.0924895,
          -0.08070478,
          0.02356323,
          0.0163365,
          0.01692984,
          0.02177089,
          0.02034197,
          0.02547349,
          0.02908883,
          0.0201384,
          0.02100564,
          0.03805813,
          0.00713703,
          0.01235821,
          0.03284895,
          -0.0059339,
          0.00486849,
          0.02170385,
          0.03240636,
          0.02046909
         ],
         "xaxis": "x",
         "y": [
          "profit_ratio",
          "profit_ratio",
          "profit_ratio",
          "profit_ratio",
          "profit_ratio",
          "profit_ratio",
          "profit_ratio",
          "profit_ratio",
          "profit_ratio",
          "profit_ratio",
          "profit_ratio",
          "profit_ratio",
          "profit_ratio",
          "profit_ratio",
          "profit_ratio",
          "profit_ratio",
          "profit_ratio",
          "profit_ratio",
          "profit_ratio",
          "profit_ratio",
          "profit_ratio",
          "profit_ratio",
          "profit_ratio",
          "profit_ratio",
          "profit_ratio",
          "profit_ratio",
          "profit_ratio",
          "profit_ratio",
          "profit_ratio",
          "profit_ratio",
          "profit_ratio",
          "profit_ratio",
          "profit_ratio",
          "profit_ratio",
          "profit_ratio",
          "profit_ratio",
          "profit_ratio",
          "profit_ratio",
          "profit_ratio",
          "profit_ratio",
          "profit_ratio",
          "profit_ratio",
          "profit_ratio",
          "profit_ratio",
          "profit_ratio",
          "profit_ratio",
          "profit_ratio",
          "profit_ratio",
          "profit_ratio",
          "profit_ratio",
          "profit_ratio",
          "profit_ratio",
          "profit_ratio",
          "profit_ratio",
          "profit_ratio",
          "profit_ratio",
          "profit_ratio",
          "profit_ratio",
          "profit_ratio",
          "profit_ratio",
          "profit_ratio",
          "profit_ratio",
          "profit_ratio",
          "profit_ratio",
          "profit_ratio",
          "profit_ratio",
          "profit_ratio",
          "profit_ratio",
          "profit_ratio",
          "profit_ratio",
          "profit_ratio",
          "profit_ratio",
          "profit_ratio",
          "profit_ratio",
          "profit_ratio",
          "profit_ratio",
          "profit_ratio",
          "profit_ratio",
          "profit_ratio"
         ],
         "yaxis": "y2"
        }
       ],
       "layout": {
        "barmode": "overlay",
        "hovermode": "closest",
        "legend": {
         "traceorder": "reversed"
        },
        "template": {
         "data": {
          "bar": [
           {
            "error_x": {
             "color": "#2a3f5f"
            },
            "error_y": {
             "color": "#2a3f5f"
            },
            "marker": {
             "line": {
              "color": "#E5ECF6",
              "width": 0.5
             }
            },
            "type": "bar"
           }
          ],
          "barpolar": [
           {
            "marker": {
             "line": {
              "color": "#E5ECF6",
              "width": 0.5
             }
            },
            "type": "barpolar"
           }
          ],
          "carpet": [
           {
            "aaxis": {
             "endlinecolor": "#2a3f5f",
             "gridcolor": "white",
             "linecolor": "white",
             "minorgridcolor": "white",
             "startlinecolor": "#2a3f5f"
            },
            "baxis": {
             "endlinecolor": "#2a3f5f",
             "gridcolor": "white",
             "linecolor": "white",
             "minorgridcolor": "white",
             "startlinecolor": "#2a3f5f"
            },
            "type": "carpet"
           }
          ],
          "choropleth": [
           {
            "colorbar": {
             "outlinewidth": 0,
             "ticks": ""
            },
            "type": "choropleth"
           }
          ],
          "contour": [
           {
            "colorbar": {
             "outlinewidth": 0,
             "ticks": ""
            },
            "colorscale": [
             [
              0,
              "#0d0887"
             ],
             [
              0.1111111111111111,
              "#46039f"
             ],
             [
              0.2222222222222222,
              "#7201a8"
             ],
             [
              0.3333333333333333,
              "#9c179e"
             ],
             [
              0.4444444444444444,
              "#bd3786"
             ],
             [
              0.5555555555555556,
              "#d8576b"
             ],
             [
              0.6666666666666666,
              "#ed7953"
             ],
             [
              0.7777777777777778,
              "#fb9f3a"
             ],
             [
              0.8888888888888888,
              "#fdca26"
             ],
             [
              1,
              "#f0f921"
             ]
            ],
            "type": "contour"
           }
          ],
          "contourcarpet": [
           {
            "colorbar": {
             "outlinewidth": 0,
             "ticks": ""
            },
            "type": "contourcarpet"
           }
          ],
          "heatmap": [
           {
            "colorbar": {
             "outlinewidth": 0,
             "ticks": ""
            },
            "colorscale": [
             [
              0,
              "#0d0887"
             ],
             [
              0.1111111111111111,
              "#46039f"
             ],
             [
              0.2222222222222222,
              "#7201a8"
             ],
             [
              0.3333333333333333,
              "#9c179e"
             ],
             [
              0.4444444444444444,
              "#bd3786"
             ],
             [
              0.5555555555555556,
              "#d8576b"
             ],
             [
              0.6666666666666666,
              "#ed7953"
             ],
             [
              0.7777777777777778,
              "#fb9f3a"
             ],
             [
              0.8888888888888888,
              "#fdca26"
             ],
             [
              1,
              "#f0f921"
             ]
            ],
            "type": "heatmap"
           }
          ],
          "heatmapgl": [
           {
            "colorbar": {
             "outlinewidth": 0,
             "ticks": ""
            },
            "colorscale": [
             [
              0,
              "#0d0887"
             ],
             [
              0.1111111111111111,
              "#46039f"
             ],
             [
              0.2222222222222222,
              "#7201a8"
             ],
             [
              0.3333333333333333,
              "#9c179e"
             ],
             [
              0.4444444444444444,
              "#bd3786"
             ],
             [
              0.5555555555555556,
              "#d8576b"
             ],
             [
              0.6666666666666666,
              "#ed7953"
             ],
             [
              0.7777777777777778,
              "#fb9f3a"
             ],
             [
              0.8888888888888888,
              "#fdca26"
             ],
             [
              1,
              "#f0f921"
             ]
            ],
            "type": "heatmapgl"
           }
          ],
          "histogram": [
           {
            "marker": {
             "colorbar": {
              "outlinewidth": 0,
              "ticks": ""
             }
            },
            "type": "histogram"
           }
          ],
          "histogram2d": [
           {
            "colorbar": {
             "outlinewidth": 0,
             "ticks": ""
            },
            "colorscale": [
             [
              0,
              "#0d0887"
             ],
             [
              0.1111111111111111,
              "#46039f"
             ],
             [
              0.2222222222222222,
              "#7201a8"
             ],
             [
              0.3333333333333333,
              "#9c179e"
             ],
             [
              0.4444444444444444,
              "#bd3786"
             ],
             [
              0.5555555555555556,
              "#d8576b"
             ],
             [
              0.6666666666666666,
              "#ed7953"
             ],
             [
              0.7777777777777778,
              "#fb9f3a"
             ],
             [
              0.8888888888888888,
              "#fdca26"
             ],
             [
              1,
              "#f0f921"
             ]
            ],
            "type": "histogram2d"
           }
          ],
          "histogram2dcontour": [
           {
            "colorbar": {
             "outlinewidth": 0,
             "ticks": ""
            },
            "colorscale": [
             [
              0,
              "#0d0887"
             ],
             [
              0.1111111111111111,
              "#46039f"
             ],
             [
              0.2222222222222222,
              "#7201a8"
             ],
             [
              0.3333333333333333,
              "#9c179e"
             ],
             [
              0.4444444444444444,
              "#bd3786"
             ],
             [
              0.5555555555555556,
              "#d8576b"
             ],
             [
              0.6666666666666666,
              "#ed7953"
             ],
             [
              0.7777777777777778,
              "#fb9f3a"
             ],
             [
              0.8888888888888888,
              "#fdca26"
             ],
             [
              1,
              "#f0f921"
             ]
            ],
            "type": "histogram2dcontour"
           }
          ],
          "mesh3d": [
           {
            "colorbar": {
             "outlinewidth": 0,
             "ticks": ""
            },
            "type": "mesh3d"
           }
          ],
          "parcoords": [
           {
            "line": {
             "colorbar": {
              "outlinewidth": 0,
              "ticks": ""
             }
            },
            "type": "parcoords"
           }
          ],
          "pie": [
           {
            "automargin": true,
            "type": "pie"
           }
          ],
          "scatter": [
           {
            "marker": {
             "colorbar": {
              "outlinewidth": 0,
              "ticks": ""
             }
            },
            "type": "scatter"
           }
          ],
          "scatter3d": [
           {
            "line": {
             "colorbar": {
              "outlinewidth": 0,
              "ticks": ""
             }
            },
            "marker": {
             "colorbar": {
              "outlinewidth": 0,
              "ticks": ""
             }
            },
            "type": "scatter3d"
           }
          ],
          "scattercarpet": [
           {
            "marker": {
             "colorbar": {
              "outlinewidth": 0,
              "ticks": ""
             }
            },
            "type": "scattercarpet"
           }
          ],
          "scattergeo": [
           {
            "marker": {
             "colorbar": {
              "outlinewidth": 0,
              "ticks": ""
             }
            },
            "type": "scattergeo"
           }
          ],
          "scattergl": [
           {
            "marker": {
             "colorbar": {
              "outlinewidth": 0,
              "ticks": ""
             }
            },
            "type": "scattergl"
           }
          ],
          "scattermapbox": [
           {
            "marker": {
             "colorbar": {
              "outlinewidth": 0,
              "ticks": ""
             }
            },
            "type": "scattermapbox"
           }
          ],
          "scatterpolar": [
           {
            "marker": {
             "colorbar": {
              "outlinewidth": 0,
              "ticks": ""
             }
            },
            "type": "scatterpolar"
           }
          ],
          "scatterpolargl": [
           {
            "marker": {
             "colorbar": {
              "outlinewidth": 0,
              "ticks": ""
             }
            },
            "type": "scatterpolargl"
           }
          ],
          "scatterternary": [
           {
            "marker": {
             "colorbar": {
              "outlinewidth": 0,
              "ticks": ""
             }
            },
            "type": "scatterternary"
           }
          ],
          "surface": [
           {
            "colorbar": {
             "outlinewidth": 0,
             "ticks": ""
            },
            "colorscale": [
             [
              0,
              "#0d0887"
             ],
             [
              0.1111111111111111,
              "#46039f"
             ],
             [
              0.2222222222222222,
              "#7201a8"
             ],
             [
              0.3333333333333333,
              "#9c179e"
             ],
             [
              0.4444444444444444,
              "#bd3786"
             ],
             [
              0.5555555555555556,
              "#d8576b"
             ],
             [
              0.6666666666666666,
              "#ed7953"
             ],
             [
              0.7777777777777778,
              "#fb9f3a"
             ],
             [
              0.8888888888888888,
              "#fdca26"
             ],
             [
              1,
              "#f0f921"
             ]
            ],
            "type": "surface"
           }
          ],
          "table": [
           {
            "cells": {
             "fill": {
              "color": "#EBF0F8"
             },
             "line": {
              "color": "white"
             }
            },
            "header": {
             "fill": {
              "color": "#C8D4E3"
             },
             "line": {
              "color": "white"
             }
            },
            "type": "table"
           }
          ]
         },
         "layout": {
          "annotationdefaults": {
           "arrowcolor": "#2a3f5f",
           "arrowhead": 0,
           "arrowwidth": 1
          },
          "autotypenumbers": "strict",
          "coloraxis": {
           "colorbar": {
            "outlinewidth": 0,
            "ticks": ""
           }
          },
          "colorscale": {
           "diverging": [
            [
             0,
             "#8e0152"
            ],
            [
             0.1,
             "#c51b7d"
            ],
            [
             0.2,
             "#de77ae"
            ],
            [
             0.3,
             "#f1b6da"
            ],
            [
             0.4,
             "#fde0ef"
            ],
            [
             0.5,
             "#f7f7f7"
            ],
            [
             0.6,
             "#e6f5d0"
            ],
            [
             0.7,
             "#b8e186"
            ],
            [
             0.8,
             "#7fbc41"
            ],
            [
             0.9,
             "#4d9221"
            ],
            [
             1,
             "#276419"
            ]
           ],
           "sequential": [
            [
             0,
             "#0d0887"
            ],
            [
             0.1111111111111111,
             "#46039f"
            ],
            [
             0.2222222222222222,
             "#7201a8"
            ],
            [
             0.3333333333333333,
             "#9c179e"
            ],
            [
             0.4444444444444444,
             "#bd3786"
            ],
            [
             0.5555555555555556,
             "#d8576b"
            ],
            [
             0.6666666666666666,
             "#ed7953"
            ],
            [
             0.7777777777777778,
             "#fb9f3a"
            ],
            [
             0.8888888888888888,
             "#fdca26"
            ],
            [
             1,
             "#f0f921"
            ]
           ],
           "sequentialminus": [
            [
             0,
             "#0d0887"
            ],
            [
             0.1111111111111111,
             "#46039f"
            ],
            [
             0.2222222222222222,
             "#7201a8"
            ],
            [
             0.3333333333333333,
             "#9c179e"
            ],
            [
             0.4444444444444444,
             "#bd3786"
            ],
            [
             0.5555555555555556,
             "#d8576b"
            ],
            [
             0.6666666666666666,
             "#ed7953"
            ],
            [
             0.7777777777777778,
             "#fb9f3a"
            ],
            [
             0.8888888888888888,
             "#fdca26"
            ],
            [
             1,
             "#f0f921"
            ]
           ]
          },
          "colorway": [
           "#636efa",
           "#EF553B",
           "#00cc96",
           "#ab63fa",
           "#FFA15A",
           "#19d3f3",
           "#FF6692",
           "#B6E880",
           "#FF97FF",
           "#FECB52"
          ],
          "font": {
           "color": "#2a3f5f"
          },
          "geo": {
           "bgcolor": "white",
           "lakecolor": "white",
           "landcolor": "#E5ECF6",
           "showlakes": true,
           "showland": true,
           "subunitcolor": "white"
          },
          "hoverlabel": {
           "align": "left"
          },
          "hovermode": "closest",
          "mapbox": {
           "style": "light"
          },
          "paper_bgcolor": "white",
          "plot_bgcolor": "#E5ECF6",
          "polar": {
           "angularaxis": {
            "gridcolor": "white",
            "linecolor": "white",
            "ticks": ""
           },
           "bgcolor": "#E5ECF6",
           "radialaxis": {
            "gridcolor": "white",
            "linecolor": "white",
            "ticks": ""
           }
          },
          "scene": {
           "xaxis": {
            "backgroundcolor": "#E5ECF6",
            "gridcolor": "white",
            "gridwidth": 2,
            "linecolor": "white",
            "showbackground": true,
            "ticks": "",
            "zerolinecolor": "white"
           },
           "yaxis": {
            "backgroundcolor": "#E5ECF6",
            "gridcolor": "white",
            "gridwidth": 2,
            "linecolor": "white",
            "showbackground": true,
            "ticks": "",
            "zerolinecolor": "white"
           },
           "zaxis": {
            "backgroundcolor": "#E5ECF6",
            "gridcolor": "white",
            "gridwidth": 2,
            "linecolor": "white",
            "showbackground": true,
            "ticks": "",
            "zerolinecolor": "white"
           }
          },
          "shapedefaults": {
           "line": {
            "color": "#2a3f5f"
           }
          },
          "ternary": {
           "aaxis": {
            "gridcolor": "white",
            "linecolor": "white",
            "ticks": ""
           },
           "baxis": {
            "gridcolor": "white",
            "linecolor": "white",
            "ticks": ""
           },
           "bgcolor": "#E5ECF6",
           "caxis": {
            "gridcolor": "white",
            "linecolor": "white",
            "ticks": ""
           }
          },
          "title": {
           "x": 0.05
          },
          "xaxis": {
           "automargin": true,
           "gridcolor": "white",
           "linecolor": "white",
           "ticks": "",
           "title": {
            "standoff": 15
           },
           "zerolinecolor": "white",
           "zerolinewidth": 2
          },
          "yaxis": {
           "automargin": true,
           "gridcolor": "white",
           "linecolor": "white",
           "ticks": "",
           "title": {
            "standoff": 15
           },
           "zerolinecolor": "white",
           "zerolinewidth": 2
          }
         }
        },
        "xaxis": {
         "anchor": "y2",
         "domain": [
          0,
          1
         ],
         "zeroline": false
        },
        "yaxis": {
         "anchor": "free",
         "domain": [
          0.35,
          1
         ],
         "position": 0
        },
        "yaxis2": {
         "anchor": "x",
         "domain": [
          0,
          0.25
         ],
         "dtick": 1,
         "showticklabels": false
        }
       }
      },
      "text/html": [
       "<div>                            <div id=\"d305e94e-5049-4224-b7ba-8c31310e9ec9\" class=\"plotly-graph-div\" style=\"height:525px; width:100%;\"></div>            <script type=\"text/javascript\">                require([\"plotly\"], function(Plotly) {                    window.PLOTLYENV=window.PLOTLYENV || {};                                    if (document.getElementById(\"d305e94e-5049-4224-b7ba-8c31310e9ec9\")) {                    Plotly.newPlot(                        \"d305e94e-5049-4224-b7ba-8c31310e9ec9\",                        [{\"autobinx\": false, \"histnorm\": \"probability density\", \"legendgroup\": \"profit_ratio\", \"marker\": {\"color\": \"rgb(31, 119, 180)\"}, \"name\": \"profit_ratio\", \"opacity\": 0.7, \"type\": \"histogram\", \"x\": [-0.03455674, 0.03524291, 0.02896101, 0.02812114, 0.02617337, 0.03612935, 0.03955, 0.04393277, 0.03221122, 0.03055694, 0.02396975, 0.02054652, 0.0369716, 0.02183585, 0.02390132, 0.02170469, 0.04627324, 0.04515301, 0.06219985, 0.02215365, 0.03194083, 0.04410517, 0.02755099, 0.02860294, 0.02367408, 0.04247559, 0.02330702, 0.00907041, 0.02106453, 0.02810894, 0.03979573, 0.0211433, 0.05535686, 0.06054271, 0.02082326, 0.02540113, 0.10186929, 0.032, 0.10749566, 0.07196275, 0.02843203, 0.00095359, 0.02772813, 0.04216757, 0.02628513, 0.02163227, 0.03090374, 0.03496813, 0.02583731, 0.0463349, 0.04074696, 0.02274767, 0.03513667, -0.00873712, 0.02435818, 0.02177024, 0.04357683, 0.01479073, 0.09445504, 0.0924895, -0.08070478, 0.02356323, 0.0163365, 0.01692984, 0.02177089, 0.02034197, 0.02547349, 0.02908883, 0.0201384, 0.02100564, 0.03805813, 0.00713703, 0.01235821, 0.03284895, -0.0059339, 0.00486849, 0.02170385, 0.03240636, 0.02046909], \"xaxis\": \"x\", \"xbins\": {\"end\": 0.10749566, \"size\": 0.01, \"start\": -0.08070478}, \"yaxis\": \"y\"}, {\"legendgroup\": \"profit_ratio\", \"marker\": {\"color\": \"rgb(31, 119, 180)\"}, \"mode\": \"lines\", \"name\": \"profit_ratio\", \"showlegend\": false, \"type\": \"scatter\", \"x\": [-0.08070478, -0.08032837912, -0.07995197824, -0.07957557736000001, -0.07919917648000001, -0.0788227756, -0.07844637472, -0.07806997384, -0.07769357296, -0.07731717208, -0.07694077120000001, -0.07656437032, -0.07618796944, -0.07581156856, -0.07543516768, -0.07505876680000001, -0.07468236592000001, -0.07430596504, -0.07392956416, -0.07355316328, -0.0731767624, -0.07280036152, -0.07242396064, -0.07204755976, -0.07167115888, -0.071294758, -0.07091835712, -0.07054195624000001, -0.07016555536, -0.06978915448, -0.0694127536, -0.06903635272, -0.06865995184, -0.06828355096, -0.06790715008, -0.0675307492, -0.06715434832, -0.06677794744, -0.06640154656, -0.06602514568000001, -0.0656487448, -0.06527234392, -0.06489594304, -0.06451954216, -0.06414314128000001, -0.0637667404, -0.06339033952, -0.06301393864, -0.06263753776, -0.06226113688, -0.061884735999999996, -0.06150833512000001, -0.061131934240000005, -0.06075553336, -0.06037913248, -0.0600027316, -0.05962633072, -0.05924992984, -0.058873528960000004, -0.05849712808, -0.0581207272, -0.05774432632, -0.05736792544, -0.05699152456, -0.056615123680000004, -0.0562387228, -0.05586232192, -0.05548592104, -0.055109520159999995, -0.054733119280000006, -0.054356718400000004, -0.05398031752, -0.05360391664, -0.053227515759999997, -0.05285111488, -0.052474714, -0.05209831312, -0.05172191224, -0.05134551136, -0.050969110479999996, -0.0505927096, -0.050216308720000005, -0.04983990784, -0.04946350696, -0.04908710608, -0.0487107052, -0.04833430432, -0.04795790344, -0.04758150256, -0.04720510168, -0.0468287008, -0.046452299919999995, -0.04607589904, -0.045699498160000004, -0.045323097279999995, -0.0449466964, -0.04457029552, -0.04419389464, -0.04381749376, -0.04344109288, -0.043064691999999995, -0.04268829112, -0.042311890240000004, -0.041935489359999994, -0.04155908848, -0.0411826876, -0.04080628672, -0.04042988584, -0.040053484959999996, -0.039677084079999994, -0.0393006832, -0.03892428232, -0.03854788144, -0.03817148056, -0.037795079679999996, -0.0374186788, -0.03704227792, -0.036665877039999996, -0.036289476159999993, -0.03591307528, -0.0355366744, -0.03516027352, -0.03478387264, -0.034407471759999995, -0.03403107088, -0.03365467, -0.033278269119999995, -0.03290186823999999, -0.03252546736, -0.03214906648, -0.0317726656, -0.03139626472, -0.031019863839999995, -0.03064346296, -0.030267062079999997, -0.029890661199999995, -0.029514260319999992, -0.029137859439999997, -0.02876145856, -0.02838505768, -0.028008656799999997, -0.027632255919999994, -0.02725585504, -0.026879454159999996, -0.026503053279999994, -0.02612665239999999, -0.025750251519999996, -0.02537385064, -0.02499744976, -0.024621048879999996, -0.024244647999999994, -0.023868247119999998, -0.023491846239999996, -0.02311544536, -0.02273904447999999, -0.022362643599999996, -0.02198624272, -0.021609841839999998, -0.021233440959999995, -0.020857040079999993, -0.020480639199999998, -0.020104238319999995, -0.01972783744, -0.01935143655999999, -0.018975035679999995, -0.0185986348, -0.018222233919999997, -0.017845833039999995, -0.017469432159999992, -0.01709303127999999, -0.0167166304, -0.01634022952, -0.015963828639999997, -0.015587427759999994, -0.015211026879999992, -0.01483462599999999, -0.014458225120000001, -0.014081824239999999, -0.013705423359999996, -0.013329022479999994, -0.012952621599999992, -0.012576220720000003, -0.012199819839999987, -0.011823418959999984, -0.011447018079999996, -0.011070617199999994, -0.010694216320000005, -0.010317815439999989, -0.009941414559999986, -0.009565013679999998, -0.009188612799999996, -0.008812211919999993, -0.00843581103999999, -0.008059410159999988, -0.00768300928, -0.0073066083999999976, -0.006930207519999995, -0.006553806639999993, -0.00617740575999999, -0.005801004880000002, -0.005424603999999986, -0.005048203119999997, -0.004671802239999995, -0.004295401359999992, -0.003919000480000004, -0.0035425995999999876, -0.0031661987199999853, -0.0027897978399999968, -0.0024133969599999944, -0.002036996079999992, -0.0016605951999999896, -0.0012841943199999872, -0.0009077934399999987, -0.0005313925599999964, -0.00015499167999999397, 0.0002214092000000084, 0.0005978100800000108, 0.0009742109599999993, 0.0013506118400000156, 0.001727012720000004, 0.0021034136000000064, 0.002479814480000009, 0.0028562153599999973, 0.0032326162400000136, 0.003609017120000002, 0.0039854180000000045, 0.004361818880000007, 0.004738219760000009, 0.005114620640000012, 0.005491021520000014, 0.0058674224000000025, 0.006243823280000005, 0.006620224160000007, 0.00699662504000001, 0.007373025920000012, 0.0077494268000000005, 0.008125827680000017, 0.008502228560000005, 0.008878629440000008, 0.00925503032000001, 0.009631431199999999, 0.010007832080000015, 0.010384232960000003, 0.010760633840000006, 0.011137034720000008, 0.01151343560000001, 0.011889836480000013, 0.012266237360000015, 0.012642638240000004, 0.013019039120000006, 0.013395440000000008, 0.01377184088000001, 0.014148241760000013, 0.014524642640000002, 0.014901043520000018, 0.015277444400000006, 0.01565384528000001, 0.01603024616000001, 0.01640664704, 0.016783047920000016, 0.017159448800000004, 0.017535849680000007, 0.01791225056000001, 0.01828865144000001, 0.018665052320000014, 0.019041453200000003, 0.019417854080000005, 0.019794254960000007, 0.02017065584000001, 0.020547056720000012, 0.020923457600000014, 0.021299858480000003, 0.02167625936000002, 0.022052660240000008, 0.02242906112000001, 0.022805462000000012, 0.02318186288, 0.023558263760000017, 0.023934664640000006, 0.024311065520000008, 0.02468746640000001, 0.025063867280000013, 0.025440268160000015, 0.025816669040000004, 0.026193069920000006, 0.02656947080000001, 0.02694587168000001, 0.027322272560000013, 0.027698673440000016, 0.028075074320000004, 0.02845147520000002, 0.02882787608000001, 0.02920427696000001, 0.029580677840000014, 0.029957078720000002, 0.03033347960000002, 0.030709880480000007, 0.03108628136000001, 0.03146268224000001, 0.031839083120000014, 0.032215484000000016, 0.032591884880000005, 0.03296828576000001, 0.03334468664000001, 0.03372108752000001, 0.034097488400000014, 0.03447388928, 0.034850290160000005, 0.03522669104000002, 0.03560309192000001, 0.03597949280000001, 0.036355893680000015, 0.03673229456, 0.03710869544000002, 0.03748509632000001, 0.03786149720000001, 0.03823789808000001, 0.038614298960000015, 0.03899069984000002, 0.039367100720000006, 0.03974350160000001, 0.04011990248000001, 0.04049630336000001, 0.040872704240000016, 0.041249105120000004, 0.04162550600000001, 0.04200190688000002, 0.04237830776000001, 0.042754708640000014, 0.04313110952, 0.043507510400000005, 0.04388391128000002, 0.04426031216000001, 0.044636713040000026, 0.045013113920000014, 0.0453895148, 0.04576591568000002, 0.04614231656000001, 0.046518717440000024, 0.04689511832000001, 0.0472715192, 0.04764792007999999, 0.048024320960000005, 0.04840072184000002, 0.04877712272000001, 0.049153523600000026, 0.049529924480000015, 0.04990632536, 0.05028272624000002, 0.05065912712000001, 0.051035528000000024, 0.05141192888000001, 0.05178832976, 0.05216473064000002, 0.052541131520000006, 0.05291753240000002, 0.05329393328000001, 0.05367033416, 0.054046735040000016, 0.054423135920000004, 0.05479953680000002, 0.05517593768000001, 0.05555233856, 0.055928739440000014, 0.05630514032000003, 0.05668154120000002, 0.057057942080000035, 0.057434342959999996, 0.05781074384000001, 0.05818714472000003, 0.058563545600000017, 0.05893994648000003, 0.059316347359999994, 0.05969274824000001, 0.060069149120000026, 0.060445550000000015, 0.06082195088000003, 0.06119835175999999, 0.06157475264000001, 0.061951153520000024, 0.06232755440000001, 0.06270395528000003, 0.06308035616000002, 0.06345675704, 0.06383315792000002, 0.06420955880000001, 0.06458595968000003, 0.06496236056000002, 0.06533876144, 0.06571516232000002, 0.06609156320000001, 0.06646796408000002, 0.06684436496000001, 0.06722076584, 0.06759716672000002, 0.0679735676, 0.06834996848000002, 0.06872636936000001, 0.06910277024, 0.06947917112000002, 0.06985557200000003, 0.07023197288000002, 0.07060837376000001, 0.07098477464, 0.07136117552000001, 0.07173757640000003, 0.07211397728000002, 0.07249037816000004, 0.07286677904, 0.07324317992000001, 0.07361958080000003, 0.07399598168000002, 0.07437238256000003, 0.07474878344, 0.07512518432000001, 0.07550158520000003, 0.07587798608000001, 0.07625438696000003, 0.07663078784000002, 0.07700718872000001, 0.07738358960000002, 0.07775999048000001, 0.07813639136000003, 0.07851279224000002, 0.07888919312, 0.07926559400000002, 0.07964199488000001, 0.08001839576000003, 0.08039479664000002, 0.08077119752, 0.08114759840000002, 0.08152399928000001, 0.08190040016000003, 0.08227680104000001, 0.08265320192, 0.08302960280000002, 0.08340600368000003, 0.08378240456000002, 0.08415880544000001, 0.08453520632, 0.08491160720000002, 0.08528800808000003, 0.08566440896000002, 0.08604080984000001, 0.08641721072, 0.08679361160000001, 0.08717001248000003, 0.08754641336000002, 0.08792281424000001, 0.08829921512, 0.08867561600000001, 0.08905201688000003, 0.08942841776000002, 0.08980481864000003, 0.09018121952000002, 0.09055762040000001, 0.09093402128000003, 0.09131042216000002, 0.09168682304000003, 0.09206322392000002, 0.09243962480000001, 0.09281602568000002, 0.09319242656000001, 0.09356882744000003, 0.09394522832000002, 0.0943216292, 0.09469803008000002, 0.09507443096000001, 0.09545083184000003, 0.09582723272000002, 0.0962036336, 0.09658003448000002, 0.09695643536000004, 0.09733283624000003, 0.09770923712000001, 0.098085638, 0.09846203888000002, 0.09883843976000004, 0.09921484064000002, 0.09959124152000001, 0.0999676424, 0.10034404328000002, 0.10072044416000003, 0.10109684504000002, 0.10147324592000001, 0.1018496468, 0.10222604768000002, 0.10260244856000003, 0.10297884944000002, 0.10335525032000001, 0.10373165120000002, 0.10410805208000001, 0.10448445296000003, 0.10486085384000002, 0.10523725472000003, 0.10561365560000002, 0.10599005648000001, 0.10636645736000003, 0.10674285824000002, 0.10711925912000003], \"xaxis\": \"x\", \"y\": [0.47837972922097827, 0.47808148045316734, 0.47717739994006275, 0.47567108638206357, 0.4735684431803958, 0.4708776440643729, 0.4676090848005202, 0.4637753214453648, 0.4593909957229284, 0.4544727482206729, 0.44903912020258335, 0.44311044493405866, 0.43670872949929185, 0.4298575281669391, 0.42258180842335336, 0.41490781084386047, 0.40686290401105535, 0.398475435714579, 0.38977458167918994, 0.3807901930672019, 0.3715526439877136, 0.3620926802188614, 0.352441270311074, 0.3426294601896399, 0.3326882323145732, 0.32264837038563476, 0.3125403305014502, 0.3023941195949589, 0.29223918187410775, 0.2821042938979114, 0.2720174688149451, 0.262005870185276, 0.252095735698977, 0.24231231099591183, 0.23267979368367817, 0.2232212875445163, 0.21395876681881665, 0.2049130503535389, 0.19610378530942776, 0.1875494400321829, 0.17926730561054668, 0.17127350556929016, 0.16358301307788323, 0.15620967499677213, 0.1491662420329919, 0.14246440423565984, 0.13611483102989058, 0.13012721496496085, 0.12451031833914794, 0.11927202185946731, 0.11441937449941032, 0.1099586437314765, 0.10589536533350533, 0.1022343919981676, 0.09897994001303699, 0.09613563332396, 0.09370454434642629, 0.09168923094775487, 0.0900917690865419, 0.08891378066432058, 0.08815645621710871, 0.08782057215076783, 0.08790650230317985, 0.08841422369743375, 0.08934331643279102, 0.09069295774342502, 0.09246191033806947, 0.09464850521603646, 0.09725061923582567, 0.10026564779102964, 0.10369047302372063, 0.10752142807726767, 0.11175425795790839, 0.11638407763669169, 0.12140532807999865, 0.12681173094710232, 0.13259624273657675, 0.13875100919927055, 0.14526732086351918, 0.15213557053785834, 0.1593452136673226, 0.1668847324211574, 0.17474160438219058, 0.18290227669104034, 0.19135214647167784, 0.20007554832861546, 0.2090557496602752, 0.21827495447803924, 0.22771431635644543, 0.2373539610672932, 0.24717301936958785, 0.25714967033886693, 0.26726119552416155, 0.2774840441195075, 0.2877939092302903, 0.29816581520389845, 0.3085742158800105, 0.3189931034996395, 0.3293961278948226, 0.3397567254638334, 0.3500482573212582, 0.3602441558994039, 0.3703180791686361, 0.3802440715405478, 0.3899967304206091, 0.39955137728730883, 0.40888423209386054, 0.4179725897174363, 0.42679499712047697, 0.4353314298398772, 0.4435634663834212, 0.4514744590894393, 0.4590496999957659, 0.4662765802680057, 0.47314474175517235, 0.4796462192729001, 0.4857755722606538, 0.49153000451937434, 0.4969094708094189, 0.50191676917497, 0.5065576179595639, 0.5108407165872851, 0.5147777893044919, 0.5183836112066522, 0.5216760160128573, 0.5246758851955499, 0.5274071182237262, 0.5298965838328894, 0.5321740523930414, 0.534272109605499, 0.5362260519188955, 0.5380737642129721, 0.5398555804542117, 0.541614128178719, 0.5433941578035998, 0.5452423579072585, 0.5472071577502684, 0.5493385184306808, 0.5516877141798687, 0.5543071054062261, 0.5572499051835905, 0.5605699409583095, 0.5643214133129308, 0.568558653675046, 0.5733358828965184, 0.5787069726509605, 0.5847252116057136, 0.5914430783187813, 0.598912022791201, 0.6071822585714381, 0.6163025672608264, 0.6263201172082484, 0.6372802981085903, 0.6492265731335883, 0.6622003501260996, 0.6762408732802543, 0.6913851366111397, 0.707667820389344, 0.7251212515787544, 0.7437753891712505, 0.7636578351602442, 0.7847938717373343, 0.8072065251334967, 0.8309166563592298, 0.855943078927673, 0.882302703472003, 0.9100107089940299, 0.9390807403059043, 0.9695251310519031, 1.0013551515231573, 1.0345812803057284, 1.0692134986322006, 1.1052616061396257, 1.1427355565728285, 1.1816458118121624, 1.2220037124493965, 1.2638218629847904, 1.307114529573072, 1.3518980481060638, 1.398191240285723, 1.446015835213152, 1.495396893897396, 1.5463632339723743, 1.598947851801548, 1.6531883390481499, 1.7091272906939383, 1.7668127014022776, 1.8262983470419016, 1.887644148116472, 1.950916511782893, 2.0161886490883596, 2.083540864013733, 2.1530608108795652, 2.224843716652056, 2.2989925646809035, 2.375618236410462, 2.454839607631577, 2.5367835958856193, 2.6215851556962066, 2.7093872183900407, 2.800340573378065, 2.8946036879037145, 2.992342462429031, 3.0937299190228353, 3.1989458203414864, 3.308176217052374, 3.421612921846063, 3.5394529085159667, 3.661897634955556, 3.78915228933381, 3.9214249591599546, 4.058925723438445, 4.201865668644319, 4.350455829816173, 4.504906058667051, 4.665423821250701, 4.832212928387741, 5.005472202750327, 5.1853940872195805, 5.372163199861906, 5.56595484161306, 5.766933463503641, 5.975251101001489, 6.191045783774801, 6.414439929887033, 6.645538734111987, 6.884428560693652, 7.131175351462879, 7.385823060749798, 7.648392128988308, 7.918878007287073, 8.197249745530625, 8.483448656765214, 8.777387070709873, 9.078947189204344, 9.387980056257753, 9.704304655087787, 10.027707144137045, 10.357940243517808, 10.69472278266672, 11.0377394191893, 11.386640537940167, 11.741042338323968, 12.100527116620148, 12.46464374883613, 12.832908378192442, 13.204805309844987, 13.579788113870942, 13.957280935896609, 14.336680013045182, 14.717355391144949, 15.098652837382675, 15.479895940830398, 15.86038839153592, 16.239416427167964, 16.616251434564, 16.990152691965044, 17.360370236251004, 17.726147838137184, 18.0867260670686, 18.44134542647455, 18.78924953913452, 19.129688361669274, 19.461921406623745, 19.785220950255272, 20.098875203991746, 20.402191427583716, 20.694498962242786, 20.975152162538564, 21.243533206510648, 21.49905476434062, 21.741162507008085, 21.969337437619608, 22.1830980295323, 22.38200215698473, 22.56564880567556, 22.73367955258024, 22.88577980624561, 23.02167980083134, 23.14115533925321, 23.244028282903642, 23.330166787555576, 23.399485287174826, 23.451944229448486, 23.487549568862228, 23.506352025102917, 23.508446116408013, 23.493968979206308, 23.463098986980977, 23.41605418271864, 23.353090540573668, 23.274500073462832, 23.1806088042044, 23.071774618518194, 22.948385018707093, 22.81085479714274, 22.65962364877964, 22.495153741825565, 22.317927265408205, 22.12844397260463, 21.927218736552977, 21.714779136555443, 21.491663090121634, 21.25841654580856, 21.01559125050146, 20.76374260346872, 20.503427608131616, 20.235202931033378, 19.95962307599402, 19.6772386799136, 19.38859493515905, 19.094230141955702, 18.79467439272104, 18.490448388845028, 18.182062389050635, 17.870015287177797, 17.554793816034863, 17.236871872865546, 16.916709960997125, 16.594754741373407, 16.271438686940513, 15.947179832250033, 15.622381610171836, 15.297432767271301, 14.972707349199355, 14.648564747365484, 14.325349798209537, 14.003392926550887, 13.683010324764261, 13.364504159904161, 13.048162801360322, 12.734261062167175, 12.423060447697559, 12.1148094061324, 11.809743575803438, 11.508086025238306, 11.210047482490133, 10.915826551087985, 10.62560991069354, 10.339572501280148, 10.057877690350493, 9.780677423372786, 9.508112358230335, 9.24031198503999, 8.977394733194233, 8.719468067915061, 8.466628578969775, 8.21896206448846, 7.9765436130380065, 7.7394376872475235, 7.5076982123461296, 7.281368672969633, 7.060482221517801, 6.845061801206513, 6.635120286761134, 6.430660645445548, 6.231676120823067, 6.03815044130491, 5.850058055169335, 5.667364393334786, 5.490026160752107, 5.317991656852213, 5.151201125051652, 4.989587130889088, 4.833074967945429, 4.681583090296267, 4.53502356986356, 4.393302576678565, 4.256320879744153, 4.12397436589742, 3.9961545738228574, 3.872749240158045, 3.7536428544670457, 3.638717219732768, 3.5278520149399943, 3.420925356282744, 3.3178143535342577, 3.218395658162146, 3.12254599985274, 3.030142708226321, 2.941064216673341, 2.8551905454198216, 2.7724037611330385, 2.6925884106025375, 2.615631926273822, 2.5414250016676054, 2.4698619349831925, 2.400840939457115, 2.334264419322942, 2.270039210493344, 2.208076785356918, 2.1482934213478257, 2.0906103332035295, 2.0349537690723394, 1.9812550708669312, 1.9294506994806746, 1.87948222568927, 1.8312962877508725, 1.7848445168918128, 1.7400834320234055, 1.696974305177069, 1.6554829992709665, 1.6155797799319065, 1.5772391031918065, 1.540439380959346, 1.5051627262354779, 1.4713946800967295, 1.4391239225138956, 1.408341969106393, 1.3790428559549508, 1.3512228146086034, 1.3248799394260469, 1.3000138493876705, 1.2766253465028616, 1.2547160729180018, 1.2342881688044733, 1.2153439330724751, 1.1978854889163406, 1.181914456149662, 1.1674316322340845, 1.154436683844041, 1.1429278507404654, 1.1329016636498392, 1.1243526777603072, 1.117273223354031, 1.1116531749943546, 1.107479740577583, 1.1047372714424109, 1.103407094605387, 1.1034673680584903, 1.10489295992547, 1.1076553521274448, 1.1117225690561727, 1.1170591315961393, 1.123626036675154, 1.1313807623585634, 1.14027729833567, 1.1502662014798395, 1.1612946759973992, 1.173306677516283, 1.186243040304992, 1.2000416266572513, 1.2146374973293477, 1.2299631017770347, 1.2459484868084256, 1.2625215221499946, 1.279608141315778, 1.2971325960763112, 1.3150177227448183, 1.333185218434302, 1.3515559253914222, 1.3700501214815113, 1.3885878148842965, 1.4070890410617392, 1.425474160077713, 1.4436641523838096, 1.4615809112355067, 1.479147529967753, 1.4962885824376657, 1.5129303950332025, 1.5290013087494703, 1.544431929946901, 1.5591553685267299, 1.573107462387306, 1.586226987158021, 1.598455850344677, 1.6097392691588994, 1.6200259314434433, 1.6292681392431134, 1.6374219347061298, 1.6444472081316897, 1.6503077881049328, 1.6549715137792937, 1.6584102894774584, 1.660600121884808, 1.6615211402028978, 1.6611575997144594, 1.659497869285539, 1.6565344033943865, 1.6522636993307391, 1.6466862402533589, 1.6398064248284132, 1.6316324841970706, 1.6221763870380717, 1.6114537335007495, 1.599483638786878, 1.5862886071565028, 1.5718943971246495, 1.5563298786032878, 1.5396268827270945, 1.5218200450833794, 1.5029466430467162, 1.4830464278982665, 1.4621614523893018, 1.4403358943883446, 1.417615877232626, 1.394049287387334, 1.369685590000803, 1.344575642930764, 1.318771509805815], \"yaxis\": \"y\"}, {\"legendgroup\": \"profit_ratio\", \"marker\": {\"color\": \"rgb(31, 119, 180)\", \"symbol\": \"line-ns-open\"}, \"mode\": \"markers\", \"name\": \"profit_ratio\", \"showlegend\": false, \"type\": \"scatter\", \"x\": [-0.03455674, 0.03524291, 0.02896101, 0.02812114, 0.02617337, 0.03612935, 0.03955, 0.04393277, 0.03221122, 0.03055694, 0.02396975, 0.02054652, 0.0369716, 0.02183585, 0.02390132, 0.02170469, 0.04627324, 0.04515301, 0.06219985, 0.02215365, 0.03194083, 0.04410517, 0.02755099, 0.02860294, 0.02367408, 0.04247559, 0.02330702, 0.00907041, 0.02106453, 0.02810894, 0.03979573, 0.0211433, 0.05535686, 0.06054271, 0.02082326, 0.02540113, 0.10186929, 0.032, 0.10749566, 0.07196275, 0.02843203, 0.00095359, 0.02772813, 0.04216757, 0.02628513, 0.02163227, 0.03090374, 0.03496813, 0.02583731, 0.0463349, 0.04074696, 0.02274767, 0.03513667, -0.00873712, 0.02435818, 0.02177024, 0.04357683, 0.01479073, 0.09445504, 0.0924895, -0.08070478, 0.02356323, 0.0163365, 0.01692984, 0.02177089, 0.02034197, 0.02547349, 0.02908883, 0.0201384, 0.02100564, 0.03805813, 0.00713703, 0.01235821, 0.03284895, -0.0059339, 0.00486849, 0.02170385, 0.03240636, 0.02046909], \"xaxis\": \"x\", \"y\": [\"profit_ratio\", \"profit_ratio\", \"profit_ratio\", \"profit_ratio\", \"profit_ratio\", \"profit_ratio\", \"profit_ratio\", \"profit_ratio\", \"profit_ratio\", \"profit_ratio\", \"profit_ratio\", \"profit_ratio\", \"profit_ratio\", \"profit_ratio\", \"profit_ratio\", \"profit_ratio\", \"profit_ratio\", \"profit_ratio\", \"profit_ratio\", \"profit_ratio\", \"profit_ratio\", \"profit_ratio\", \"profit_ratio\", \"profit_ratio\", \"profit_ratio\", \"profit_ratio\", \"profit_ratio\", \"profit_ratio\", \"profit_ratio\", \"profit_ratio\", \"profit_ratio\", \"profit_ratio\", \"profit_ratio\", \"profit_ratio\", \"profit_ratio\", \"profit_ratio\", \"profit_ratio\", \"profit_ratio\", \"profit_ratio\", \"profit_ratio\", \"profit_ratio\", \"profit_ratio\", \"profit_ratio\", \"profit_ratio\", \"profit_ratio\", \"profit_ratio\", \"profit_ratio\", \"profit_ratio\", \"profit_ratio\", \"profit_ratio\", \"profit_ratio\", \"profit_ratio\", \"profit_ratio\", \"profit_ratio\", \"profit_ratio\", \"profit_ratio\", \"profit_ratio\", \"profit_ratio\", \"profit_ratio\", \"profit_ratio\", \"profit_ratio\", \"profit_ratio\", \"profit_ratio\", \"profit_ratio\", \"profit_ratio\", \"profit_ratio\", \"profit_ratio\", \"profit_ratio\", \"profit_ratio\", \"profit_ratio\", \"profit_ratio\", \"profit_ratio\", \"profit_ratio\", \"profit_ratio\", \"profit_ratio\", \"profit_ratio\", \"profit_ratio\", \"profit_ratio\", \"profit_ratio\"], \"yaxis\": \"y2\"}],                        {\"barmode\": \"overlay\", \"hovermode\": \"closest\", \"legend\": {\"traceorder\": \"reversed\"}, \"template\": {\"data\": {\"bar\": [{\"error_x\": {\"color\": \"#2a3f5f\"}, \"error_y\": {\"color\": \"#2a3f5f\"}, \"marker\": {\"line\": {\"color\": \"#E5ECF6\", \"width\": 0.5}}, \"type\": \"bar\"}], \"barpolar\": [{\"marker\": {\"line\": {\"color\": \"#E5ECF6\", \"width\": 0.5}}, \"type\": \"barpolar\"}], \"carpet\": [{\"aaxis\": {\"endlinecolor\": \"#2a3f5f\", \"gridcolor\": \"white\", \"linecolor\": \"white\", \"minorgridcolor\": \"white\", \"startlinecolor\": \"#2a3f5f\"}, \"baxis\": {\"endlinecolor\": \"#2a3f5f\", \"gridcolor\": \"white\", \"linecolor\": \"white\", \"minorgridcolor\": \"white\", \"startlinecolor\": \"#2a3f5f\"}, \"type\": \"carpet\"}], \"choropleth\": [{\"colorbar\": {\"outlinewidth\": 0, \"ticks\": \"\"}, \"type\": \"choropleth\"}], \"contour\": [{\"colorbar\": {\"outlinewidth\": 0, \"ticks\": \"\"}, \"colorscale\": [[0.0, \"#0d0887\"], [0.1111111111111111, \"#46039f\"], [0.2222222222222222, \"#7201a8\"], [0.3333333333333333, \"#9c179e\"], [0.4444444444444444, \"#bd3786\"], [0.5555555555555556, \"#d8576b\"], [0.6666666666666666, \"#ed7953\"], [0.7777777777777778, \"#fb9f3a\"], [0.8888888888888888, \"#fdca26\"], [1.0, \"#f0f921\"]], \"type\": \"contour\"}], \"contourcarpet\": [{\"colorbar\": {\"outlinewidth\": 0, \"ticks\": \"\"}, \"type\": \"contourcarpet\"}], \"heatmap\": [{\"colorbar\": {\"outlinewidth\": 0, \"ticks\": \"\"}, \"colorscale\": [[0.0, \"#0d0887\"], [0.1111111111111111, \"#46039f\"], [0.2222222222222222, \"#7201a8\"], [0.3333333333333333, \"#9c179e\"], [0.4444444444444444, \"#bd3786\"], [0.5555555555555556, \"#d8576b\"], [0.6666666666666666, \"#ed7953\"], [0.7777777777777778, \"#fb9f3a\"], [0.8888888888888888, \"#fdca26\"], [1.0, \"#f0f921\"]], \"type\": \"heatmap\"}], \"heatmapgl\": [{\"colorbar\": {\"outlinewidth\": 0, \"ticks\": \"\"}, \"colorscale\": [[0.0, \"#0d0887\"], [0.1111111111111111, \"#46039f\"], [0.2222222222222222, \"#7201a8\"], [0.3333333333333333, \"#9c179e\"], [0.4444444444444444, \"#bd3786\"], [0.5555555555555556, \"#d8576b\"], [0.6666666666666666, \"#ed7953\"], [0.7777777777777778, \"#fb9f3a\"], [0.8888888888888888, \"#fdca26\"], [1.0, \"#f0f921\"]], \"type\": \"heatmapgl\"}], \"histogram\": [{\"marker\": {\"colorbar\": {\"outlinewidth\": 0, \"ticks\": \"\"}}, \"type\": \"histogram\"}], \"histogram2d\": [{\"colorbar\": {\"outlinewidth\": 0, \"ticks\": \"\"}, \"colorscale\": [[0.0, \"#0d0887\"], [0.1111111111111111, \"#46039f\"], [0.2222222222222222, \"#7201a8\"], [0.3333333333333333, \"#9c179e\"], [0.4444444444444444, \"#bd3786\"], [0.5555555555555556, \"#d8576b\"], [0.6666666666666666, \"#ed7953\"], [0.7777777777777778, \"#fb9f3a\"], [0.8888888888888888, \"#fdca26\"], [1.0, \"#f0f921\"]], \"type\": \"histogram2d\"}], \"histogram2dcontour\": [{\"colorbar\": {\"outlinewidth\": 0, \"ticks\": \"\"}, \"colorscale\": [[0.0, \"#0d0887\"], [0.1111111111111111, \"#46039f\"], [0.2222222222222222, \"#7201a8\"], [0.3333333333333333, \"#9c179e\"], [0.4444444444444444, \"#bd3786\"], [0.5555555555555556, \"#d8576b\"], [0.6666666666666666, \"#ed7953\"], [0.7777777777777778, \"#fb9f3a\"], [0.8888888888888888, \"#fdca26\"], [1.0, \"#f0f921\"]], \"type\": \"histogram2dcontour\"}], \"mesh3d\": [{\"colorbar\": {\"outlinewidth\": 0, \"ticks\": \"\"}, \"type\": \"mesh3d\"}], \"parcoords\": [{\"line\": {\"colorbar\": {\"outlinewidth\": 0, \"ticks\": \"\"}}, \"type\": \"parcoords\"}], \"pie\": [{\"automargin\": true, \"type\": \"pie\"}], \"scatter\": [{\"marker\": {\"colorbar\": {\"outlinewidth\": 0, \"ticks\": \"\"}}, \"type\": \"scatter\"}], \"scatter3d\": [{\"line\": {\"colorbar\": {\"outlinewidth\": 0, \"ticks\": \"\"}}, \"marker\": {\"colorbar\": {\"outlinewidth\": 0, \"ticks\": \"\"}}, \"type\": \"scatter3d\"}], \"scattercarpet\": [{\"marker\": {\"colorbar\": {\"outlinewidth\": 0, \"ticks\": \"\"}}, \"type\": \"scattercarpet\"}], \"scattergeo\": [{\"marker\": {\"colorbar\": {\"outlinewidth\": 0, \"ticks\": \"\"}}, \"type\": \"scattergeo\"}], \"scattergl\": [{\"marker\": {\"colorbar\": {\"outlinewidth\": 0, \"ticks\": \"\"}}, \"type\": \"scattergl\"}], \"scattermapbox\": [{\"marker\": {\"colorbar\": {\"outlinewidth\": 0, \"ticks\": \"\"}}, \"type\": \"scattermapbox\"}], \"scatterpolar\": [{\"marker\": {\"colorbar\": {\"outlinewidth\": 0, \"ticks\": \"\"}}, \"type\": \"scatterpolar\"}], \"scatterpolargl\": [{\"marker\": {\"colorbar\": {\"outlinewidth\": 0, \"ticks\": \"\"}}, \"type\": \"scatterpolargl\"}], \"scatterternary\": [{\"marker\": {\"colorbar\": {\"outlinewidth\": 0, \"ticks\": \"\"}}, \"type\": \"scatterternary\"}], \"surface\": [{\"colorbar\": {\"outlinewidth\": 0, \"ticks\": \"\"}, \"colorscale\": [[0.0, \"#0d0887\"], [0.1111111111111111, \"#46039f\"], [0.2222222222222222, \"#7201a8\"], [0.3333333333333333, \"#9c179e\"], [0.4444444444444444, \"#bd3786\"], [0.5555555555555556, \"#d8576b\"], [0.6666666666666666, \"#ed7953\"], [0.7777777777777778, \"#fb9f3a\"], [0.8888888888888888, \"#fdca26\"], [1.0, \"#f0f921\"]], \"type\": \"surface\"}], \"table\": [{\"cells\": {\"fill\": {\"color\": \"#EBF0F8\"}, \"line\": {\"color\": \"white\"}}, \"header\": {\"fill\": {\"color\": \"#C8D4E3\"}, \"line\": {\"color\": \"white\"}}, \"type\": \"table\"}]}, \"layout\": {\"annotationdefaults\": {\"arrowcolor\": \"#2a3f5f\", \"arrowhead\": 0, \"arrowwidth\": 1}, \"autotypenumbers\": \"strict\", \"coloraxis\": {\"colorbar\": {\"outlinewidth\": 0, \"ticks\": \"\"}}, \"colorscale\": {\"diverging\": [[0, \"#8e0152\"], [0.1, \"#c51b7d\"], [0.2, \"#de77ae\"], [0.3, \"#f1b6da\"], [0.4, \"#fde0ef\"], [0.5, \"#f7f7f7\"], [0.6, \"#e6f5d0\"], [0.7, \"#b8e186\"], [0.8, \"#7fbc41\"], [0.9, \"#4d9221\"], [1, \"#276419\"]], \"sequential\": [[0.0, \"#0d0887\"], [0.1111111111111111, \"#46039f\"], [0.2222222222222222, \"#7201a8\"], [0.3333333333333333, \"#9c179e\"], [0.4444444444444444, \"#bd3786\"], [0.5555555555555556, \"#d8576b\"], [0.6666666666666666, \"#ed7953\"], [0.7777777777777778, \"#fb9f3a\"], [0.8888888888888888, \"#fdca26\"], [1.0, \"#f0f921\"]], \"sequentialminus\": [[0.0, \"#0d0887\"], [0.1111111111111111, \"#46039f\"], [0.2222222222222222, \"#7201a8\"], [0.3333333333333333, \"#9c179e\"], [0.4444444444444444, \"#bd3786\"], [0.5555555555555556, \"#d8576b\"], [0.6666666666666666, \"#ed7953\"], [0.7777777777777778, \"#fb9f3a\"], [0.8888888888888888, \"#fdca26\"], [1.0, \"#f0f921\"]]}, \"colorway\": [\"#636efa\", \"#EF553B\", \"#00cc96\", \"#ab63fa\", \"#FFA15A\", \"#19d3f3\", \"#FF6692\", \"#B6E880\", \"#FF97FF\", \"#FECB52\"], \"font\": {\"color\": \"#2a3f5f\"}, \"geo\": {\"bgcolor\": \"white\", \"lakecolor\": \"white\", \"landcolor\": \"#E5ECF6\", \"showlakes\": true, \"showland\": true, \"subunitcolor\": \"white\"}, \"hoverlabel\": {\"align\": \"left\"}, \"hovermode\": \"closest\", \"mapbox\": {\"style\": \"light\"}, \"paper_bgcolor\": \"white\", \"plot_bgcolor\": \"#E5ECF6\", \"polar\": {\"angularaxis\": {\"gridcolor\": \"white\", \"linecolor\": \"white\", \"ticks\": \"\"}, \"bgcolor\": \"#E5ECF6\", \"radialaxis\": {\"gridcolor\": \"white\", \"linecolor\": \"white\", \"ticks\": \"\"}}, \"scene\": {\"xaxis\": {\"backgroundcolor\": \"#E5ECF6\", \"gridcolor\": \"white\", \"gridwidth\": 2, \"linecolor\": \"white\", \"showbackground\": true, \"ticks\": \"\", \"zerolinecolor\": \"white\"}, \"yaxis\": {\"backgroundcolor\": \"#E5ECF6\", \"gridcolor\": \"white\", \"gridwidth\": 2, \"linecolor\": \"white\", \"showbackground\": true, \"ticks\": \"\", \"zerolinecolor\": \"white\"}, \"zaxis\": {\"backgroundcolor\": \"#E5ECF6\", \"gridcolor\": \"white\", \"gridwidth\": 2, \"linecolor\": \"white\", \"showbackground\": true, \"ticks\": \"\", \"zerolinecolor\": \"white\"}}, \"shapedefaults\": {\"line\": {\"color\": \"#2a3f5f\"}}, \"ternary\": {\"aaxis\": {\"gridcolor\": \"white\", \"linecolor\": \"white\", \"ticks\": \"\"}, \"baxis\": {\"gridcolor\": \"white\", \"linecolor\": \"white\", \"ticks\": \"\"}, \"bgcolor\": \"#E5ECF6\", \"caxis\": {\"gridcolor\": \"white\", \"linecolor\": \"white\", \"ticks\": \"\"}}, \"title\": {\"x\": 0.05}, \"xaxis\": {\"automargin\": true, \"gridcolor\": \"white\", \"linecolor\": \"white\", \"ticks\": \"\", \"title\": {\"standoff\": 15}, \"zerolinecolor\": \"white\", \"zerolinewidth\": 2}, \"yaxis\": {\"automargin\": true, \"gridcolor\": \"white\", \"linecolor\": \"white\", \"ticks\": \"\", \"title\": {\"standoff\": 15}, \"zerolinecolor\": \"white\", \"zerolinewidth\": 2}}}, \"xaxis\": {\"anchor\": \"y2\", \"domain\": [0.0, 1.0], \"zeroline\": false}, \"yaxis\": {\"anchor\": \"free\", \"domain\": [0.35, 1], \"position\": 0.0}, \"yaxis2\": {\"anchor\": \"x\", \"domain\": [0, 0.25], \"dtick\": 1, \"showticklabels\": false}},                        {\"responsive\": true}                    ).then(function(){\n",
       "                            \n",
       "var gd = document.getElementById('d305e94e-5049-4224-b7ba-8c31310e9ec9');\n",
       "var x = new MutationObserver(function (mutations, observer) {{\n",
       "        var display = window.getComputedStyle(gd).display;\n",
       "        if (!display || display === 'none') {{\n",
       "            console.log([gd, 'removed!']);\n",
       "            Plotly.purge(gd);\n",
       "            observer.disconnect();\n",
       "        }}\n",
       "}});\n",
       "\n",
       "// Listen for the removal of the full notebook cells\n",
       "var notebookContainer = gd.closest('#notebook-container');\n",
       "if (notebookContainer) {{\n",
       "    x.observe(notebookContainer, {childList: true});\n",
       "}}\n",
       "\n",
       "// Listen for the clearing of the current output cell\n",
       "var outputEl = gd.closest('.output');\n",
       "if (outputEl) {{\n",
       "    x.observe(outputEl, {childList: true});\n",
       "}}\n",
       "\n",
       "                        })                };                });            </script>        </div>"
      ]
     },
     "metadata": {},
     "output_type": "display_data"
    }
   ],
   "source": [
    "import plotly.figure_factory as ff\n",
    "\n",
    "hist_data = [trades.profit_ratio]\n",
    "group_labels = ['profit_ratio']  # name of the dataset\n",
    "\n",
    "fig = ff.create_distplot(hist_data, group_labels,bin_size=0.01)\n",
    "fig.show()\n"
   ]
  },
  {
   "cell_type": "markdown",
   "metadata": {},
   "source": [
    "Feel free to submit an issue or Pull Request enhancing this document if you would like to share ideas on how to best analyze the data."
   ]
  }
 ],
 "metadata": {
  "file_extension": ".py",
  "kernelspec": {
   "display_name": "Python 3",
   "language": "python",
   "name": "python3"
  },
  "language_info": {
   "codemirror_mode": {
    "name": "ipython",
    "version": 3
   },
   "file_extension": ".py",
   "mimetype": "text/x-python",
   "name": "python",
   "nbconvert_exporter": "python",
   "pygments_lexer": "ipython3",
   "version": "3.9.5"
  },
  "mimetype": "text/x-python",
  "name": "python",
  "npconvert_exporter": "python",
  "pygments_lexer": "ipython3",
  "toc": {
   "base_numbering": 1,
   "nav_menu": {},
   "number_sections": true,
   "sideBar": true,
   "skip_h1_title": false,
   "title_cell": "Table of Contents",
   "title_sidebar": "Contents",
   "toc_cell": false,
   "toc_position": {},
   "toc_section_display": true,
   "toc_window_display": false
  },
  "varInspector": {
   "cols": {
    "lenName": 16,
    "lenType": 16,
    "lenVar": 40
   },
   "kernels_config": {
    "python": {
     "delete_cmd_postfix": "",
     "delete_cmd_prefix": "del ",
     "library": "var_list.py",
     "varRefreshCmd": "print(var_dic_list())"
    },
    "r": {
     "delete_cmd_postfix": ") ",
     "delete_cmd_prefix": "rm(",
     "library": "var_list.r",
     "varRefreshCmd": "cat(var_dic_list()) "
    }
   },
   "types_to_exclude": [
    "module",
    "function",
    "builtin_function_or_method",
    "instance",
    "_Feature"
   ],
   "window_display": false
  },
  "version": 3
 },
 "nbformat": 4,
 "nbformat_minor": 4
}
